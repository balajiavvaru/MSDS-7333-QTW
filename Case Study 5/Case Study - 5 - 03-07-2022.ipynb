{
 "cells": [
  {
   "cell_type": "markdown",
   "id": "35d44849",
   "metadata": {},
   "source": [
    "### Case Study - 5 Cybersecurity Automation of Firewall Traffic "
   ]
  },
  {
   "cell_type": "code",
   "execution_count": 1,
   "id": "77fc99db",
   "metadata": {},
   "outputs": [],
   "source": [
    "import os\n",
    "import pandas as pd\n",
    "import re\n",
    "import datetime as dt\n",
    "import numpy as np\n",
    "from IPython.display import display\n",
    "import warnings\n",
    "import seaborn as sns\n",
    "from sklearn.preprocessing import StandardScaler\n",
    "from sklearn import metrics as mt\n",
    "from sklearn.metrics import classification_report\n",
    "from sklearn.metrics import f1_score\n",
    "import matplotlib.pyplot as plt\n",
    "from sklearn.linear_model import SGDClassifier\n",
    "from sklearn.metrics import precision_recall_curve, plot_precision_recall_curve, accuracy_score, confusion_matrix, average_precision_score\n",
    "from sklearn.preprocessing import label_binarize, StandardScaler\n",
    "from sklearn import metrics as mt\n",
    "from sklearn.model_selection import cross_validate, cross_val_predict, StratifiedKFold, GridSearchCV, RandomizedSearchCV\n",
    "warnings.filterwarnings('ignore')"
   ]
  },
  {
   "cell_type": "code",
   "execution_count": 2,
   "id": "96f6dbac",
   "metadata": {},
   "outputs": [],
   "source": [
    "#Bring in the data\n",
    "df = pd.read_csv('log2.csv') # read in the csv file"
   ]
  },
  {
   "cell_type": "code",
   "execution_count": 3,
   "id": "5ee88b6b",
   "metadata": {},
   "outputs": [
    {
     "data": {
      "text/html": [
       "<div>\n",
       "<style scoped>\n",
       "    .dataframe tbody tr th:only-of-type {\n",
       "        vertical-align: middle;\n",
       "    }\n",
       "\n",
       "    .dataframe tbody tr th {\n",
       "        vertical-align: top;\n",
       "    }\n",
       "\n",
       "    .dataframe thead th {\n",
       "        text-align: right;\n",
       "    }\n",
       "</style>\n",
       "<table border=\"1\" class=\"dataframe\">\n",
       "  <thead>\n",
       "    <tr style=\"text-align: right;\">\n",
       "      <th></th>\n",
       "      <th>Source Port</th>\n",
       "      <th>Destination Port</th>\n",
       "      <th>NAT Source Port</th>\n",
       "      <th>NAT Destination Port</th>\n",
       "      <th>Action</th>\n",
       "      <th>Bytes</th>\n",
       "      <th>Bytes Sent</th>\n",
       "      <th>Bytes Received</th>\n",
       "      <th>Packets</th>\n",
       "      <th>Elapsed Time (sec)</th>\n",
       "      <th>pkts_sent</th>\n",
       "      <th>pkts_received</th>\n",
       "    </tr>\n",
       "  </thead>\n",
       "  <tbody>\n",
       "    <tr>\n",
       "      <th>0</th>\n",
       "      <td>57222</td>\n",
       "      <td>53</td>\n",
       "      <td>54587</td>\n",
       "      <td>53</td>\n",
       "      <td>allow</td>\n",
       "      <td>177</td>\n",
       "      <td>94</td>\n",
       "      <td>83</td>\n",
       "      <td>2</td>\n",
       "      <td>30</td>\n",
       "      <td>1</td>\n",
       "      <td>1</td>\n",
       "    </tr>\n",
       "    <tr>\n",
       "      <th>1</th>\n",
       "      <td>56258</td>\n",
       "      <td>3389</td>\n",
       "      <td>56258</td>\n",
       "      <td>3389</td>\n",
       "      <td>allow</td>\n",
       "      <td>4768</td>\n",
       "      <td>1600</td>\n",
       "      <td>3168</td>\n",
       "      <td>19</td>\n",
       "      <td>17</td>\n",
       "      <td>10</td>\n",
       "      <td>9</td>\n",
       "    </tr>\n",
       "    <tr>\n",
       "      <th>2</th>\n",
       "      <td>6881</td>\n",
       "      <td>50321</td>\n",
       "      <td>43265</td>\n",
       "      <td>50321</td>\n",
       "      <td>allow</td>\n",
       "      <td>238</td>\n",
       "      <td>118</td>\n",
       "      <td>120</td>\n",
       "      <td>2</td>\n",
       "      <td>1199</td>\n",
       "      <td>1</td>\n",
       "      <td>1</td>\n",
       "    </tr>\n",
       "    <tr>\n",
       "      <th>3</th>\n",
       "      <td>50553</td>\n",
       "      <td>3389</td>\n",
       "      <td>50553</td>\n",
       "      <td>3389</td>\n",
       "      <td>allow</td>\n",
       "      <td>3327</td>\n",
       "      <td>1438</td>\n",
       "      <td>1889</td>\n",
       "      <td>15</td>\n",
       "      <td>17</td>\n",
       "      <td>8</td>\n",
       "      <td>7</td>\n",
       "    </tr>\n",
       "    <tr>\n",
       "      <th>4</th>\n",
       "      <td>50002</td>\n",
       "      <td>443</td>\n",
       "      <td>45848</td>\n",
       "      <td>443</td>\n",
       "      <td>allow</td>\n",
       "      <td>25358</td>\n",
       "      <td>6778</td>\n",
       "      <td>18580</td>\n",
       "      <td>31</td>\n",
       "      <td>16</td>\n",
       "      <td>13</td>\n",
       "      <td>18</td>\n",
       "    </tr>\n",
       "  </tbody>\n",
       "</table>\n",
       "</div>"
      ],
      "text/plain": [
       "   Source Port  Destination Port  NAT Source Port  NAT Destination Port  \\\n",
       "0        57222                53            54587                    53   \n",
       "1        56258              3389            56258                  3389   \n",
       "2         6881             50321            43265                 50321   \n",
       "3        50553              3389            50553                  3389   \n",
       "4        50002               443            45848                   443   \n",
       "\n",
       "  Action  Bytes  Bytes Sent  Bytes Received  Packets  Elapsed Time (sec)  \\\n",
       "0  allow    177          94              83        2                  30   \n",
       "1  allow   4768        1600            3168       19                  17   \n",
       "2  allow    238         118             120        2                1199   \n",
       "3  allow   3327        1438            1889       15                  17   \n",
       "4  allow  25358        6778           18580       31                  16   \n",
       "\n",
       "   pkts_sent  pkts_received  \n",
       "0          1              1  \n",
       "1         10              9  \n",
       "2          1              1  \n",
       "3          8              7  \n",
       "4         13             18  "
      ]
     },
     "execution_count": 3,
     "metadata": {},
     "output_type": "execute_result"
    }
   ],
   "source": [
    "df.head()"
   ]
  },
  {
   "cell_type": "code",
   "execution_count": 4,
   "id": "73d2a27a",
   "metadata": {},
   "outputs": [
    {
     "name": "stdout",
     "output_type": "stream",
     "text": [
      "<class 'pandas.core.frame.DataFrame'>\n",
      "RangeIndex: 65532 entries, 0 to 65531\n",
      "Data columns (total 12 columns):\n",
      " #   Column                Non-Null Count  Dtype \n",
      "---  ------                --------------  ----- \n",
      " 0   Source Port           65532 non-null  int64 \n",
      " 1   Destination Port      65532 non-null  int64 \n",
      " 2   NAT Source Port       65532 non-null  int64 \n",
      " 3   NAT Destination Port  65532 non-null  int64 \n",
      " 4   Action                65532 non-null  object\n",
      " 5   Bytes                 65532 non-null  int64 \n",
      " 6   Bytes Sent            65532 non-null  int64 \n",
      " 7   Bytes Received        65532 non-null  int64 \n",
      " 8   Packets               65532 non-null  int64 \n",
      " 9   Elapsed Time (sec)    65532 non-null  int64 \n",
      " 10  pkts_sent             65532 non-null  int64 \n",
      " 11  pkts_received         65532 non-null  int64 \n",
      "dtypes: int64(11), object(1)\n",
      "memory usage: 6.0+ MB\n"
     ]
    }
   ],
   "source": [
    "df.info()"
   ]
  },
  {
   "cell_type": "code",
   "execution_count": 5,
   "id": "5b3aec8d",
   "metadata": {},
   "outputs": [
    {
     "data": {
      "text/html": [
       "<div>\n",
       "<style scoped>\n",
       "    .dataframe tbody tr th:only-of-type {\n",
       "        vertical-align: middle;\n",
       "    }\n",
       "\n",
       "    .dataframe tbody tr th {\n",
       "        vertical-align: top;\n",
       "    }\n",
       "\n",
       "    .dataframe thead th {\n",
       "        text-align: right;\n",
       "    }\n",
       "</style>\n",
       "<table border=\"1\" class=\"dataframe\">\n",
       "  <thead>\n",
       "    <tr style=\"text-align: right;\">\n",
       "      <th></th>\n",
       "      <th>Source Port</th>\n",
       "      <th>Destination Port</th>\n",
       "      <th>NAT Source Port</th>\n",
       "      <th>NAT Destination Port</th>\n",
       "      <th>Bytes</th>\n",
       "      <th>Bytes Sent</th>\n",
       "      <th>Bytes Received</th>\n",
       "      <th>Packets</th>\n",
       "      <th>Elapsed Time (sec)</th>\n",
       "      <th>pkts_sent</th>\n",
       "      <th>pkts_received</th>\n",
       "    </tr>\n",
       "  </thead>\n",
       "  <tbody>\n",
       "    <tr>\n",
       "      <th>count</th>\n",
       "      <td>65532.000000</td>\n",
       "      <td>65532.000000</td>\n",
       "      <td>65532.000000</td>\n",
       "      <td>65532.000000</td>\n",
       "      <td>6.553200e+04</td>\n",
       "      <td>6.553200e+04</td>\n",
       "      <td>6.553200e+04</td>\n",
       "      <td>6.553200e+04</td>\n",
       "      <td>65532.000000</td>\n",
       "      <td>65532.000000</td>\n",
       "      <td>65532.000000</td>\n",
       "    </tr>\n",
       "    <tr>\n",
       "      <th>mean</th>\n",
       "      <td>49391.969343</td>\n",
       "      <td>10577.385812</td>\n",
       "      <td>19282.972761</td>\n",
       "      <td>2671.049930</td>\n",
       "      <td>9.712395e+04</td>\n",
       "      <td>2.238580e+04</td>\n",
       "      <td>7.473815e+04</td>\n",
       "      <td>1.028660e+02</td>\n",
       "      <td>65.833577</td>\n",
       "      <td>41.399530</td>\n",
       "      <td>61.466505</td>\n",
       "    </tr>\n",
       "    <tr>\n",
       "      <th>std</th>\n",
       "      <td>15255.712537</td>\n",
       "      <td>18466.027039</td>\n",
       "      <td>21970.689669</td>\n",
       "      <td>9739.162278</td>\n",
       "      <td>5.618439e+06</td>\n",
       "      <td>3.828139e+06</td>\n",
       "      <td>2.463208e+06</td>\n",
       "      <td>5.133002e+03</td>\n",
       "      <td>302.461762</td>\n",
       "      <td>3218.871288</td>\n",
       "      <td>2223.332271</td>\n",
       "    </tr>\n",
       "    <tr>\n",
       "      <th>min</th>\n",
       "      <td>0.000000</td>\n",
       "      <td>0.000000</td>\n",
       "      <td>0.000000</td>\n",
       "      <td>0.000000</td>\n",
       "      <td>6.000000e+01</td>\n",
       "      <td>6.000000e+01</td>\n",
       "      <td>0.000000e+00</td>\n",
       "      <td>1.000000e+00</td>\n",
       "      <td>0.000000</td>\n",
       "      <td>1.000000</td>\n",
       "      <td>0.000000</td>\n",
       "    </tr>\n",
       "    <tr>\n",
       "      <th>25%</th>\n",
       "      <td>49183.000000</td>\n",
       "      <td>80.000000</td>\n",
       "      <td>0.000000</td>\n",
       "      <td>0.000000</td>\n",
       "      <td>6.600000e+01</td>\n",
       "      <td>6.600000e+01</td>\n",
       "      <td>0.000000e+00</td>\n",
       "      <td>1.000000e+00</td>\n",
       "      <td>0.000000</td>\n",
       "      <td>1.000000</td>\n",
       "      <td>0.000000</td>\n",
       "    </tr>\n",
       "    <tr>\n",
       "      <th>50%</th>\n",
       "      <td>53776.500000</td>\n",
       "      <td>445.000000</td>\n",
       "      <td>8820.500000</td>\n",
       "      <td>53.000000</td>\n",
       "      <td>1.680000e+02</td>\n",
       "      <td>9.000000e+01</td>\n",
       "      <td>7.900000e+01</td>\n",
       "      <td>2.000000e+00</td>\n",
       "      <td>15.000000</td>\n",
       "      <td>1.000000</td>\n",
       "      <td>1.000000</td>\n",
       "    </tr>\n",
       "    <tr>\n",
       "      <th>75%</th>\n",
       "      <td>58638.000000</td>\n",
       "      <td>15000.000000</td>\n",
       "      <td>38366.250000</td>\n",
       "      <td>443.000000</td>\n",
       "      <td>7.522500e+02</td>\n",
       "      <td>2.100000e+02</td>\n",
       "      <td>4.490000e+02</td>\n",
       "      <td>6.000000e+00</td>\n",
       "      <td>30.000000</td>\n",
       "      <td>3.000000</td>\n",
       "      <td>2.000000</td>\n",
       "    </tr>\n",
       "    <tr>\n",
       "      <th>max</th>\n",
       "      <td>65534.000000</td>\n",
       "      <td>65535.000000</td>\n",
       "      <td>65535.000000</td>\n",
       "      <td>65535.000000</td>\n",
       "      <td>1.269359e+09</td>\n",
       "      <td>9.484772e+08</td>\n",
       "      <td>3.208818e+08</td>\n",
       "      <td>1.036116e+06</td>\n",
       "      <td>10824.000000</td>\n",
       "      <td>747520.000000</td>\n",
       "      <td>327208.000000</td>\n",
       "    </tr>\n",
       "  </tbody>\n",
       "</table>\n",
       "</div>"
      ],
      "text/plain": [
       "        Source Port  Destination Port  NAT Source Port  NAT Destination Port  \\\n",
       "count  65532.000000      65532.000000     65532.000000          65532.000000   \n",
       "mean   49391.969343      10577.385812     19282.972761           2671.049930   \n",
       "std    15255.712537      18466.027039     21970.689669           9739.162278   \n",
       "min        0.000000          0.000000         0.000000              0.000000   \n",
       "25%    49183.000000         80.000000         0.000000              0.000000   \n",
       "50%    53776.500000        445.000000      8820.500000             53.000000   \n",
       "75%    58638.000000      15000.000000     38366.250000            443.000000   \n",
       "max    65534.000000      65535.000000     65535.000000          65535.000000   \n",
       "\n",
       "              Bytes    Bytes Sent  Bytes Received       Packets  \\\n",
       "count  6.553200e+04  6.553200e+04    6.553200e+04  6.553200e+04   \n",
       "mean   9.712395e+04  2.238580e+04    7.473815e+04  1.028660e+02   \n",
       "std    5.618439e+06  3.828139e+06    2.463208e+06  5.133002e+03   \n",
       "min    6.000000e+01  6.000000e+01    0.000000e+00  1.000000e+00   \n",
       "25%    6.600000e+01  6.600000e+01    0.000000e+00  1.000000e+00   \n",
       "50%    1.680000e+02  9.000000e+01    7.900000e+01  2.000000e+00   \n",
       "75%    7.522500e+02  2.100000e+02    4.490000e+02  6.000000e+00   \n",
       "max    1.269359e+09  9.484772e+08    3.208818e+08  1.036116e+06   \n",
       "\n",
       "       Elapsed Time (sec)      pkts_sent  pkts_received  \n",
       "count        65532.000000   65532.000000   65532.000000  \n",
       "mean            65.833577      41.399530      61.466505  \n",
       "std            302.461762    3218.871288    2223.332271  \n",
       "min              0.000000       1.000000       0.000000  \n",
       "25%              0.000000       1.000000       0.000000  \n",
       "50%             15.000000       1.000000       1.000000  \n",
       "75%             30.000000       3.000000       2.000000  \n",
       "max          10824.000000  747520.000000  327208.000000  "
      ]
     },
     "execution_count": 5,
     "metadata": {},
     "output_type": "execute_result"
    }
   ],
   "source": [
    "df.describe()"
   ]
  },
  {
   "cell_type": "markdown",
   "id": "04717fe8",
   "metadata": {},
   "source": [
    "##### Missing value analysis"
   ]
  },
  {
   "cell_type": "code",
   "execution_count": 6,
   "id": "514b772a",
   "metadata": {},
   "outputs": [
    {
     "data": {
      "text/plain": [
       "0"
      ]
     },
     "execution_count": 6,
     "metadata": {},
     "output_type": "execute_result"
    }
   ],
   "source": [
    "# Validate null values in the csv file\n",
    "df.isnull().sum().sum()"
   ]
  },
  {
   "cell_type": "markdown",
   "id": "0f5ce232",
   "metadata": {},
   "source": [
    "#### Target"
   ]
  },
  {
   "cell_type": "code",
   "execution_count": 7,
   "id": "0a22b20d",
   "metadata": {},
   "outputs": [
    {
     "data": {
      "text/plain": [
       "allow         37640\n",
       "deny          14987\n",
       "drop          12851\n",
       "reset-both       54\n",
       "Name: Action, dtype: int64"
      ]
     },
     "execution_count": 7,
     "metadata": {},
     "output_type": "execute_result"
    }
   ],
   "source": [
    "df['Action'].value_counts()"
   ]
  },
  {
   "cell_type": "code",
   "execution_count": 8,
   "id": "146e5dd9",
   "metadata": {},
   "outputs": [],
   "source": [
    "target_mod = {\n",
    "    'allow':'allow',\n",
    "    'deny':'deny',\n",
    "    'drop':'deny',\n",
    "    'reset-both':'deny'\n",
    "}\n",
    "df['Action_mod'] = df['Action'].map(target_mod)\n",
    "df['Action_mod'] = df['Action_mod'].astype('category')"
   ]
  },
  {
   "cell_type": "code",
   "execution_count": 9,
   "id": "04c54ff7",
   "metadata": {},
   "outputs": [
    {
     "data": {
      "text/html": [
       "<div>\n",
       "<style scoped>\n",
       "    .dataframe tbody tr th:only-of-type {\n",
       "        vertical-align: middle;\n",
       "    }\n",
       "\n",
       "    .dataframe tbody tr th {\n",
       "        vertical-align: top;\n",
       "    }\n",
       "\n",
       "    .dataframe thead th {\n",
       "        text-align: right;\n",
       "    }\n",
       "</style>\n",
       "<table border=\"1\" class=\"dataframe\">\n",
       "  <thead>\n",
       "    <tr style=\"text-align: right;\">\n",
       "      <th></th>\n",
       "      <th>Source Port</th>\n",
       "      <th>Destination Port</th>\n",
       "      <th>NAT Source Port</th>\n",
       "      <th>NAT Destination Port</th>\n",
       "      <th>Action</th>\n",
       "      <th>Bytes</th>\n",
       "      <th>Bytes Sent</th>\n",
       "      <th>Bytes Received</th>\n",
       "      <th>Packets</th>\n",
       "      <th>Elapsed Time (sec)</th>\n",
       "      <th>pkts_sent</th>\n",
       "      <th>pkts_received</th>\n",
       "      <th>Action_mod</th>\n",
       "    </tr>\n",
       "  </thead>\n",
       "  <tbody>\n",
       "    <tr>\n",
       "      <th>0</th>\n",
       "      <td>57222</td>\n",
       "      <td>53</td>\n",
       "      <td>54587</td>\n",
       "      <td>53</td>\n",
       "      <td>allow</td>\n",
       "      <td>177</td>\n",
       "      <td>94</td>\n",
       "      <td>83</td>\n",
       "      <td>2</td>\n",
       "      <td>30</td>\n",
       "      <td>1</td>\n",
       "      <td>1</td>\n",
       "      <td>allow</td>\n",
       "    </tr>\n",
       "    <tr>\n",
       "      <th>1</th>\n",
       "      <td>56258</td>\n",
       "      <td>3389</td>\n",
       "      <td>56258</td>\n",
       "      <td>3389</td>\n",
       "      <td>allow</td>\n",
       "      <td>4768</td>\n",
       "      <td>1600</td>\n",
       "      <td>3168</td>\n",
       "      <td>19</td>\n",
       "      <td>17</td>\n",
       "      <td>10</td>\n",
       "      <td>9</td>\n",
       "      <td>allow</td>\n",
       "    </tr>\n",
       "    <tr>\n",
       "      <th>2</th>\n",
       "      <td>6881</td>\n",
       "      <td>50321</td>\n",
       "      <td>43265</td>\n",
       "      <td>50321</td>\n",
       "      <td>allow</td>\n",
       "      <td>238</td>\n",
       "      <td>118</td>\n",
       "      <td>120</td>\n",
       "      <td>2</td>\n",
       "      <td>1199</td>\n",
       "      <td>1</td>\n",
       "      <td>1</td>\n",
       "      <td>allow</td>\n",
       "    </tr>\n",
       "    <tr>\n",
       "      <th>3</th>\n",
       "      <td>50553</td>\n",
       "      <td>3389</td>\n",
       "      <td>50553</td>\n",
       "      <td>3389</td>\n",
       "      <td>allow</td>\n",
       "      <td>3327</td>\n",
       "      <td>1438</td>\n",
       "      <td>1889</td>\n",
       "      <td>15</td>\n",
       "      <td>17</td>\n",
       "      <td>8</td>\n",
       "      <td>7</td>\n",
       "      <td>allow</td>\n",
       "    </tr>\n",
       "    <tr>\n",
       "      <th>4</th>\n",
       "      <td>50002</td>\n",
       "      <td>443</td>\n",
       "      <td>45848</td>\n",
       "      <td>443</td>\n",
       "      <td>allow</td>\n",
       "      <td>25358</td>\n",
       "      <td>6778</td>\n",
       "      <td>18580</td>\n",
       "      <td>31</td>\n",
       "      <td>16</td>\n",
       "      <td>13</td>\n",
       "      <td>18</td>\n",
       "      <td>allow</td>\n",
       "    </tr>\n",
       "    <tr>\n",
       "      <th>...</th>\n",
       "      <td>...</td>\n",
       "      <td>...</td>\n",
       "      <td>...</td>\n",
       "      <td>...</td>\n",
       "      <td>...</td>\n",
       "      <td>...</td>\n",
       "      <td>...</td>\n",
       "      <td>...</td>\n",
       "      <td>...</td>\n",
       "      <td>...</td>\n",
       "      <td>...</td>\n",
       "      <td>...</td>\n",
       "      <td>...</td>\n",
       "    </tr>\n",
       "    <tr>\n",
       "      <th>65527</th>\n",
       "      <td>63691</td>\n",
       "      <td>80</td>\n",
       "      <td>13237</td>\n",
       "      <td>80</td>\n",
       "      <td>allow</td>\n",
       "      <td>314</td>\n",
       "      <td>192</td>\n",
       "      <td>122</td>\n",
       "      <td>6</td>\n",
       "      <td>15</td>\n",
       "      <td>4</td>\n",
       "      <td>2</td>\n",
       "      <td>allow</td>\n",
       "    </tr>\n",
       "    <tr>\n",
       "      <th>65528</th>\n",
       "      <td>50964</td>\n",
       "      <td>80</td>\n",
       "      <td>13485</td>\n",
       "      <td>80</td>\n",
       "      <td>allow</td>\n",
       "      <td>4680740</td>\n",
       "      <td>67312</td>\n",
       "      <td>4613428</td>\n",
       "      <td>4675</td>\n",
       "      <td>77</td>\n",
       "      <td>985</td>\n",
       "      <td>3690</td>\n",
       "      <td>allow</td>\n",
       "    </tr>\n",
       "    <tr>\n",
       "      <th>65529</th>\n",
       "      <td>54871</td>\n",
       "      <td>445</td>\n",
       "      <td>0</td>\n",
       "      <td>0</td>\n",
       "      <td>drop</td>\n",
       "      <td>70</td>\n",
       "      <td>70</td>\n",
       "      <td>0</td>\n",
       "      <td>1</td>\n",
       "      <td>0</td>\n",
       "      <td>1</td>\n",
       "      <td>0</td>\n",
       "      <td>deny</td>\n",
       "    </tr>\n",
       "    <tr>\n",
       "      <th>65530</th>\n",
       "      <td>54870</td>\n",
       "      <td>445</td>\n",
       "      <td>0</td>\n",
       "      <td>0</td>\n",
       "      <td>drop</td>\n",
       "      <td>70</td>\n",
       "      <td>70</td>\n",
       "      <td>0</td>\n",
       "      <td>1</td>\n",
       "      <td>0</td>\n",
       "      <td>1</td>\n",
       "      <td>0</td>\n",
       "      <td>deny</td>\n",
       "    </tr>\n",
       "    <tr>\n",
       "      <th>65531</th>\n",
       "      <td>54867</td>\n",
       "      <td>445</td>\n",
       "      <td>0</td>\n",
       "      <td>0</td>\n",
       "      <td>drop</td>\n",
       "      <td>70</td>\n",
       "      <td>70</td>\n",
       "      <td>0</td>\n",
       "      <td>1</td>\n",
       "      <td>0</td>\n",
       "      <td>1</td>\n",
       "      <td>0</td>\n",
       "      <td>deny</td>\n",
       "    </tr>\n",
       "  </tbody>\n",
       "</table>\n",
       "<p>65532 rows × 13 columns</p>\n",
       "</div>"
      ],
      "text/plain": [
       "       Source Port  Destination Port  NAT Source Port  NAT Destination Port  \\\n",
       "0            57222                53            54587                    53   \n",
       "1            56258              3389            56258                  3389   \n",
       "2             6881             50321            43265                 50321   \n",
       "3            50553              3389            50553                  3389   \n",
       "4            50002               443            45848                   443   \n",
       "...            ...               ...              ...                   ...   \n",
       "65527        63691                80            13237                    80   \n",
       "65528        50964                80            13485                    80   \n",
       "65529        54871               445                0                     0   \n",
       "65530        54870               445                0                     0   \n",
       "65531        54867               445                0                     0   \n",
       "\n",
       "      Action    Bytes  Bytes Sent  Bytes Received  Packets  \\\n",
       "0      allow      177          94              83        2   \n",
       "1      allow     4768        1600            3168       19   \n",
       "2      allow      238         118             120        2   \n",
       "3      allow     3327        1438            1889       15   \n",
       "4      allow    25358        6778           18580       31   \n",
       "...      ...      ...         ...             ...      ...   \n",
       "65527  allow      314         192             122        6   \n",
       "65528  allow  4680740       67312         4613428     4675   \n",
       "65529   drop       70          70               0        1   \n",
       "65530   drop       70          70               0        1   \n",
       "65531   drop       70          70               0        1   \n",
       "\n",
       "       Elapsed Time (sec)  pkts_sent  pkts_received Action_mod  \n",
       "0                      30          1              1      allow  \n",
       "1                      17         10              9      allow  \n",
       "2                    1199          1              1      allow  \n",
       "3                      17          8              7      allow  \n",
       "4                      16         13             18      allow  \n",
       "...                   ...        ...            ...        ...  \n",
       "65527                  15          4              2      allow  \n",
       "65528                  77        985           3690      allow  \n",
       "65529                   0          1              0       deny  \n",
       "65530                   0          1              0       deny  \n",
       "65531                   0          1              0       deny  \n",
       "\n",
       "[65532 rows x 13 columns]"
      ]
     },
     "execution_count": 9,
     "metadata": {},
     "output_type": "execute_result"
    }
   ],
   "source": [
    "df"
   ]
  },
  {
   "cell_type": "code",
   "execution_count": 10,
   "id": "a4ec090c",
   "metadata": {},
   "outputs": [
    {
     "data": {
      "text/plain": [
       "allow    37640\n",
       "deny     27892\n",
       "Name: Action_mod, dtype: int64"
      ]
     },
     "execution_count": 10,
     "metadata": {},
     "output_type": "execute_result"
    }
   ],
   "source": [
    "df['Action_mod'].value_counts()"
   ]
  },
  {
   "cell_type": "code",
   "execution_count": 11,
   "id": "a8828052",
   "metadata": {},
   "outputs": [
    {
     "data": {
      "image/png": "[encoded data removed]",
      "text/plain": [
       "<Figure size 432x288 with 1 Axes>"
      ]
     },
     "metadata": {
      "needs_background": "light"
     },
     "output_type": "display_data"
    }
   ],
   "source": [
    "sns.countplot(x = \"Action_mod\", data = df)\n",
    "plt.title(\"Distribution of Target Values\")\n",
    "plt.show()"
   ]
  },
  {
   "cell_type": "code",
   "execution_count": 12,
   "id": "3812545c",
   "metadata": {},
   "outputs": [
    {
     "data": {
      "image/png": "[encoded data removed]",
      "text/plain": [
       "<Figure size 432x288 with 1 Axes>"
      ]
     },
     "metadata": {},
     "output_type": "display_data"
    }
   ],
   "source": [
    "# Pie chart\n",
    "df['Action_mod'].value_counts().plot.pie(autopct = \"%.1f%%\")\n",
    "plt.title(\"Proportion of Target Value\")\n",
    "plt.show()"
   ]
  },
  {
   "cell_type": "code",
   "execution_count": 13,
   "id": "6d2600d2",
   "metadata": {},
   "outputs": [
    {
     "data": {
      "text/plain": [
       "1    37640\n",
       "0    27892\n",
       "Name: Action_mod, dtype: int64"
      ]
     },
     "execution_count": 13,
     "metadata": {},
     "output_type": "execute_result"
    }
   ],
   "source": [
    "df['Action_mod'] = df['Action_mod'].replace(['deny', 'allow'], [0, 1])\n",
    "\n",
    "df['Action_mod'].value_counts()"
   ]
  },
  {
   "cell_type": "code",
   "execution_count": 14,
   "id": "4b424b56",
   "metadata": {},
   "outputs": [],
   "source": [
    "df = df.drop(['Action'],axis=1)"
   ]
  },
  {
   "cell_type": "markdown",
   "id": "476498a6",
   "metadata": {},
   "source": [
    "##### Independent Variable analysis"
   ]
  },
  {
   "cell_type": "code",
   "execution_count": 15,
   "id": "32115525",
   "metadata": {},
   "outputs": [
    {
     "data": {
      "image/png": "[encoded data removed]",
      "text/plain": [
       "<Figure size 1800x2160 with 12 Axes>"
      ]
     },
     "metadata": {
      "needs_background": "light"
     },
     "output_type": "display_data"
    }
   ],
   "source": [
    "#Visualizing the hist of data to check normality of independent variable\n",
    "df_X = df.drop(['Action_mod'],axis=1)\n",
    "df_X.hist(bins=50,figsize=(25,30))\n",
    "plt.show()"
   ]
  },
  {
   "cell_type": "code",
   "execution_count": 16,
   "id": "2692e4e9",
   "metadata": {},
   "outputs": [
    {
     "data": {
      "text/html": [
       "<div>\n",
       "<style scoped>\n",
       "    .dataframe tbody tr th:only-of-type {\n",
       "        vertical-align: middle;\n",
       "    }\n",
       "\n",
       "    .dataframe tbody tr th {\n",
       "        vertical-align: top;\n",
       "    }\n",
       "\n",
       "    .dataframe thead th {\n",
       "        text-align: right;\n",
       "    }\n",
       "</style>\n",
       "<table border=\"1\" class=\"dataframe\">\n",
       "  <thead>\n",
       "    <tr style=\"text-align: right;\">\n",
       "      <th></th>\n",
       "      <th>Source Port</th>\n",
       "      <th>Destination Port</th>\n",
       "      <th>NAT Source Port</th>\n",
       "      <th>NAT Destination Port</th>\n",
       "      <th>Bytes</th>\n",
       "      <th>Bytes Sent</th>\n",
       "      <th>Bytes Received</th>\n",
       "      <th>Packets</th>\n",
       "      <th>Elapsed Time (sec)</th>\n",
       "      <th>pkts_sent</th>\n",
       "      <th>pkts_received</th>\n",
       "    </tr>\n",
       "  </thead>\n",
       "  <tbody>\n",
       "    <tr>\n",
       "      <th>count</th>\n",
       "      <td>65532.000000</td>\n",
       "      <td>65532.000000</td>\n",
       "      <td>65532.000000</td>\n",
       "      <td>65532.000000</td>\n",
       "      <td>6.553200e+04</td>\n",
       "      <td>6.553200e+04</td>\n",
       "      <td>6.553200e+04</td>\n",
       "      <td>6.553200e+04</td>\n",
       "      <td>65532.000000</td>\n",
       "      <td>65532.000000</td>\n",
       "      <td>65532.000000</td>\n",
       "    </tr>\n",
       "    <tr>\n",
       "      <th>mean</th>\n",
       "      <td>49391.969343</td>\n",
       "      <td>10577.385812</td>\n",
       "      <td>19282.972761</td>\n",
       "      <td>2671.049930</td>\n",
       "      <td>9.712395e+04</td>\n",
       "      <td>2.238580e+04</td>\n",
       "      <td>7.473815e+04</td>\n",
       "      <td>1.028660e+02</td>\n",
       "      <td>65.833577</td>\n",
       "      <td>41.399530</td>\n",
       "      <td>61.466505</td>\n",
       "    </tr>\n",
       "    <tr>\n",
       "      <th>std</th>\n",
       "      <td>15255.712537</td>\n",
       "      <td>18466.027039</td>\n",
       "      <td>21970.689669</td>\n",
       "      <td>9739.162278</td>\n",
       "      <td>5.618439e+06</td>\n",
       "      <td>3.828139e+06</td>\n",
       "      <td>2.463208e+06</td>\n",
       "      <td>5.133002e+03</td>\n",
       "      <td>302.461762</td>\n",
       "      <td>3218.871288</td>\n",
       "      <td>2223.332271</td>\n",
       "    </tr>\n",
       "    <tr>\n",
       "      <th>min</th>\n",
       "      <td>0.000000</td>\n",
       "      <td>0.000000</td>\n",
       "      <td>0.000000</td>\n",
       "      <td>0.000000</td>\n",
       "      <td>6.000000e+01</td>\n",
       "      <td>6.000000e+01</td>\n",
       "      <td>0.000000e+00</td>\n",
       "      <td>1.000000e+00</td>\n",
       "      <td>0.000000</td>\n",
       "      <td>1.000000</td>\n",
       "      <td>0.000000</td>\n",
       "    </tr>\n",
       "    <tr>\n",
       "      <th>25%</th>\n",
       "      <td>49183.000000</td>\n",
       "      <td>80.000000</td>\n",
       "      <td>0.000000</td>\n",
       "      <td>0.000000</td>\n",
       "      <td>6.600000e+01</td>\n",
       "      <td>6.600000e+01</td>\n",
       "      <td>0.000000e+00</td>\n",
       "      <td>1.000000e+00</td>\n",
       "      <td>0.000000</td>\n",
       "      <td>1.000000</td>\n",
       "      <td>0.000000</td>\n",
       "    </tr>\n",
       "    <tr>\n",
       "      <th>50%</th>\n",
       "      <td>53776.500000</td>\n",
       "      <td>445.000000</td>\n",
       "      <td>8820.500000</td>\n",
       "      <td>53.000000</td>\n",
       "      <td>1.680000e+02</td>\n",
       "      <td>9.000000e+01</td>\n",
       "      <td>7.900000e+01</td>\n",
       "      <td>2.000000e+00</td>\n",
       "      <td>15.000000</td>\n",
       "      <td>1.000000</td>\n",
       "      <td>1.000000</td>\n",
       "    </tr>\n",
       "    <tr>\n",
       "      <th>75%</th>\n",
       "      <td>58638.000000</td>\n",
       "      <td>15000.000000</td>\n",
       "      <td>38366.250000</td>\n",
       "      <td>443.000000</td>\n",
       "      <td>7.522500e+02</td>\n",
       "      <td>2.100000e+02</td>\n",
       "      <td>4.490000e+02</td>\n",
       "      <td>6.000000e+00</td>\n",
       "      <td>30.000000</td>\n",
       "      <td>3.000000</td>\n",
       "      <td>2.000000</td>\n",
       "    </tr>\n",
       "    <tr>\n",
       "      <th>max</th>\n",
       "      <td>65534.000000</td>\n",
       "      <td>65535.000000</td>\n",
       "      <td>65535.000000</td>\n",
       "      <td>65535.000000</td>\n",
       "      <td>1.269359e+09</td>\n",
       "      <td>9.484772e+08</td>\n",
       "      <td>3.208818e+08</td>\n",
       "      <td>1.036116e+06</td>\n",
       "      <td>10824.000000</td>\n",
       "      <td>747520.000000</td>\n",
       "      <td>327208.000000</td>\n",
       "    </tr>\n",
       "  </tbody>\n",
       "</table>\n",
       "</div>"
      ],
      "text/plain": [
       "        Source Port  Destination Port  NAT Source Port  NAT Destination Port  \\\n",
       "count  65532.000000      65532.000000     65532.000000          65532.000000   \n",
       "mean   49391.969343      10577.385812     19282.972761           2671.049930   \n",
       "std    15255.712537      18466.027039     21970.689669           9739.162278   \n",
       "min        0.000000          0.000000         0.000000              0.000000   \n",
       "25%    49183.000000         80.000000         0.000000              0.000000   \n",
       "50%    53776.500000        445.000000      8820.500000             53.000000   \n",
       "75%    58638.000000      15000.000000     38366.250000            443.000000   \n",
       "max    65534.000000      65535.000000     65535.000000          65535.000000   \n",
       "\n",
       "              Bytes    Bytes Sent  Bytes Received       Packets  \\\n",
       "count  6.553200e+04  6.553200e+04    6.553200e+04  6.553200e+04   \n",
       "mean   9.712395e+04  2.238580e+04    7.473815e+04  1.028660e+02   \n",
       "std    5.618439e+06  3.828139e+06    2.463208e+06  5.133002e+03   \n",
       "min    6.000000e+01  6.000000e+01    0.000000e+00  1.000000e+00   \n",
       "25%    6.600000e+01  6.600000e+01    0.000000e+00  1.000000e+00   \n",
       "50%    1.680000e+02  9.000000e+01    7.900000e+01  2.000000e+00   \n",
       "75%    7.522500e+02  2.100000e+02    4.490000e+02  6.000000e+00   \n",
       "max    1.269359e+09  9.484772e+08    3.208818e+08  1.036116e+06   \n",
       "\n",
       "       Elapsed Time (sec)      pkts_sent  pkts_received  \n",
       "count        65532.000000   65532.000000   65532.000000  \n",
       "mean            65.833577      41.399530      61.466505  \n",
       "std            302.461762    3218.871288    2223.332271  \n",
       "min              0.000000       1.000000       0.000000  \n",
       "25%              0.000000       1.000000       0.000000  \n",
       "50%             15.000000       1.000000       1.000000  \n",
       "75%             30.000000       3.000000       2.000000  \n",
       "max          10824.000000  747520.000000  327208.000000  "
      ]
     },
     "execution_count": 16,
     "metadata": {},
     "output_type": "execute_result"
    }
   ],
   "source": [
    "df.drop(['Action_mod'],axis=1).describe()"
   ]
  },
  {
   "cell_type": "code",
   "execution_count": 17,
   "id": "eabb0b24",
   "metadata": {},
   "outputs": [
    {
     "data": {
      "text/plain": [
       "Text(0.5, 1.0, 'HeatMap-Correlation Matrix')"
      ]
     },
     "execution_count": 17,
     "metadata": {},
     "output_type": "execute_result"
    },
    {
     "data": {
      "image/png": "[encoded data removed]",
      "text/plain": [
       "<Figure size 3960x3600 with 2 Axes>"
      ]
     },
     "metadata": {
      "needs_background": "light"
     },
     "output_type": "display_data"
    }
   ],
   "source": [
    "#heatmap - correlation matrix\n",
    "plt.figure(figsize=(55, 50)) #code reference (5-1)\n",
    "sns.heatmap(df_X.corr(), annot=True)\n",
    "plt.title('HeatMap-Correlation Matrix')"
   ]
  },
  {
   "cell_type": "markdown",
   "id": "302d3f39",
   "metadata": {},
   "source": [
    "##### Check for Multicolliniarity "
   ]
  },
  {
   "cell_type": "code",
   "execution_count": 18,
   "id": "741e4d77",
   "metadata": {},
   "outputs": [
    {
     "data": {
      "text/html": [
       "<div>\n",
       "<style scoped>\n",
       "    .dataframe tbody tr th:only-of-type {\n",
       "        vertical-align: middle;\n",
       "    }\n",
       "\n",
       "    .dataframe tbody tr th {\n",
       "        vertical-align: top;\n",
       "    }\n",
       "\n",
       "    .dataframe thead th {\n",
       "        text-align: right;\n",
       "    }\n",
       "</style>\n",
       "<table border=\"1\" class=\"dataframe\">\n",
       "  <thead>\n",
       "    <tr style=\"text-align: right;\">\n",
       "      <th></th>\n",
       "      <th>Source Port</th>\n",
       "      <th>Destination Port</th>\n",
       "      <th>NAT Source Port</th>\n",
       "      <th>NAT Destination Port</th>\n",
       "      <th>Bytes</th>\n",
       "      <th>Bytes Sent</th>\n",
       "      <th>Bytes Received</th>\n",
       "      <th>Packets</th>\n",
       "      <th>Elapsed Time (sec)</th>\n",
       "      <th>pkts_sent</th>\n",
       "      <th>pkts_received</th>\n",
       "    </tr>\n",
       "  </thead>\n",
       "  <tbody>\n",
       "    <tr>\n",
       "      <th>Source Port</th>\n",
       "      <td>1.000000</td>\n",
       "      <td>0.332246</td>\n",
       "      <td>0.145391</td>\n",
       "      <td>0.024843</td>\n",
       "      <td>0.000221</td>\n",
       "      <td>0.000931</td>\n",
       "      <td>0.001950</td>\n",
       "      <td>0.001742</td>\n",
       "      <td>0.046515</td>\n",
       "      <td>0.001422</td>\n",
       "      <td>0.001962</td>\n",
       "    </tr>\n",
       "    <tr>\n",
       "      <th>Destination Port</th>\n",
       "      <td>0.332246</td>\n",
       "      <td>1.000000</td>\n",
       "      <td>0.281676</td>\n",
       "      <td>0.410042</td>\n",
       "      <td>0.005297</td>\n",
       "      <td>0.001675</td>\n",
       "      <td>0.014684</td>\n",
       "      <td>0.006063</td>\n",
       "      <td>0.023537</td>\n",
       "      <td>0.002134</td>\n",
       "      <td>0.010909</td>\n",
       "    </tr>\n",
       "    <tr>\n",
       "      <th>NAT Source Port</th>\n",
       "      <td>0.145391</td>\n",
       "      <td>0.281676</td>\n",
       "      <td>1.000000</td>\n",
       "      <td>0.178435</td>\n",
       "      <td>0.010659</td>\n",
       "      <td>0.002242</td>\n",
       "      <td>0.020827</td>\n",
       "      <td>0.012633</td>\n",
       "      <td>0.141485</td>\n",
       "      <td>0.007180</td>\n",
       "      <td>0.018772</td>\n",
       "    </tr>\n",
       "    <tr>\n",
       "      <th>NAT Destination Port</th>\n",
       "      <td>0.024843</td>\n",
       "      <td>0.410042</td>\n",
       "      <td>0.178435</td>\n",
       "      <td>1.000000</td>\n",
       "      <td>0.003975</td>\n",
       "      <td>0.007904</td>\n",
       "      <td>0.003216</td>\n",
       "      <td>0.004605</td>\n",
       "      <td>0.219776</td>\n",
       "      <td>0.006136</td>\n",
       "      <td>0.001747</td>\n",
       "    </tr>\n",
       "    <tr>\n",
       "      <th>Bytes</th>\n",
       "      <td>0.000221</td>\n",
       "      <td>0.005297</td>\n",
       "      <td>0.010659</td>\n",
       "      <td>0.003975</td>\n",
       "      <td>1.000000</td>\n",
       "      <td>0.933462</td>\n",
       "      <td>0.830225</td>\n",
       "      <td>0.974379</td>\n",
       "      <td>0.148834</td>\n",
       "      <td>0.966548</td>\n",
       "      <td>0.850209</td>\n",
       "    </tr>\n",
       "    <tr>\n",
       "      <th>Bytes Sent</th>\n",
       "      <td>0.000931</td>\n",
       "      <td>0.001675</td>\n",
       "      <td>0.002242</td>\n",
       "      <td>0.007904</td>\n",
       "      <td>0.933462</td>\n",
       "      <td>1.000000</td>\n",
       "      <td>0.575047</td>\n",
       "      <td>0.887596</td>\n",
       "      <td>0.126039</td>\n",
       "      <td>0.973976</td>\n",
       "      <td>0.639098</td>\n",
       "    </tr>\n",
       "    <tr>\n",
       "      <th>Bytes Received</th>\n",
       "      <td>0.001950</td>\n",
       "      <td>0.014684</td>\n",
       "      <td>0.020827</td>\n",
       "      <td>0.003216</td>\n",
       "      <td>0.830225</td>\n",
       "      <td>0.575047</td>\n",
       "      <td>1.000000</td>\n",
       "      <td>0.843067</td>\n",
       "      <td>0.143601</td>\n",
       "      <td>0.690959</td>\n",
       "      <td>0.946039</td>\n",
       "    </tr>\n",
       "    <tr>\n",
       "      <th>Packets</th>\n",
       "      <td>0.001742</td>\n",
       "      <td>0.006063</td>\n",
       "      <td>0.012633</td>\n",
       "      <td>0.004605</td>\n",
       "      <td>0.974379</td>\n",
       "      <td>0.887596</td>\n",
       "      <td>0.843067</td>\n",
       "      <td>1.000000</td>\n",
       "      <td>0.147074</td>\n",
       "      <td>0.961286</td>\n",
       "      <td>0.916978</td>\n",
       "    </tr>\n",
       "    <tr>\n",
       "      <th>Elapsed Time (sec)</th>\n",
       "      <td>0.046515</td>\n",
       "      <td>0.023537</td>\n",
       "      <td>0.141485</td>\n",
       "      <td>0.219776</td>\n",
       "      <td>0.148834</td>\n",
       "      <td>0.126039</td>\n",
       "      <td>0.143601</td>\n",
       "      <td>0.147074</td>\n",
       "      <td>1.000000</td>\n",
       "      <td>0.135101</td>\n",
       "      <td>0.143954</td>\n",
       "    </tr>\n",
       "    <tr>\n",
       "      <th>pkts_sent</th>\n",
       "      <td>0.001422</td>\n",
       "      <td>0.002134</td>\n",
       "      <td>0.007180</td>\n",
       "      <td>0.006136</td>\n",
       "      <td>0.966548</td>\n",
       "      <td>0.973976</td>\n",
       "      <td>0.690959</td>\n",
       "      <td>0.961286</td>\n",
       "      <td>0.135101</td>\n",
       "      <td>1.000000</td>\n",
       "      <td>0.771550</td>\n",
       "    </tr>\n",
       "    <tr>\n",
       "      <th>pkts_received</th>\n",
       "      <td>0.001962</td>\n",
       "      <td>0.010909</td>\n",
       "      <td>0.018772</td>\n",
       "      <td>0.001747</td>\n",
       "      <td>0.850209</td>\n",
       "      <td>0.639098</td>\n",
       "      <td>0.946039</td>\n",
       "      <td>0.916978</td>\n",
       "      <td>0.143954</td>\n",
       "      <td>0.771550</td>\n",
       "      <td>1.000000</td>\n",
       "    </tr>\n",
       "  </tbody>\n",
       "</table>\n",
       "</div>"
      ],
      "text/plain": [
       "                      Source Port  Destination Port  NAT Source Port  \\\n",
       "Source Port              1.000000          0.332246         0.145391   \n",
       "Destination Port         0.332246          1.000000         0.281676   \n",
       "NAT Source Port          0.145391          0.281676         1.000000   \n",
       "NAT Destination Port     0.024843          0.410042         0.178435   \n",
       "Bytes                    0.000221          0.005297         0.010659   \n",
       "Bytes Sent               0.000931          0.001675         0.002242   \n",
       "Bytes Received           0.001950          0.014684         0.020827   \n",
       "Packets                  0.001742          0.006063         0.012633   \n",
       "Elapsed Time (sec)       0.046515          0.023537         0.141485   \n",
       "pkts_sent                0.001422          0.002134         0.007180   \n",
       "pkts_received            0.001962          0.010909         0.018772   \n",
       "\n",
       "                      NAT Destination Port     Bytes  Bytes Sent  \\\n",
       "Source Port                       0.024843  0.000221    0.000931   \n",
       "Destination Port                  0.410042  0.005297    0.001675   \n",
       "NAT Source Port                   0.178435  0.010659    0.002242   \n",
       "NAT Destination Port              1.000000  0.003975    0.007904   \n",
       "Bytes                             0.003975  1.000000    0.933462   \n",
       "Bytes Sent                        0.007904  0.933462    1.000000   \n",
       "Bytes Received                    0.003216  0.830225    0.575047   \n",
       "Packets                           0.004605  0.974379    0.887596   \n",
       "Elapsed Time (sec)                0.219776  0.148834    0.126039   \n",
       "pkts_sent                         0.006136  0.966548    0.973976   \n",
       "pkts_received                     0.001747  0.850209    0.639098   \n",
       "\n",
       "                      Bytes Received   Packets  Elapsed Time (sec)  pkts_sent  \\\n",
       "Source Port                 0.001950  0.001742            0.046515   0.001422   \n",
       "Destination Port            0.014684  0.006063            0.023537   0.002134   \n",
       "NAT Source Port             0.020827  0.012633            0.141485   0.007180   \n",
       "NAT Destination Port        0.003216  0.004605            0.219776   0.006136   \n",
       "Bytes                       0.830225  0.974379            0.148834   0.966548   \n",
       "Bytes Sent                  0.575047  0.887596            0.126039   0.973976   \n",
       "Bytes Received              1.000000  0.843067            0.143601   0.690959   \n",
       "Packets                     0.843067  1.000000            0.147074   0.961286   \n",
       "Elapsed Time (sec)          0.143601  0.147074            1.000000   0.135101   \n",
       "pkts_sent                   0.690959  0.961286            0.135101   1.000000   \n",
       "pkts_received               0.946039  0.916978            0.143954   0.771550   \n",
       "\n",
       "                      pkts_received  \n",
       "Source Port                0.001962  \n",
       "Destination Port           0.010909  \n",
       "NAT Source Port            0.018772  \n",
       "NAT Destination Port       0.001747  \n",
       "Bytes                      0.850209  \n",
       "Bytes Sent                 0.639098  \n",
       "Bytes Received             0.946039  \n",
       "Packets                    0.916978  \n",
       "Elapsed Time (sec)         0.143954  \n",
       "pkts_sent                  0.771550  \n",
       "pkts_received              1.000000  "
      ]
     },
     "execution_count": 18,
     "metadata": {},
     "output_type": "execute_result"
    }
   ],
   "source": [
    "#https://www.projectpro.io/recipes/drop-out-highly-correlated-features-in-python\n",
    "# to drop features with colliniarity more than 95%\n",
    "pd.set_option('display.max_rows', 100)\n",
    "\n",
    "corr_df = pd.DataFrame(df_X.corr().abs())\n",
    "corr_df.head(100)"
   ]
  },
  {
   "cell_type": "code",
   "execution_count": 19,
   "id": "70e7a5fc",
   "metadata": {},
   "outputs": [
    {
     "name": "stdout",
     "output_type": "stream",
     "text": [
      "                      Source Port  Destination Port  NAT Source Port  \\\n",
      "Source Port                   NaN          0.332246         0.145391   \n",
      "Destination Port              NaN               NaN         0.281676   \n",
      "NAT Source Port               NaN               NaN              NaN   \n",
      "NAT Destination Port          NaN               NaN              NaN   \n",
      "Bytes                         NaN               NaN              NaN   \n",
      "Bytes Sent                    NaN               NaN              NaN   \n",
      "Bytes Received                NaN               NaN              NaN   \n",
      "Packets                       NaN               NaN              NaN   \n",
      "Elapsed Time (sec)            NaN               NaN              NaN   \n",
      "pkts_sent                     NaN               NaN              NaN   \n",
      "pkts_received                 NaN               NaN              NaN   \n",
      "\n",
      "                      NAT Destination Port     Bytes  Bytes Sent  \\\n",
      "Source Port                       0.024843  0.000221    0.000931   \n",
      "Destination Port                  0.410042  0.005297    0.001675   \n",
      "NAT Source Port                   0.178435  0.010659    0.002242   \n",
      "NAT Destination Port                   NaN  0.003975    0.007904   \n",
      "Bytes                                  NaN       NaN    0.933462   \n",
      "Bytes Sent                             NaN       NaN         NaN   \n",
      "Bytes Received                         NaN       NaN         NaN   \n",
      "Packets                                NaN       NaN         NaN   \n",
      "Elapsed Time (sec)                     NaN       NaN         NaN   \n",
      "pkts_sent                              NaN       NaN         NaN   \n",
      "pkts_received                          NaN       NaN         NaN   \n",
      "\n",
      "                      Bytes Received   Packets  Elapsed Time (sec)  pkts_sent  \\\n",
      "Source Port                 0.001950  0.001742            0.046515   0.001422   \n",
      "Destination Port            0.014684  0.006063            0.023537   0.002134   \n",
      "NAT Source Port             0.020827  0.012633            0.141485   0.007180   \n",
      "NAT Destination Port        0.003216  0.004605            0.219776   0.006136   \n",
      "Bytes                       0.830225  0.974379            0.148834   0.966548   \n",
      "Bytes Sent                  0.575047  0.887596            0.126039   0.973976   \n",
      "Bytes Received                   NaN  0.843067            0.143601   0.690959   \n",
      "Packets                          NaN       NaN            0.147074   0.961286   \n",
      "Elapsed Time (sec)               NaN       NaN                 NaN   0.135101   \n",
      "pkts_sent                        NaN       NaN                 NaN        NaN   \n",
      "pkts_received                    NaN       NaN                 NaN        NaN   \n",
      "\n",
      "                      pkts_received  \n",
      "Source Port                0.001962  \n",
      "Destination Port           0.010909  \n",
      "NAT Source Port            0.018772  \n",
      "NAT Destination Port       0.001747  \n",
      "Bytes                      0.850209  \n",
      "Bytes Sent                 0.639098  \n",
      "Bytes Received             0.946039  \n",
      "Packets                    0.916978  \n",
      "Elapsed Time (sec)         0.143954  \n",
      "pkts_sent                  0.771550  \n",
      "pkts_received                   NaN  \n"
     ]
    }
   ],
   "source": [
    "# Multi Colliniarity analysis on Independent variables \n",
    "upper_tri = corr_df.where(np.triu(np.ones(corr_df.shape),k=1).astype(np.bool))\n",
    "print(upper_tri)"
   ]
  },
  {
   "cell_type": "code",
   "execution_count": 20,
   "id": "9c11192c",
   "metadata": {},
   "outputs": [
    {
     "name": "stdout",
     "output_type": "stream",
     "text": [
      "['Packets', 'pkts_sent']\n"
     ]
    }
   ],
   "source": [
    "to_drop = [column for column in upper_tri.columns if any(upper_tri[column] > 0.95)]\n",
    "print((to_drop))"
   ]
  },
  {
   "cell_type": "code",
   "execution_count": 21,
   "id": "1edf1364",
   "metadata": {},
   "outputs": [],
   "source": [
    "X = df.drop(['Action_mod'],axis=1)\n",
    "ind_columns = df.drop('Action_mod',axis=1).columns\n",
    "y = df['Action_mod']"
   ]
  },
  {
   "cell_type": "markdown",
   "id": "35c4701e",
   "metadata": {},
   "source": [
    "We did normalize the attributes using StandardScaler() to scale them between 0 and 1 before running models."
   ]
  },
  {
   "cell_type": "code",
   "execution_count": 22,
   "id": "8be0040f",
   "metadata": {},
   "outputs": [],
   "source": [
    "# Normalize the data\n",
    "scaler = StandardScaler()\n",
    "X_scaled = scaler.fit_transform(X)"
   ]
  },
  {
   "cell_type": "code",
   "execution_count": 23,
   "id": "f263c3f8",
   "metadata": {},
   "outputs": [],
   "source": [
    "from sklearn.model_selection import train_test_split\n",
    "#Direct train/test split\n",
    "X_train, X_test, y_train, y_test = train_test_split(\n",
    "    X_scaled, y, test_size=0.20, random_state=1234\n",
    ")"
   ]
  },
  {
   "cell_type": "code",
   "execution_count": 24,
   "id": "9fdb1923",
   "metadata": {},
   "outputs": [],
   "source": [
    "#Create Cross Validation Procedure\n",
    "cv = StratifiedKFold(n_splits=10, random_state=1234, shuffle=True)"
   ]
  },
  {
   "cell_type": "code",
   "execution_count": 25,
   "id": "5d13b694",
   "metadata": {},
   "outputs": [],
   "source": [
    "# Model Metrics\n",
    "from sklearn.model_selection import cross_validate\n",
    "from sklearn.model_selection import cross_val_predict\n",
    "\n",
    "def displayModel_metrics(best_model, grid_model, features, target, cv):\n",
    "    metrics = cross_validate(best_model, features, y=target, cv=cv, \n",
    "                             scoring=['accuracy','precision','recall', 'f1'], return_train_score=True) \n",
    "    \n",
    "    y_predict = cross_val_predict(best_model, features, target, cv=cv)\n",
    "\n",
    "    print('\\nBest Accuracy with Grid Search            : {:.3f}'.format(grid_model.best_score_))\n",
    "    print('\\nTraining data Metrics')\n",
    "    print('\\n     The average accuraccy : {:.3f}'.format(metrics['train_accuracy'].mean()))\n",
    "    print('     The average precision : {:.3f}'.format(metrics['train_precision'].mean()))\n",
    "    print('     The average recall    : {:.3f}'.format(metrics['train_recall'].mean()))\n",
    "    print('     The average f1 score    : {:.3f}'.format(metrics['train_f1'].mean()))\n",
    "\n",
    "    print('\\nTest data Metrics')\n",
    "    print('\\n     The average accuracy  : {:.3f}'.format(metrics['test_accuracy'].mean()))\n",
    "    print('     The average precision : {:.3f}'.format(metrics['test_precision'].mean()))\n",
    "    print('     The average  recall   : {:.3f}'.format(metrics['test_recall'].mean()))\n",
    "    print('     The average f1 score    : {:.3f}'.format(metrics['test_f1'].mean()))\n",
    "    \n",
    "    matrix = classification_report(target, y_predict, labels=[1,0])\n",
    "    print('\\nClassification report\\n')\n",
    "    print(matrix)"
   ]
  },
  {
   "cell_type": "code",
   "execution_count": 26,
   "id": "81af5be0",
   "metadata": {},
   "outputs": [],
   "source": [
    "# Reference https://github.com/jakemdrew/DataMiningNotebooks/blob/master/06.%20Classification.ipynb\n",
    "# ROC curve plot\n",
    "import seaborn as sns\n",
    "from sklearn.preprocessing import label_binarize\n",
    "from sklearn import metrics as mt\n",
    "\n",
    "def roc_curve_plot(model_fit, features, target):\n",
    "\n",
    "    sns.set_palette(\"dark\")\n",
    "\n",
    "    yhat_score = model_fit.predict_proba(features)\n",
    "\n",
    "    # Compute ROC curve for a subset of interesting classes\n",
    "    fpr = dict()\n",
    "    tpr = dict()\n",
    "    roc_auc = dict()\n",
    "    for i in np.unique(target):\n",
    "        fpr[i], tpr[i], _ = mt.roc_curve(y, yhat_score[:, i], pos_label=i)\n",
    "        roc_auc[i] = mt.auc(fpr[i], tpr[i])\n",
    "\n",
    "    for i in np.unique(target):\n",
    "        plt.plot(fpr[i], tpr[i], label= ('class %d (area = %0.2f)' % (i, roc_auc[i])))\n",
    "    plt.plot([0, 1], [0, 1], color='navy', lw=2, linestyle='--')\n",
    "\n",
    "    plt.legend(loc=\"lower right\")  \n",
    "    plt.title('Receiver operating characteristic')\n",
    "    plt.xlabel('False Positive Rate')\n",
    "    plt.ylabel('True Positive Rate')\n",
    "    plt.show()"
   ]
  },
  {
   "cell_type": "markdown",
   "id": "4c89e128",
   "metadata": {},
   "source": [
    "### Support Vector Machine (SVM)"
   ]
  },
  {
   "cell_type": "markdown",
   "id": "fb80d524",
   "metadata": {},
   "source": [
    "GridSearch Parameters:\n",
    "\n",
    "C: Regularization parameter. The strength of the regularization is inversely proportional to C. Must be strictly positive. The penalty is a squared l2 penalty.\n",
    "\n",
    "class_weight: Set the parameter C of class i to class_weight[i]*C for SVC. If not given, all classes are supposed to have weight one. The “balanced” mode uses the values of y to automatically adjust weights inversely proportional to class frequencies in the input data as n_samples / (n_classes * np.bincount(y)). \n",
    "\n",
    "kernel: Specifies the kernel type to be used in the algorithm. If none is given, ‘rbf’ will be used. If a callable is given it is used to pre-compute the kernel matrix from data matrices; that matrix should be an array of shape (n_samples, n_samples)"
   ]
  },
  {
   "cell_type": "code",
   "execution_count": 27,
   "id": "6d491d99",
   "metadata": {},
   "outputs": [],
   "source": [
    "from sklearn import svm\n",
    "\n",
    "SVM = svm.SVC()\n",
    "\n",
    "# define parameters\n",
    "C_SVM = [0.1, 1, 5, 10]\n",
    "class_weight_SVM = ['balanced', None]\n",
    "kernel_SVM = ['linear', 'poly', 'rbf']\n",
    "random_state_SVM = [1234]\n",
    "\n",
    "# define grid search\n",
    "\n",
    "param_grid_SVM = dict(C=C_SVM, class_weight=class_weight_SVM, kernel=kernel_SVM,\n",
    "                      random_state=random_state_SVM)\n",
    "\n",
    "grid_search_SVM = GridSearchCV(estimator=SVM, param_grid=param_grid_SVM, n_jobs=10, cv=cv, \n",
    "                               scoring='accuracy',error_score=0, verbose=1)"
   ]
  },
  {
   "cell_type": "code",
   "execution_count": 28,
   "id": "50c51971",
   "metadata": {},
   "outputs": [
    {
     "name": "stdout",
     "output_type": "stream",
     "text": [
      "Fitting 10 folds for each of 24 candidates, totalling 240 fits\n",
      "Best: 0.997940 using {'C': 10, 'class_weight': None, 'kernel': 'rbf', 'random_state': 1234}\n",
      "0.992771 (0.000711) with: {'C': 0.1, 'class_weight': 'balanced', 'kernel': 'linear', 'random_state': 1234}\n",
      "0.945579 (0.008331) with: {'C': 0.1, 'class_weight': 'balanced', 'kernel': 'poly', 'random_state': 1234}\n",
      "0.980296 (0.002211) with: {'C': 0.1, 'class_weight': 'balanced', 'kernel': 'rbf', 'random_state': 1234}\n",
      "0.992961 (0.000600) with: {'C': 0.1, 'class_weight': None, 'kernel': 'linear', 'random_state': 1234}\n",
      "0.959428 (0.005071) with: {'C': 0.1, 'class_weight': None, 'kernel': 'poly', 'random_state': 1234}\n",
      "0.981688 (0.001941) with: {'C': 0.1, 'class_weight': None, 'kernel': 'rbf', 'random_state': 1234}\n",
      "0.997539 (0.000543) with: {'C': 1, 'class_weight': 'balanced', 'kernel': 'linear', 'random_state': 1234}\n",
      "0.976633 (0.003497) with: {'C': 1, 'class_weight': 'balanced', 'kernel': 'poly', 'random_state': 1234}\n",
      "0.996757 (0.000682) with: {'C': 1, 'class_weight': 'balanced', 'kernel': 'rbf', 'random_state': 1234}\n",
      "0.997673 (0.000558) with: {'C': 1, 'class_weight': None, 'kernel': 'linear', 'random_state': 1234}\n",
      "0.977530 (0.003465) with: {'C': 1, 'class_weight': None, 'kernel': 'poly', 'random_state': 1234}\n",
      "0.997310 (0.000606) with: {'C': 1, 'class_weight': None, 'kernel': 'rbf', 'random_state': 1234}\n",
      "0.997539 (0.000493) with: {'C': 5, 'class_weight': 'balanced', 'kernel': 'linear', 'random_state': 1234}\n",
      "0.985789 (0.002745) with: {'C': 5, 'class_weight': 'balanced', 'kernel': 'poly', 'random_state': 1234}\n",
      "0.997787 (0.000622) with: {'C': 5, 'class_weight': 'balanced', 'kernel': 'rbf', 'random_state': 1234}\n",
      "0.997654 (0.000519) with: {'C': 5, 'class_weight': None, 'kernel': 'linear', 'random_state': 1234}\n",
      "0.986457 (0.002478) with: {'C': 5, 'class_weight': None, 'kernel': 'poly', 'random_state': 1234}\n",
      "0.997806 (0.000605) with: {'C': 5, 'class_weight': None, 'kernel': 'rbf', 'random_state': 1234}\n",
      "0.997520 (0.000609) with: {'C': 10, 'class_weight': 'balanced', 'kernel': 'linear', 'random_state': 1234}\n",
      "0.989432 (0.002375) with: {'C': 10, 'class_weight': 'balanced', 'kernel': 'poly', 'random_state': 1234}\n",
      "0.997883 (0.000594) with: {'C': 10, 'class_weight': 'balanced', 'kernel': 'rbf', 'random_state': 1234}\n",
      "0.997692 (0.000493) with: {'C': 10, 'class_weight': None, 'kernel': 'linear', 'random_state': 1234}\n",
      "0.989986 (0.002335) with: {'C': 10, 'class_weight': None, 'kernel': 'poly', 'random_state': 1234}\n",
      "0.997940 (0.000571) with: {'C': 10, 'class_weight': None, 'kernel': 'rbf', 'random_state': 1234}\n",
      "Wall time: 24min 2s\n"
     ]
    }
   ],
   "source": [
    "%%time\n",
    "grid_result_SVM = grid_search_SVM.fit(X_train, y_train)\n",
    "# summarize results\n",
    "print(\"Best: %f using %s\" % (grid_result_SVM.best_score_, grid_result_SVM.best_params_))\n",
    "means = grid_result_SVM.cv_results_['mean_test_score']\n",
    "stds = grid_result_SVM.cv_results_['std_test_score']\n",
    "params = grid_result_SVM.cv_results_['params']\n",
    "for mean, stdev, param in zip(means, stds, params):\n",
    "    print(\"%f (%f) with: %r\" % (mean, stdev, param))"
   ]
  },
  {
   "cell_type": "code",
   "execution_count": 29,
   "id": "8b7eb31d",
   "metadata": {},
   "outputs": [
    {
     "data": {
      "text/plain": [
       "SVC(C=10, random_state=1234)"
      ]
     },
     "execution_count": 29,
     "metadata": {},
     "output_type": "execute_result"
    }
   ],
   "source": [
    "# The GridSearch algorithm determined the following optimal parameters\n",
    "best_Estimator_SVM =grid_result_SVM.best_estimator_\n",
    "best_Estimator_SVM"
   ]
  },
  {
   "cell_type": "code",
   "execution_count": 30,
   "id": "23a85ca4",
   "metadata": {},
   "outputs": [
    {
     "name": "stdout",
     "output_type": "stream",
     "text": [
      "\n",
      "Best Accuracy with Grid Search            : 0.998\n",
      "\n",
      "Training data Metrics\n",
      "\n",
      "     The average accuraccy : 0.998\n",
      "     The average precision : 0.999\n",
      "     The average recall    : 0.997\n",
      "     The average f1 score    : 0.998\n",
      "\n",
      "Test data Metrics\n",
      "\n",
      "     The average accuracy  : 0.998\n",
      "     The average precision : 0.999\n",
      "     The average  recall   : 0.997\n",
      "     The average f1 score    : 0.998\n",
      "\n",
      "Classification report\n",
      "\n",
      "              precision    recall  f1-score   support\n",
      "\n",
      "           1       1.00      1.00      1.00     30079\n",
      "           0       1.00      1.00      1.00     22346\n",
      "\n",
      "    accuracy                           1.00     52425\n",
      "   macro avg       1.00      1.00      1.00     52425\n",
      "weighted avg       1.00      1.00      1.00     52425\n",
      "\n"
     ]
    }
   ],
   "source": [
    "# Display model metrics\n",
    "displayModel_metrics(best_Estimator_SVM, grid_result_SVM, X_train, y_train, cv)"
   ]
  },
  {
   "cell_type": "code",
   "execution_count": 31,
   "id": "95dbcd46",
   "metadata": {
    "scrolled": false
   },
   "outputs": [
    {
     "data": {
      "image/png": "[encoded data removed]",
      "text/plain": [
       "<Figure size 432x288 with 2 Axes>"
      ]
     },
     "metadata": {
      "needs_background": "light"
     },
     "output_type": "display_data"
    }
   ],
   "source": [
    "# training data confusion matrix\n",
    "from sklearn.metrics import ConfusionMatrixDisplay\n",
    "\n",
    "predictions = grid_result_SVM.predict(X_train)\n",
    "cm = confusion_matrix(y_train, predictions, labels=grid_result_SVM.classes_)\n",
    "\n",
    "disp = ConfusionMatrixDisplay(confusion_matrix=cm,display_labels=grid_result_SVM.classes_)\n",
    "disp.plot()\n",
    "plt.show()"
   ]
  },
  {
   "cell_type": "code",
   "execution_count": 32,
   "id": "8a390a5e",
   "metadata": {
    "scrolled": true
   },
   "outputs": [
    {
     "data": {
      "image/png": "[encoded data removed]",
      "text/plain": [
       "<Figure size 432x288 with 2 Axes>"
      ]
     },
     "metadata": {
      "needs_background": "light"
     },
     "output_type": "display_data"
    }
   ],
   "source": [
    "# test data confusion matrix\n",
    "predictions = grid_result_SVM.predict(X_test)\n",
    "cm = confusion_matrix(y_test, predictions, labels=grid_result_SVM.classes_)\n",
    "disp = ConfusionMatrixDisplay(confusion_matrix=cm,display_labels=grid_result_SVM.classes_)\n",
    "disp.plot()\n",
    "plt.show()"
   ]
  },
  {
   "cell_type": "code",
   "execution_count": 33,
   "id": "3f0c0a48",
   "metadata": {},
   "outputs": [
    {
     "name": "stdout",
     "output_type": "stream",
     "text": [
      "Precision: 0.9980163271534295\n",
      "Recall   : 0.9970903319666711\n",
      "Precision: 0.9994697070131248\n"
     ]
    }
   ],
   "source": [
    "# Test Accuracy Precision and recall\n",
    "from sklearn.metrics import recall_score\n",
    "from sklearn.metrics import precision_score\n",
    "predictions = grid_result_SVM.predict(X_test)\n",
    "print(\"Precision:\", accuracy_score(y_test, predictions))\n",
    "print(\"Recall   :\", recall_score(y_test, predictions, average='binary'))\n",
    "print(\"Precision:\", precision_score(y_test, predictions, average='binary'))"
   ]
  },
  {
   "cell_type": "code",
   "execution_count": 34,
   "id": "41a3012f",
   "metadata": {},
   "outputs": [
    {
     "data": {
      "text/plain": [
       "Text(0.5, 1.0, 'Precision-Recall Curve')"
      ]
     },
     "execution_count": 34,
     "metadata": {},
     "output_type": "execute_result"
    },
    {
     "data": {
      "image/png": "[encoded data removed]",
      "text/plain": [
       "<Figure size 432x288 with 1 Axes>"
      ]
     },
     "metadata": {
      "needs_background": "light"
     },
     "output_type": "display_data"
    }
   ],
   "source": [
    "# Precision recall curve for Test data\n",
    "disp = plot_precision_recall_curve(best_Estimator_SVM, X_test, y_test)\n",
    "disp.ax_.set_title('Precision-Recall Curve')"
   ]
  },
  {
   "cell_type": "code",
   "execution_count": 35,
   "id": "62105224",
   "metadata": {},
   "outputs": [
    {
     "data": {
      "image/png": "[encoded data removed]",
      "text/plain": [
       "<Figure size 432x288 with 1 Axes>"
      ]
     },
     "metadata": {
      "needs_background": "light"
     },
     "output_type": "display_data"
    }
   ],
   "source": [
    "# ROC curve for Test data\n",
    "from sklearn import metrics\n",
    "fpr, tpr, thresholds = metrics.roc_curve(y_test, grid_result_SVM.predict(X_test))\n",
    "roc_auc = metrics.auc(fpr, tpr)\n",
    "display = metrics.RocCurveDisplay(fpr=fpr, tpr=tpr, roc_auc=roc_auc,estimator_name='example estimator')\n",
    "display.plot()\n",
    "plt.show()"
   ]
  },
  {
   "cell_type": "code",
   "execution_count": 36,
   "id": "1515541e",
   "metadata": {},
   "outputs": [
    {
     "data": {
      "text/plain": [
       "(807, 11)"
      ]
     },
     "execution_count": 36,
     "metadata": {},
     "output_type": "execute_result"
    }
   ],
   "source": [
    "# https://scikit-learn.org/stable/modules/generated/sklearn.svm.SVC.html\n",
    "best_Estimator_SVM.support_vectors_.shape"
   ]
  },
  {
   "cell_type": "code",
   "execution_count": 37,
   "id": "b74a22d1",
   "metadata": {},
   "outputs": [
    {
     "data": {
      "text/plain": [
       "array([418, 389])"
      ]
     },
     "execution_count": 37,
     "metadata": {},
     "output_type": "execute_result"
    }
   ],
   "source": [
    "best_Estimator_SVM.n_support_ "
   ]
  },
  {
   "cell_type": "code",
   "execution_count": 38,
   "id": "8af55821",
   "metadata": {},
   "outputs": [],
   "source": [
    "df_support = df.iloc[best_Estimator_SVM.support_,:].copy()"
   ]
  },
  {
   "cell_type": "code",
   "execution_count": 39,
   "id": "b6b1247b",
   "metadata": {},
   "outputs": [
    {
     "data": {
      "text/html": [
       "<div>\n",
       "<style scoped>\n",
       "    .dataframe tbody tr th:only-of-type {\n",
       "        vertical-align: middle;\n",
       "    }\n",
       "\n",
       "    .dataframe tbody tr th {\n",
       "        vertical-align: top;\n",
       "    }\n",
       "\n",
       "    .dataframe thead th {\n",
       "        text-align: right;\n",
       "    }\n",
       "</style>\n",
       "<table border=\"1\" class=\"dataframe\">\n",
       "  <thead>\n",
       "    <tr style=\"text-align: right;\">\n",
       "      <th></th>\n",
       "      <th>Source Port</th>\n",
       "      <th>Destination Port</th>\n",
       "      <th>NAT Source Port</th>\n",
       "      <th>NAT Destination Port</th>\n",
       "      <th>Bytes</th>\n",
       "      <th>Bytes Sent</th>\n",
       "      <th>Bytes Received</th>\n",
       "      <th>Packets</th>\n",
       "      <th>Elapsed Time (sec)</th>\n",
       "      <th>pkts_sent</th>\n",
       "      <th>pkts_received</th>\n",
       "      <th>Action_mod</th>\n",
       "    </tr>\n",
       "  </thead>\n",
       "  <tbody>\n",
       "    <tr>\n",
       "      <th>148</th>\n",
       "      <td>51125</td>\n",
       "      <td>445</td>\n",
       "      <td>0</td>\n",
       "      <td>0</td>\n",
       "      <td>66</td>\n",
       "      <td>66</td>\n",
       "      <td>0</td>\n",
       "      <td>1</td>\n",
       "      <td>0</td>\n",
       "      <td>1</td>\n",
       "      <td>0</td>\n",
       "      <td>0</td>\n",
       "    </tr>\n",
       "    <tr>\n",
       "      <th>394</th>\n",
       "      <td>52157</td>\n",
       "      <td>80</td>\n",
       "      <td>19874</td>\n",
       "      <td>80</td>\n",
       "      <td>366</td>\n",
       "      <td>240</td>\n",
       "      <td>126</td>\n",
       "      <td>7</td>\n",
       "      <td>32</td>\n",
       "      <td>5</td>\n",
       "      <td>2</td>\n",
       "      <td>1</td>\n",
       "    </tr>\n",
       "    <tr>\n",
       "      <th>421</th>\n",
       "      <td>56741</td>\n",
       "      <td>53</td>\n",
       "      <td>5499</td>\n",
       "      <td>53</td>\n",
       "      <td>370</td>\n",
       "      <td>94</td>\n",
       "      <td>276</td>\n",
       "      <td>2</td>\n",
       "      <td>30</td>\n",
       "      <td>1</td>\n",
       "      <td>1</td>\n",
       "      <td>1</td>\n",
       "    </tr>\n",
       "    <tr>\n",
       "      <th>450</th>\n",
       "      <td>37647</td>\n",
       "      <td>443</td>\n",
       "      <td>55661</td>\n",
       "      <td>443</td>\n",
       "      <td>697381</td>\n",
       "      <td>19797</td>\n",
       "      <td>677584</td>\n",
       "      <td>725</td>\n",
       "      <td>106</td>\n",
       "      <td>247</td>\n",
       "      <td>478</td>\n",
       "      <td>1</td>\n",
       "    </tr>\n",
       "    <tr>\n",
       "      <th>659</th>\n",
       "      <td>50880</td>\n",
       "      <td>445</td>\n",
       "      <td>0</td>\n",
       "      <td>0</td>\n",
       "      <td>70</td>\n",
       "      <td>70</td>\n",
       "      <td>0</td>\n",
       "      <td>1</td>\n",
       "      <td>0</td>\n",
       "      <td>1</td>\n",
       "      <td>0</td>\n",
       "      <td>0</td>\n",
       "    </tr>\n",
       "  </tbody>\n",
       "</table>\n",
       "</div>"
      ],
      "text/plain": [
       "     Source Port  Destination Port  NAT Source Port  NAT Destination Port  \\\n",
       "148        51125               445                0                     0   \n",
       "394        52157                80            19874                    80   \n",
       "421        56741                53             5499                    53   \n",
       "450        37647               443            55661                   443   \n",
       "659        50880               445                0                     0   \n",
       "\n",
       "      Bytes  Bytes Sent  Bytes Received  Packets  Elapsed Time (sec)  \\\n",
       "148      66          66               0        1                   0   \n",
       "394     366         240             126        7                  32   \n",
       "421     370          94             276        2                  30   \n",
       "450  697381       19797          677584      725                 106   \n",
       "659      70          70               0        1                   0   \n",
       "\n",
       "     pkts_sent  pkts_received  Action_mod  \n",
       "148          1              0           0  \n",
       "394          5              2           1  \n",
       "421          1              1           1  \n",
       "450        247            478           1  \n",
       "659          1              0           0  "
      ]
     },
     "execution_count": 39,
     "metadata": {},
     "output_type": "execute_result"
    }
   ],
   "source": [
    "df_support.head()"
   ]
  },
  {
   "cell_type": "code",
   "execution_count": 40,
   "id": "513c031b",
   "metadata": {},
   "outputs": [
    {
     "data": {
      "image/png": "[encoded data removed]",
      "text/plain": [
       "<Figure size 720x288 with 2 Axes>"
      ]
     },
     "metadata": {
      "needs_background": "light"
     },
     "output_type": "display_data"
    },
    {
     "data": {
      "image/png": "[encoded data removed]",
      "text/plain": [
       "<Figure size 720x288 with 2 Axes>"
      ]
     },
     "metadata": {
      "needs_background": "light"
     },
     "output_type": "display_data"
    }
   ],
   "source": [
    "# plot KDE of Different variables\n",
    "# group the original data and the support vectors\n",
    "df_grouped_support = df_support.groupby(['Action_mod'])\n",
    "df_grouped = df.groupby(['Action_mod'])\n",
    "\n",
    "vars_to_plot = ['Source Port','Destination Port']\n",
    "for v in vars_to_plot:\n",
    "    plt.figure(figsize=(10,4))\n",
    "    # plot support vector stats\n",
    "    plt.subplot(1,2,1)\n",
    "    ax = df_grouped_support[v].plot.kde() \n",
    "    plt.legend(['allow','deny'])\n",
    "    plt.title(v+' (Instances chosen as Support Vectors)')\n",
    "    \n",
    "    # plot original distributions\n",
    "    plt.subplot(1,2,2)\n",
    "    ax = df_grouped[v].plot.kde() \n",
    "    plt.legend(['allow','deny'])\n",
    "    plt.title(v+' (Original)')"
   ]
  },
  {
   "cell_type": "markdown",
   "id": "76bf542f",
   "metadata": {},
   "source": [
    "### Feature Importance"
   ]
  },
  {
   "cell_type": "code",
   "execution_count": 41,
   "id": "76e690ae",
   "metadata": {},
   "outputs": [
    {
     "data": {
      "text/plain": [
       "Text(0.5, 0, 'Permutation Importance')"
      ]
     },
     "execution_count": 41,
     "metadata": {},
     "output_type": "execute_result"
    },
    {
     "data": {
      "image/png": "[encoded data removed]",
      "text/plain": [
       "<Figure size 432x288 with 1 Axes>"
      ]
     },
     "metadata": {
      "needs_background": "light"
     },
     "output_type": "display_data"
    }
   ],
   "source": [
    "# https://stackoverflow.com/questions/41592661/determining-the-most-contributing-features-for-svm-classifier-in-sklearn\n",
    "from sklearn.inspection import permutation_importance\n",
    "perm_importance = permutation_importance(grid_search_SVM.best_estimator_, X_train, y_train)\n",
    "\n",
    "feature_names = df.columns\n",
    "features = np.array(feature_names)\n",
    "\n",
    "sorted_idx = perm_importance.importances_mean.argsort()\n",
    "plt.barh(features[sorted_idx], perm_importance.importances_mean[sorted_idx])\n",
    "plt.xlabel(\"Permutation Importance\")"
   ]
  },
  {
   "cell_type": "markdown",
   "id": "66acbd7a",
   "metadata": {},
   "source": [
    "### Stochastic Gradient Descent (SGD)"
   ]
  },
  {
   "cell_type": "markdown",
   "id": "440537a3",
   "metadata": {},
   "source": [
    "GridSearch Parameters:\n",
    "\n",
    "loss: The possible options are ‘hinge’, ‘log’, ‘modified_huber’, ‘squared_hinge’, ‘perceptron’, or a regression loss: ‘squared_loss’, ‘huber’, ‘epsilon_insensitive’, or ‘squared_epsilon_insensitive’\n",
    "\n",
    "penalty: The penalty (aka regularization term), Defaults to ‘l2’ which is the standard regularizer for linear SVM models. ‘l1’ and ‘elasticnet’ might bring sparsity to the model\n",
    "\n",
    "alpha: Constant that multiplies the regularization term, The higher the value, the stronger the regularization. Also used to compute the learning rate when set to learning_rate is set to ‘optimal’\n",
    "\n",
    "class_weight: Weights associated with classes. If not given, all classes are supposed to have weight one. \n",
    "\n",
    "max_iter: The maximum number of passes over the training data (aka epochs)."
   ]
  },
  {
   "cell_type": "code",
   "execution_count": 42,
   "id": "24100511",
   "metadata": {},
   "outputs": [],
   "source": [
    "# https://scikit-learn.org/stable/modules/generated/sklearn.linear_model.SGDClassifier.html?highlight=sgdclassifier#sklearn.linear_model.SGDClassifier\n",
    "#SVM_SGD \n",
    "from sklearn import svm\n",
    "from sklearn.linear_model import SGDClassifier\n",
    "\n",
    "SGD = SGDClassifier()\n",
    "\n",
    "# define parameters\n",
    "loss_SGD = ['modified_huber', 'hinge']\n",
    "penalty_SGD = ['l2']\n",
    "alpha_SGD = [0.00001,0.00005, 0.0001, 0.0005, 0.001, 0.03, 0.01, 0.1, 1]\n",
    "class_weight_SGD = ['balanced', None]\n",
    "max_iter_SGD = [100, 200, 300]\n",
    "random_state_SGD = [1234]\n",
    "\n",
    "# define grid search\n",
    "param_grid_SGD = dict(loss=loss_SGD, penalty=penalty_SGD, alpha=alpha_SGD,\n",
    "                     class_weight=class_weight_SGD, max_iter=max_iter_SGD, random_state=random_state_SGD)\n",
    "\n",
    "\n",
    "grid_search_SGD = GridSearchCV(estimator=SGD, param_grid=param_grid_SGD, n_jobs=10, cv=cv, \n",
    "                               scoring='accuracy',error_score=0, verbose=1)"
   ]
  },
  {
   "cell_type": "code",
   "execution_count": 43,
   "id": "48dbe422",
   "metadata": {},
   "outputs": [
    {
     "name": "stdout",
     "output_type": "stream",
     "text": [
      "Fitting 10 folds for each of 108 candidates, totalling 1080 fits\n",
      "Best: 0.997635 using {'alpha': 0.0001, 'class_weight': None, 'loss': 'hinge', 'max_iter': 100, 'penalty': 'l2', 'random_state': 1234}\n",
      "0.996128 (0.001242) with: {'alpha': 1e-05, 'class_weight': 'balanced', 'loss': 'modified_huber', 'max_iter': 100, 'penalty': 'l2', 'random_state': 1234}\n",
      "0.996128 (0.001242) with: {'alpha': 1e-05, 'class_weight': 'balanced', 'loss': 'modified_huber', 'max_iter': 200, 'penalty': 'l2', 'random_state': 1234}\n",
      "0.996128 (0.001242) with: {'alpha': 1e-05, 'class_weight': 'balanced', 'loss': 'modified_huber', 'max_iter': 300, 'penalty': 'l2', 'random_state': 1234}\n",
      "0.997330 (0.000768) with: {'alpha': 1e-05, 'class_weight': 'balanced', 'loss': 'hinge', 'max_iter': 100, 'penalty': 'l2', 'random_state': 1234}\n",
      "0.997330 (0.000768) with: {'alpha': 1e-05, 'class_weight': 'balanced', 'loss': 'hinge', 'max_iter': 200, 'penalty': 'l2', 'random_state': 1234}\n",
      "0.997330 (0.000768) with: {'alpha': 1e-05, 'class_weight': 'balanced', 'loss': 'hinge', 'max_iter': 300, 'penalty': 'l2', 'random_state': 1234}\n",
      "0.995651 (0.002818) with: {'alpha': 1e-05, 'class_weight': None, 'loss': 'modified_huber', 'max_iter': 100, 'penalty': 'l2', 'random_state': 1234}\n",
      "0.995651 (0.002818) with: {'alpha': 1e-05, 'class_weight': None, 'loss': 'modified_huber', 'max_iter': 200, 'penalty': 'l2', 'random_state': 1234}\n",
      "0.995651 (0.002818) with: {'alpha': 1e-05, 'class_weight': None, 'loss': 'modified_huber', 'max_iter': 300, 'penalty': 'l2', 'random_state': 1234}\n",
      "0.996700 (0.002344) with: {'alpha': 1e-05, 'class_weight': None, 'loss': 'hinge', 'max_iter': 100, 'penalty': 'l2', 'random_state': 1234}\n",
      "0.996700 (0.002344) with: {'alpha': 1e-05, 'class_weight': None, 'loss': 'hinge', 'max_iter': 200, 'penalty': 'l2', 'random_state': 1234}\n",
      "0.996700 (0.002344) with: {'alpha': 1e-05, 'class_weight': None, 'loss': 'hinge', 'max_iter': 300, 'penalty': 'l2', 'random_state': 1234}\n",
      "0.996395 (0.001165) with: {'alpha': 5e-05, 'class_weight': 'balanced', 'loss': 'modified_huber', 'max_iter': 100, 'penalty': 'l2', 'random_state': 1234}\n",
      "0.996395 (0.001165) with: {'alpha': 5e-05, 'class_weight': 'balanced', 'loss': 'modified_huber', 'max_iter': 200, 'penalty': 'l2', 'random_state': 1234}\n",
      "0.996395 (0.001165) with: {'alpha': 5e-05, 'class_weight': 'balanced', 'loss': 'modified_huber', 'max_iter': 300, 'penalty': 'l2', 'random_state': 1234}\n",
      "0.997577 (0.000579) with: {'alpha': 5e-05, 'class_weight': 'balanced', 'loss': 'hinge', 'max_iter': 100, 'penalty': 'l2', 'random_state': 1234}\n",
      "0.997577 (0.000579) with: {'alpha': 5e-05, 'class_weight': 'balanced', 'loss': 'hinge', 'max_iter': 200, 'penalty': 'l2', 'random_state': 1234}\n",
      "0.997577 (0.000579) with: {'alpha': 5e-05, 'class_weight': 'balanced', 'loss': 'hinge', 'max_iter': 300, 'penalty': 'l2', 'random_state': 1234}\n",
      "0.996433 (0.001630) with: {'alpha': 5e-05, 'class_weight': None, 'loss': 'modified_huber', 'max_iter': 100, 'penalty': 'l2', 'random_state': 1234}\n",
      "0.996433 (0.001630) with: {'alpha': 5e-05, 'class_weight': None, 'loss': 'modified_huber', 'max_iter': 200, 'penalty': 'l2', 'random_state': 1234}\n",
      "0.996433 (0.001630) with: {'alpha': 5e-05, 'class_weight': None, 'loss': 'modified_huber', 'max_iter': 300, 'penalty': 'l2', 'random_state': 1234}\n",
      "0.997635 (0.000628) with: {'alpha': 5e-05, 'class_weight': None, 'loss': 'hinge', 'max_iter': 100, 'penalty': 'l2', 'random_state': 1234}\n",
      "0.997635 (0.000628) with: {'alpha': 5e-05, 'class_weight': None, 'loss': 'hinge', 'max_iter': 200, 'penalty': 'l2', 'random_state': 1234}\n",
      "0.997635 (0.000628) with: {'alpha': 5e-05, 'class_weight': None, 'loss': 'hinge', 'max_iter': 300, 'penalty': 'l2', 'random_state': 1234}\n",
      "0.996681 (0.000867) with: {'alpha': 0.0001, 'class_weight': 'balanced', 'loss': 'modified_huber', 'max_iter': 100, 'penalty': 'l2', 'random_state': 1234}\n",
      "0.996681 (0.000867) with: {'alpha': 0.0001, 'class_weight': 'balanced', 'loss': 'modified_huber', 'max_iter': 200, 'penalty': 'l2', 'random_state': 1234}\n",
      "0.996681 (0.000867) with: {'alpha': 0.0001, 'class_weight': 'balanced', 'loss': 'modified_huber', 'max_iter': 300, 'penalty': 'l2', 'random_state': 1234}\n",
      "0.997463 (0.000597) with: {'alpha': 0.0001, 'class_weight': 'balanced', 'loss': 'hinge', 'max_iter': 100, 'penalty': 'l2', 'random_state': 1234}\n",
      "0.997463 (0.000597) with: {'alpha': 0.0001, 'class_weight': 'balanced', 'loss': 'hinge', 'max_iter': 200, 'penalty': 'l2', 'random_state': 1234}\n",
      "0.997463 (0.000597) with: {'alpha': 0.0001, 'class_weight': 'balanced', 'loss': 'hinge', 'max_iter': 300, 'penalty': 'l2', 'random_state': 1234}\n",
      "0.996795 (0.000776) with: {'alpha': 0.0001, 'class_weight': None, 'loss': 'modified_huber', 'max_iter': 100, 'penalty': 'l2', 'random_state': 1234}\n",
      "0.996795 (0.000776) with: {'alpha': 0.0001, 'class_weight': None, 'loss': 'modified_huber', 'max_iter': 200, 'penalty': 'l2', 'random_state': 1234}\n",
      "0.996795 (0.000776) with: {'alpha': 0.0001, 'class_weight': None, 'loss': 'modified_huber', 'max_iter': 300, 'penalty': 'l2', 'random_state': 1234}\n",
      "0.997635 (0.000554) with: {'alpha': 0.0001, 'class_weight': None, 'loss': 'hinge', 'max_iter': 100, 'penalty': 'l2', 'random_state': 1234}\n",
      "0.997635 (0.000554) with: {'alpha': 0.0001, 'class_weight': None, 'loss': 'hinge', 'max_iter': 200, 'penalty': 'l2', 'random_state': 1234}\n",
      "0.997635 (0.000554) with: {'alpha': 0.0001, 'class_weight': None, 'loss': 'hinge', 'max_iter': 300, 'penalty': 'l2', 'random_state': 1234}\n",
      "0.991264 (0.000813) with: {'alpha': 0.0005, 'class_weight': 'balanced', 'loss': 'modified_huber', 'max_iter': 100, 'penalty': 'l2', 'random_state': 1234}\n",
      "0.991264 (0.000813) with: {'alpha': 0.0005, 'class_weight': 'balanced', 'loss': 'modified_huber', 'max_iter': 200, 'penalty': 'l2', 'random_state': 1234}\n",
      "0.991264 (0.000813) with: {'alpha': 0.0005, 'class_weight': 'balanced', 'loss': 'modified_huber', 'max_iter': 300, 'penalty': 'l2', 'random_state': 1234}\n",
      "0.988555 (0.000938) with: {'alpha': 0.0005, 'class_weight': 'balanced', 'loss': 'hinge', 'max_iter': 100, 'penalty': 'l2', 'random_state': 1234}\n",
      "0.988555 (0.000938) with: {'alpha': 0.0005, 'class_weight': 'balanced', 'loss': 'hinge', 'max_iter': 200, 'penalty': 'l2', 'random_state': 1234}\n",
      "0.988555 (0.000938) with: {'alpha': 0.0005, 'class_weight': 'balanced', 'loss': 'hinge', 'max_iter': 300, 'penalty': 'l2', 'random_state': 1234}\n",
      "0.992008 (0.000641) with: {'alpha': 0.0005, 'class_weight': None, 'loss': 'modified_huber', 'max_iter': 100, 'penalty': 'l2', 'random_state': 1234}\n",
      "0.992008 (0.000641) with: {'alpha': 0.0005, 'class_weight': None, 'loss': 'modified_huber', 'max_iter': 200, 'penalty': 'l2', 'random_state': 1234}\n",
      "0.992008 (0.000641) with: {'alpha': 0.0005, 'class_weight': None, 'loss': 'modified_huber', 'max_iter': 300, 'penalty': 'l2', 'random_state': 1234}\n",
      "0.989757 (0.001027) with: {'alpha': 0.0005, 'class_weight': None, 'loss': 'hinge', 'max_iter': 100, 'penalty': 'l2', 'random_state': 1234}\n",
      "0.989757 (0.001027) with: {'alpha': 0.0005, 'class_weight': None, 'loss': 'hinge', 'max_iter': 200, 'penalty': 'l2', 'random_state': 1234}\n",
      "0.989757 (0.001027) with: {'alpha': 0.0005, 'class_weight': None, 'loss': 'hinge', 'max_iter': 300, 'penalty': 'l2', 'random_state': 1234}\n",
      "0.986667 (0.001395) with: {'alpha': 0.001, 'class_weight': 'balanced', 'loss': 'modified_huber', 'max_iter': 100, 'penalty': 'l2', 'random_state': 1234}\n",
      "0.986667 (0.001395) with: {'alpha': 0.001, 'class_weight': 'balanced', 'loss': 'modified_huber', 'max_iter': 200, 'penalty': 'l2', 'random_state': 1234}\n",
      "0.986667 (0.001395) with: {'alpha': 0.001, 'class_weight': 'balanced', 'loss': 'modified_huber', 'max_iter': 300, 'penalty': 'l2', 'random_state': 1234}\n",
      "0.983596 (0.001377) with: {'alpha': 0.001, 'class_weight': 'balanced', 'loss': 'hinge', 'max_iter': 100, 'penalty': 'l2', 'random_state': 1234}\n",
      "0.983596 (0.001377) with: {'alpha': 0.001, 'class_weight': 'balanced', 'loss': 'hinge', 'max_iter': 200, 'penalty': 'l2', 'random_state': 1234}\n",
      "0.983596 (0.001377) with: {'alpha': 0.001, 'class_weight': 'balanced', 'loss': 'hinge', 'max_iter': 300, 'penalty': 'l2', 'random_state': 1234}\n",
      "0.988193 (0.001050) with: {'alpha': 0.001, 'class_weight': None, 'loss': 'modified_huber', 'max_iter': 100, 'penalty': 'l2', 'random_state': 1234}\n",
      "0.988193 (0.001050) with: {'alpha': 0.001, 'class_weight': None, 'loss': 'modified_huber', 'max_iter': 200, 'penalty': 'l2', 'random_state': 1234}\n",
      "0.988193 (0.001050) with: {'alpha': 0.001, 'class_weight': None, 'loss': 'modified_huber', 'max_iter': 300, 'penalty': 'l2', 'random_state': 1234}\n",
      "0.984702 (0.001484) with: {'alpha': 0.001, 'class_weight': None, 'loss': 'hinge', 'max_iter': 100, 'penalty': 'l2', 'random_state': 1234}\n",
      "0.984702 (0.001484) with: {'alpha': 0.001, 'class_weight': None, 'loss': 'hinge', 'max_iter': 200, 'penalty': 'l2', 'random_state': 1234}\n",
      "0.984702 (0.001484) with: {'alpha': 0.001, 'class_weight': None, 'loss': 'hinge', 'max_iter': 300, 'penalty': 'l2', 'random_state': 1234}\n",
      "0.954449 (0.002791) with: {'alpha': 0.03, 'class_weight': 'balanced', 'loss': 'modified_huber', 'max_iter': 100, 'penalty': 'l2', 'random_state': 1234}\n",
      "0.954449 (0.002791) with: {'alpha': 0.03, 'class_weight': 'balanced', 'loss': 'modified_huber', 'max_iter': 200, 'penalty': 'l2', 'random_state': 1234}\n",
      "0.954449 (0.002791) with: {'alpha': 0.03, 'class_weight': 'balanced', 'loss': 'modified_huber', 'max_iter': 300, 'penalty': 'l2', 'random_state': 1234}\n",
      "0.929671 (0.001923) with: {'alpha': 0.03, 'class_weight': 'balanced', 'loss': 'hinge', 'max_iter': 100, 'penalty': 'l2', 'random_state': 1234}\n",
      "0.929671 (0.001923) with: {'alpha': 0.03, 'class_weight': 'balanced', 'loss': 'hinge', 'max_iter': 200, 'penalty': 'l2', 'random_state': 1234}\n",
      "0.929671 (0.001923) with: {'alpha': 0.03, 'class_weight': 'balanced', 'loss': 'hinge', 'max_iter': 300, 'penalty': 'l2', 'random_state': 1234}\n",
      "0.961259 (0.002684) with: {'alpha': 0.03, 'class_weight': None, 'loss': 'modified_huber', 'max_iter': 100, 'penalty': 'l2', 'random_state': 1234}\n",
      "0.961259 (0.002684) with: {'alpha': 0.03, 'class_weight': None, 'loss': 'modified_huber', 'max_iter': 200, 'penalty': 'l2', 'random_state': 1234}\n",
      "0.961259 (0.002684) with: {'alpha': 0.03, 'class_weight': None, 'loss': 'modified_huber', 'max_iter': 300, 'penalty': 'l2', 'random_state': 1234}\n",
      "0.933772 (0.002227) with: {'alpha': 0.03, 'class_weight': None, 'loss': 'hinge', 'max_iter': 100, 'penalty': 'l2', 'random_state': 1234}\n",
      "0.933772 (0.002227) with: {'alpha': 0.03, 'class_weight': None, 'loss': 'hinge', 'max_iter': 200, 'penalty': 'l2', 'random_state': 1234}\n",
      "0.933772 (0.002227) with: {'alpha': 0.03, 'class_weight': None, 'loss': 'hinge', 'max_iter': 300, 'penalty': 'l2', 'random_state': 1234}\n",
      "0.967916 (0.002615) with: {'alpha': 0.01, 'class_weight': 'balanced', 'loss': 'modified_huber', 'max_iter': 100, 'penalty': 'l2', 'random_state': 1234}\n",
      "0.967916 (0.002615) with: {'alpha': 0.01, 'class_weight': 'balanced', 'loss': 'modified_huber', 'max_iter': 200, 'penalty': 'l2', 'random_state': 1234}\n",
      "0.967916 (0.002615) with: {'alpha': 0.01, 'class_weight': 'balanced', 'loss': 'modified_huber', 'max_iter': 300, 'penalty': 'l2', 'random_state': 1234}\n",
      "0.955804 (0.002842) with: {'alpha': 0.01, 'class_weight': 'balanced', 'loss': 'hinge', 'max_iter': 100, 'penalty': 'l2', 'random_state': 1234}\n",
      "0.955804 (0.002842) with: {'alpha': 0.01, 'class_weight': 'balanced', 'loss': 'hinge', 'max_iter': 200, 'penalty': 'l2', 'random_state': 1234}\n",
      "0.955804 (0.002842) with: {'alpha': 0.01, 'class_weight': 'balanced', 'loss': 'hinge', 'max_iter': 300, 'penalty': 'l2', 'random_state': 1234}\n",
      "0.971693 (0.002432) with: {'alpha': 0.01, 'class_weight': None, 'loss': 'modified_huber', 'max_iter': 100, 'penalty': 'l2', 'random_state': 1234}\n",
      "0.971693 (0.002432) with: {'alpha': 0.01, 'class_weight': None, 'loss': 'modified_huber', 'max_iter': 200, 'penalty': 'l2', 'random_state': 1234}\n",
      "0.971693 (0.002432) with: {'alpha': 0.01, 'class_weight': None, 'loss': 'modified_huber', 'max_iter': 300, 'penalty': 'l2', 'random_state': 1234}\n",
      "0.958360 (0.002674) with: {'alpha': 0.01, 'class_weight': None, 'loss': 'hinge', 'max_iter': 100, 'penalty': 'l2', 'random_state': 1234}\n",
      "0.958360 (0.002674) with: {'alpha': 0.01, 'class_weight': None, 'loss': 'hinge', 'max_iter': 200, 'penalty': 'l2', 'random_state': 1234}\n",
      "0.958360 (0.002674) with: {'alpha': 0.01, 'class_weight': None, 'loss': 'hinge', 'max_iter': 300, 'penalty': 'l2', 'random_state': 1234}\n",
      "0.934020 (0.002310) with: {'alpha': 0.1, 'class_weight': 'balanced', 'loss': 'modified_huber', 'max_iter': 100, 'penalty': 'l2', 'random_state': 1234}\n",
      "0.934020 (0.002310) with: {'alpha': 0.1, 'class_weight': 'balanced', 'loss': 'modified_huber', 'max_iter': 200, 'penalty': 'l2', 'random_state': 1234}\n",
      "0.934020 (0.002310) with: {'alpha': 0.1, 'class_weight': 'balanced', 'loss': 'modified_huber', 'max_iter': 300, 'penalty': 'l2', 'random_state': 1234}\n",
      "0.891769 (0.005191) with: {'alpha': 0.1, 'class_weight': 'balanced', 'loss': 'hinge', 'max_iter': 100, 'penalty': 'l2', 'random_state': 1234}\n",
      "0.891769 (0.005191) with: {'alpha': 0.1, 'class_weight': 'balanced', 'loss': 'hinge', 'max_iter': 200, 'penalty': 'l2', 'random_state': 1234}\n",
      "0.891769 (0.005191) with: {'alpha': 0.1, 'class_weight': 'balanced', 'loss': 'hinge', 'max_iter': 300, 'penalty': 'l2', 'random_state': 1234}\n",
      "0.945828 (0.002802) with: {'alpha': 0.1, 'class_weight': None, 'loss': 'modified_huber', 'max_iter': 100, 'penalty': 'l2', 'random_state': 1234}\n",
      "0.945828 (0.002802) with: {'alpha': 0.1, 'class_weight': None, 'loss': 'modified_huber', 'max_iter': 200, 'penalty': 'l2', 'random_state': 1234}\n",
      "0.945828 (0.002802) with: {'alpha': 0.1, 'class_weight': None, 'loss': 'modified_huber', 'max_iter': 300, 'penalty': 'l2', 'random_state': 1234}\n",
      "0.897702 (0.005019) with: {'alpha': 0.1, 'class_weight': None, 'loss': 'hinge', 'max_iter': 100, 'penalty': 'l2', 'random_state': 1234}\n",
      "0.897702 (0.005019) with: {'alpha': 0.1, 'class_weight': None, 'loss': 'hinge', 'max_iter': 200, 'penalty': 'l2', 'random_state': 1234}\n",
      "0.897702 (0.005019) with: {'alpha': 0.1, 'class_weight': None, 'loss': 'hinge', 'max_iter': 300, 'penalty': 'l2', 'random_state': 1234}\n",
      "0.904264 (0.004459) with: {'alpha': 1, 'class_weight': 'balanced', 'loss': 'modified_huber', 'max_iter': 100, 'penalty': 'l2', 'random_state': 1234}\n",
      "0.904264 (0.004459) with: {'alpha': 1, 'class_weight': 'balanced', 'loss': 'modified_huber', 'max_iter': 200, 'penalty': 'l2', 'random_state': 1234}\n",
      "0.904264 (0.004459) with: {'alpha': 1, 'class_weight': 'balanced', 'loss': 'modified_huber', 'max_iter': 300, 'penalty': 'l2', 'random_state': 1234}\n",
      "0.859305 (0.008734) with: {'alpha': 1, 'class_weight': 'balanced', 'loss': 'hinge', 'max_iter': 100, 'penalty': 'l2', 'random_state': 1234}\n",
      "0.859305 (0.008734) with: {'alpha': 1, 'class_weight': 'balanced', 'loss': 'hinge', 'max_iter': 200, 'penalty': 'l2', 'random_state': 1234}\n",
      "0.859305 (0.008734) with: {'alpha': 1, 'class_weight': 'balanced', 'loss': 'hinge', 'max_iter': 300, 'penalty': 'l2', 'random_state': 1234}\n",
      "0.940754 (0.002745) with: {'alpha': 1, 'class_weight': None, 'loss': 'modified_huber', 'max_iter': 100, 'penalty': 'l2', 'random_state': 1234}\n",
      "0.940754 (0.002745) with: {'alpha': 1, 'class_weight': None, 'loss': 'modified_huber', 'max_iter': 200, 'penalty': 'l2', 'random_state': 1234}\n",
      "0.940754 (0.002745) with: {'alpha': 1, 'class_weight': None, 'loss': 'modified_huber', 'max_iter': 300, 'penalty': 'l2', 'random_state': 1234}\n",
      "0.945901 (0.041857) with: {'alpha': 1, 'class_weight': None, 'loss': 'hinge', 'max_iter': 100, 'penalty': 'l2', 'random_state': 1234}\n",
      "0.945901 (0.041857) with: {'alpha': 1, 'class_weight': None, 'loss': 'hinge', 'max_iter': 200, 'penalty': 'l2', 'random_state': 1234}\n",
      "0.945901 (0.041857) with: {'alpha': 1, 'class_weight': None, 'loss': 'hinge', 'max_iter': 300, 'penalty': 'l2', 'random_state': 1234}\n",
      "Wall time: 29.7 s\n"
     ]
    }
   ],
   "source": [
    "%%time\n",
    "grid_result_SGD = grid_search_SGD.fit(X_train, y_train)\n",
    "# summarize results\n",
    "print(\"Best: %f using %s\" % (grid_result_SGD.best_score_, grid_result_SGD.best_params_))\n",
    "means = grid_result_SGD.cv_results_['mean_test_score']\n",
    "stds = grid_result_SGD.cv_results_['std_test_score']\n",
    "params = grid_result_SGD.cv_results_['params']\n",
    "for mean, stdev, param in zip(means, stds, params):\n",
    "    print(\"%f (%f) with: %r\" % (mean, stdev, param))"
   ]
  },
  {
   "cell_type": "code",
   "execution_count": 44,
   "id": "6b7e2182",
   "metadata": {},
   "outputs": [
    {
     "data": {
      "text/plain": [
       "SGDClassifier(max_iter=100, random_state=1234)"
      ]
     },
     "execution_count": 44,
     "metadata": {},
     "output_type": "execute_result"
    }
   ],
   "source": [
    "# The GridSearch algorithm determined the following optimal parameters\n",
    "best_Estimator_SGD =grid_result_SGD.best_estimator_\n",
    "best_Estimator_SGD"
   ]
  },
  {
   "cell_type": "code",
   "execution_count": 45,
   "id": "71214454",
   "metadata": {},
   "outputs": [
    {
     "name": "stdout",
     "output_type": "stream",
     "text": [
      "\n",
      "Best Accuracy with Grid Search            : 0.998\n",
      "\n",
      "Training data Metrics\n",
      "\n",
      "     The average accuraccy : 0.998\n",
      "     The average precision : 0.999\n",
      "     The average recall    : 0.997\n",
      "     The average f1 score    : 0.998\n",
      "\n",
      "Test data Metrics\n",
      "\n",
      "     The average accuracy  : 0.998\n",
      "     The average precision : 0.999\n",
      "     The average  recall   : 0.997\n",
      "     The average f1 score    : 0.998\n",
      "\n",
      "Classification report\n",
      "\n",
      "              precision    recall  f1-score   support\n",
      "\n",
      "           1       1.00      1.00      1.00     30079\n",
      "           0       1.00      1.00      1.00     22346\n",
      "\n",
      "    accuracy                           1.00     52425\n",
      "   macro avg       1.00      1.00      1.00     52425\n",
      "weighted avg       1.00      1.00      1.00     52425\n",
      "\n"
     ]
    }
   ],
   "source": [
    "# Display model metrics\n",
    "displayModel_metrics(best_Estimator_SGD, grid_result_SGD, X_train, y_train, cv)"
   ]
  },
  {
   "cell_type": "code",
   "execution_count": null,
   "id": "48c7a0cb",
   "metadata": {},
   "outputs": [],
   "source": []
  },
  {
   "cell_type": "code",
   "execution_count": 46,
   "id": "73aefac8",
   "metadata": {
    "scrolled": false
   },
   "outputs": [
    {
     "data": {
      "image/png": "[encoded data removed]",
      "text/plain": [
       "<Figure size 432x288 with 2 Axes>"
      ]
     },
     "metadata": {
      "needs_background": "light"
     },
     "output_type": "display_data"
    }
   ],
   "source": [
    "# training data confusion matrix\n",
    "from sklearn.metrics import ConfusionMatrixDisplay\n",
    "\n",
    "predictions = grid_result_SGD.predict(X_train)\n",
    "cm = confusion_matrix(y_train, predictions, labels=grid_result_SGD.classes_)\n",
    "\n",
    "disp = ConfusionMatrixDisplay(confusion_matrix=cm,display_labels=grid_result_SGD.classes_)\n",
    "disp.plot()\n",
    "plt.show()"
   ]
  },
  {
   "cell_type": "code",
   "execution_count": 47,
   "id": "6db97b64",
   "metadata": {
    "scrolled": true
   },
   "outputs": [
    {
     "data": {
      "image/png": "[encoded data removed]",
      "text/plain": [
       "<Figure size 432x288 with 2 Axes>"
      ]
     },
     "metadata": {
      "needs_background": "light"
     },
     "output_type": "display_data"
    }
   ],
   "source": [
    "# test data confusion matrix\n",
    "predictions = grid_result_SGD.predict(X_test)\n",
    "cm = confusion_matrix(y_test, predictions, labels=grid_result_SGD.classes_)\n",
    "disp = ConfusionMatrixDisplay(confusion_matrix=cm,display_labels=grid_result_SGD.classes_)\n",
    "disp.plot()\n",
    "plt.show()"
   ]
  },
  {
   "cell_type": "code",
   "execution_count": 48,
   "id": "e6dd7611",
   "metadata": {},
   "outputs": [
    {
     "name": "stdout",
     "output_type": "stream",
     "text": [
      "Precision: 0.997787441824979\n",
      "Recall   : 0.9966935590530354\n",
      "Precision: 0.9994694960212201\n"
     ]
    }
   ],
   "source": [
    "# Test Accuracy Precision and recall\n",
    "from sklearn.metrics import recall_score\n",
    "from sklearn.metrics import precision_score\n",
    "predictions = grid_result_SGD.predict(X_test)\n",
    "print(\"Precision:\", accuracy_score(y_test, predictions))\n",
    "print(\"Recall   :\", recall_score(y_test, predictions, average='binary'))\n",
    "print(\"Precision:\", precision_score(y_test, predictions, average='binary'))"
   ]
  },
  {
   "cell_type": "code",
   "execution_count": 49,
   "id": "268c01bb",
   "metadata": {},
   "outputs": [
    {
     "data": {
      "text/plain": [
       "Text(0.5, 1.0, 'Precision-Recall Curve')"
      ]
     },
     "execution_count": 49,
     "metadata": {},
     "output_type": "execute_result"
    },
    {
     "data": {
      "image/png": "[encoded data removed]",
      "text/plain": [
       "<Figure size 432x288 with 1 Axes>"
      ]
     },
     "metadata": {
      "needs_background": "light"
     },
     "output_type": "display_data"
    }
   ],
   "source": [
    "# Precision recall curve for Test data\n",
    "disp = plot_precision_recall_curve(best_Estimator_SGD, X_test, y_test)\n",
    "disp.ax_.set_title('Precision-Recall Curve (Test Data)')"
   ]
  },
  {
   "cell_type": "code",
   "execution_count": 50,
   "id": "1ece6d84",
   "metadata": {},
   "outputs": [
    {
     "data": {
      "image/png": "[encoded data removed]",
      "text/plain": [
       "<Figure size 432x288 with 1 Axes>"
      ]
     },
     "metadata": {
      "needs_background": "light"
     },
     "output_type": "display_data"
    }
   ],
   "source": [
    "# ROC curve for Test data\n",
    "from sklearn import metrics\n",
    "fpr, tpr, thresholds = metrics.roc_curve(y_test, grid_result_SGD.predict(X_test))\n",
    "roc_auc = metrics.auc(fpr, tpr)\n",
    "display = metrics.RocCurveDisplay(fpr=fpr, tpr=tpr, roc_auc=roc_auc,estimator_name='example estimator')\n",
    "display.plot()\n",
    "plt.show()"
   ]
  },
  {
   "cell_type": "code",
   "execution_count": 51,
   "id": "35e0e145",
   "metadata": {},
   "outputs": [
    {
     "data": {
      "text/plain": [
       "<BarContainer object of 11 artists>"
      ]
     },
     "execution_count": 51,
     "metadata": {},
     "output_type": "execute_result"
    },
    {
     "data": {
      "image/png": "[encoded data removed]",
      "text/plain": [
       "<Figure size 432x288 with 1 Axes>"
      ]
     },
     "metadata": {
      "needs_background": "light"
     },
     "output_type": "display_data"
    }
   ],
   "source": [
    "from sklearn.inspection import permutation_importance\n",
    "perm_importance = permutation_importance(grid_search_SGD.best_estimator_, X_train, y_train)\n",
    "\n",
    "feature_names = df.columns\n",
    "features = np.array(feature_names)\n",
    "\n",
    "sorted_idx = perm_importance.importances_mean.argsort()\n",
    "plt.barh(features[sorted_idx], perm_importance.importances_mean[sorted_idx])"
   ]
  },
  {
   "cell_type": "markdown",
   "id": "69011d8a",
   "metadata": {},
   "source": [
    "### Reduced dataset with port numbers as categorical"
   ]
  },
  {
   "cell_type": "code",
   "execution_count": 52,
   "id": "c4078950",
   "metadata": {},
   "outputs": [
    {
     "name": "stdout",
     "output_type": "stream",
     "text": [
      "22724\n",
      "3273\n",
      "29152\n",
      "2533\n"
     ]
    }
   ],
   "source": [
    "print(len(df['Source Port'].value_counts()))\n",
    "print(len(df['Destination Port'].value_counts()))\n",
    "print(len(df['NAT Source Port'].value_counts()))\n",
    "print(len(df['NAT Destination Port'].value_counts()))"
   ]
  },
  {
   "cell_type": "code",
   "execution_count": 53,
   "id": "1459ac71",
   "metadata": {},
   "outputs": [
    {
     "data": {
      "text/plain": [
       "Index(['Source Port', 'Destination Port', 'NAT Source Port',\n",
       "       'NAT Destination Port', 'Bytes', 'Bytes Sent', 'Bytes Received',\n",
       "       'Packets', 'Elapsed Time (sec)', 'pkts_sent', 'pkts_received',\n",
       "       'Action_mod'],\n",
       "      dtype='object')"
      ]
     },
     "execution_count": 53,
     "metadata": {},
     "output_type": "execute_result"
    }
   ],
   "source": [
    "df.columns"
   ]
  },
  {
   "cell_type": "code",
   "execution_count": 54,
   "id": "875696ea",
   "metadata": {},
   "outputs": [],
   "source": [
    "df_reduced = df.sample(frac=0.2, replace=False, random_state=1)"
   ]
  },
  {
   "cell_type": "code",
   "execution_count": 55,
   "id": "a1f3a9f4",
   "metadata": {},
   "outputs": [
    {
     "data": {
      "text/plain": [
       "(13106, 12)"
      ]
     },
     "execution_count": 55,
     "metadata": {},
     "output_type": "execute_result"
    }
   ],
   "source": [
    "df_reduced.shape"
   ]
  },
  {
   "cell_type": "code",
   "execution_count": 56,
   "id": "7c28776f",
   "metadata": {},
   "outputs": [
    {
     "data": {
      "text/plain": [
       "1    7431\n",
       "0    5675\n",
       "Name: Action_mod, dtype: int64"
      ]
     },
     "execution_count": 56,
     "metadata": {},
     "output_type": "execute_result"
    }
   ],
   "source": [
    "df_reduced.Action_mod.value_counts()"
   ]
  },
  {
   "cell_type": "code",
   "execution_count": 57,
   "id": "420f7468",
   "metadata": {},
   "outputs": [],
   "source": [
    "df_reduced = pd.get_dummies(df_reduced, columns=['Source Port','Destination Port','NAT Source Port','NAT Destination Port'])"
   ]
  },
  {
   "cell_type": "code",
   "execution_count": 58,
   "id": "c9645d95",
   "metadata": {},
   "outputs": [
    {
     "data": {
      "text/plain": [
       "(13106, 18103)"
      ]
     },
     "execution_count": 58,
     "metadata": {},
     "output_type": "execute_result"
    }
   ],
   "source": [
    "df_reduced.shape"
   ]
  },
  {
   "cell_type": "code",
   "execution_count": 59,
   "id": "5d190bc7",
   "metadata": {},
   "outputs": [
    {
     "data": {
      "text/html": [
       "<div>\n",
       "<style scoped>\n",
       "    .dataframe tbody tr th:only-of-type {\n",
       "        vertical-align: middle;\n",
       "    }\n",
       "\n",
       "    .dataframe tbody tr th {\n",
       "        vertical-align: top;\n",
       "    }\n",
       "\n",
       "    .dataframe thead th {\n",
       "        text-align: right;\n",
       "    }\n",
       "</style>\n",
       "<table border=\"1\" class=\"dataframe\">\n",
       "  <thead>\n",
       "    <tr style=\"text-align: right;\">\n",
       "      <th></th>\n",
       "      <th>Bytes</th>\n",
       "      <th>Bytes Sent</th>\n",
       "      <th>Bytes Received</th>\n",
       "      <th>Packets</th>\n",
       "      <th>Elapsed Time (sec)</th>\n",
       "      <th>pkts_sent</th>\n",
       "      <th>pkts_received</th>\n",
       "      <th>Action_mod</th>\n",
       "      <th>Source Port_0</th>\n",
       "      <th>Source Port_22</th>\n",
       "      <th>...</th>\n",
       "      <th>NAT Destination Port_64337</th>\n",
       "      <th>NAT Destination Port_64509</th>\n",
       "      <th>NAT Destination Port_64722</th>\n",
       "      <th>NAT Destination Port_64745</th>\n",
       "      <th>NAT Destination Port_64767</th>\n",
       "      <th>NAT Destination Port_64823</th>\n",
       "      <th>NAT Destination Port_64919</th>\n",
       "      <th>NAT Destination Port_65264</th>\n",
       "      <th>NAT Destination Port_65387</th>\n",
       "      <th>NAT Destination Port_65427</th>\n",
       "    </tr>\n",
       "  </thead>\n",
       "  <tbody>\n",
       "    <tr>\n",
       "      <th>12284</th>\n",
       "      <td>217</td>\n",
       "      <td>86</td>\n",
       "      <td>131</td>\n",
       "      <td>2</td>\n",
       "      <td>30</td>\n",
       "      <td>1</td>\n",
       "      <td>1</td>\n",
       "      <td>1</td>\n",
       "      <td>0</td>\n",
       "      <td>0</td>\n",
       "      <td>...</td>\n",
       "      <td>0</td>\n",
       "      <td>0</td>\n",
       "      <td>0</td>\n",
       "      <td>0</td>\n",
       "      <td>0</td>\n",
       "      <td>0</td>\n",
       "      <td>0</td>\n",
       "      <td>0</td>\n",
       "      <td>0</td>\n",
       "      <td>0</td>\n",
       "    </tr>\n",
       "    <tr>\n",
       "      <th>64627</th>\n",
       "      <td>66</td>\n",
       "      <td>66</td>\n",
       "      <td>0</td>\n",
       "      <td>1</td>\n",
       "      <td>0</td>\n",
       "      <td>1</td>\n",
       "      <td>0</td>\n",
       "      <td>0</td>\n",
       "      <td>0</td>\n",
       "      <td>0</td>\n",
       "      <td>...</td>\n",
       "      <td>0</td>\n",
       "      <td>0</td>\n",
       "      <td>0</td>\n",
       "      <td>0</td>\n",
       "      <td>0</td>\n",
       "      <td>0</td>\n",
       "      <td>0</td>\n",
       "      <td>0</td>\n",
       "      <td>0</td>\n",
       "      <td>0</td>\n",
       "    </tr>\n",
       "    <tr>\n",
       "      <th>41220</th>\n",
       "      <td>70</td>\n",
       "      <td>70</td>\n",
       "      <td>0</td>\n",
       "      <td>2</td>\n",
       "      <td>8</td>\n",
       "      <td>2</td>\n",
       "      <td>0</td>\n",
       "      <td>1</td>\n",
       "      <td>0</td>\n",
       "      <td>0</td>\n",
       "      <td>...</td>\n",
       "      <td>0</td>\n",
       "      <td>0</td>\n",
       "      <td>0</td>\n",
       "      <td>0</td>\n",
       "      <td>0</td>\n",
       "      <td>0</td>\n",
       "      <td>0</td>\n",
       "      <td>0</td>\n",
       "      <td>0</td>\n",
       "      <td>0</td>\n",
       "    </tr>\n",
       "    <tr>\n",
       "      <th>32498</th>\n",
       "      <td>195</td>\n",
       "      <td>102</td>\n",
       "      <td>93</td>\n",
       "      <td>2</td>\n",
       "      <td>31</td>\n",
       "      <td>1</td>\n",
       "      <td>1</td>\n",
       "      <td>1</td>\n",
       "      <td>0</td>\n",
       "      <td>0</td>\n",
       "      <td>...</td>\n",
       "      <td>0</td>\n",
       "      <td>0</td>\n",
       "      <td>0</td>\n",
       "      <td>0</td>\n",
       "      <td>0</td>\n",
       "      <td>0</td>\n",
       "      <td>0</td>\n",
       "      <td>0</td>\n",
       "      <td>0</td>\n",
       "      <td>0</td>\n",
       "    </tr>\n",
       "    <tr>\n",
       "      <th>1131</th>\n",
       "      <td>217</td>\n",
       "      <td>87</td>\n",
       "      <td>130</td>\n",
       "      <td>2</td>\n",
       "      <td>31</td>\n",
       "      <td>1</td>\n",
       "      <td>1</td>\n",
       "      <td>1</td>\n",
       "      <td>0</td>\n",
       "      <td>0</td>\n",
       "      <td>...</td>\n",
       "      <td>0</td>\n",
       "      <td>0</td>\n",
       "      <td>0</td>\n",
       "      <td>0</td>\n",
       "      <td>0</td>\n",
       "      <td>0</td>\n",
       "      <td>0</td>\n",
       "      <td>0</td>\n",
       "      <td>0</td>\n",
       "      <td>0</td>\n",
       "    </tr>\n",
       "  </tbody>\n",
       "</table>\n",
       "<p>5 rows × 18103 columns</p>\n",
       "</div>"
      ],
      "text/plain": [
       "       Bytes  Bytes Sent  Bytes Received  Packets  Elapsed Time (sec)  \\\n",
       "12284    217          86             131        2                  30   \n",
       "64627     66          66               0        1                   0   \n",
       "41220     70          70               0        2                   8   \n",
       "32498    195         102              93        2                  31   \n",
       "1131     217          87             130        2                  31   \n",
       "\n",
       "       pkts_sent  pkts_received  Action_mod  Source Port_0  Source Port_22  \\\n",
       "12284          1              1           1              0               0   \n",
       "64627          1              0           0              0               0   \n",
       "41220          2              0           1              0               0   \n",
       "32498          1              1           1              0               0   \n",
       "1131           1              1           1              0               0   \n",
       "\n",
       "       ...  NAT Destination Port_64337  NAT Destination Port_64509  \\\n",
       "12284  ...                           0                           0   \n",
       "64627  ...                           0                           0   \n",
       "41220  ...                           0                           0   \n",
       "32498  ...                           0                           0   \n",
       "1131   ...                           0                           0   \n",
       "\n",
       "       NAT Destination Port_64722  NAT Destination Port_64745  \\\n",
       "12284                           0                           0   \n",
       "64627                           0                           0   \n",
       "41220                           0                           0   \n",
       "32498                           0                           0   \n",
       "1131                            0                           0   \n",
       "\n",
       "       NAT Destination Port_64767  NAT Destination Port_64823  \\\n",
       "12284                           0                           0   \n",
       "64627                           0                           0   \n",
       "41220                           0                           0   \n",
       "32498                           0                           0   \n",
       "1131                            0                           0   \n",
       "\n",
       "       NAT Destination Port_64919  NAT Destination Port_65264  \\\n",
       "12284                           0                           0   \n",
       "64627                           0                           0   \n",
       "41220                           0                           0   \n",
       "32498                           0                           0   \n",
       "1131                            0                           0   \n",
       "\n",
       "       NAT Destination Port_65387  NAT Destination Port_65427  \n",
       "12284                           0                           0  \n",
       "64627                           0                           0  \n",
       "41220                           0                           0  \n",
       "32498                           0                           0  \n",
       "1131                            0                           0  \n",
       "\n",
       "[5 rows x 18103 columns]"
      ]
     },
     "execution_count": 59,
     "metadata": {},
     "output_type": "execute_result"
    }
   ],
   "source": [
    "df_reduced.head()"
   ]
  },
  {
   "cell_type": "code",
   "execution_count": 60,
   "id": "26eb1061",
   "metadata": {},
   "outputs": [],
   "source": [
    "X_reduced = df_reduced.drop(['Action_mod'],axis=1)\n",
    "y_reduced = df_reduced['Action_mod']"
   ]
  },
  {
   "cell_type": "code",
   "execution_count": 61,
   "id": "821c9697",
   "metadata": {},
   "outputs": [],
   "source": [
    "# Normalize the data\n",
    "scaler = StandardScaler()\n",
    "X_reduced_scaled = scaler.fit_transform(X_reduced)"
   ]
  },
  {
   "cell_type": "code",
   "execution_count": 62,
   "id": "26ec2b28",
   "metadata": {},
   "outputs": [],
   "source": [
    "from sklearn.model_selection import train_test_split\n",
    "#Direct train/test split\n",
    "X_reduced_train, X_reduced_test, y_reduced_train, y_reduced_test = train_test_split(\n",
    "    X_reduced_scaled, y_reduced, test_size=0.10, random_state=1234\n",
    ")"
   ]
  },
  {
   "cell_type": "markdown",
   "id": "bea9ef12",
   "metadata": {},
   "source": [
    "### SVM"
   ]
  },
  {
   "cell_type": "code",
   "execution_count": 63,
   "id": "2d4cb95f",
   "metadata": {},
   "outputs": [
    {
     "name": "stdout",
     "output_type": "stream",
     "text": [
      "Wall time: 13min 11s\n"
     ]
    },
    {
     "data": {
      "text/plain": [
       "SVC(C=10, kernel='linear', random_state=1234)"
      ]
     },
     "execution_count": 63,
     "metadata": {},
     "output_type": "execute_result"
    }
   ],
   "source": [
    "%%time\n",
    "SVM_clf = svm.SVC(C=10, kernel='linear', random_state=1234)\n",
    "SVM_clf.fit(X_reduced_train, y_reduced_train)"
   ]
  },
  {
   "cell_type": "code",
   "execution_count": 64,
   "id": "e3eb7e43",
   "metadata": {},
   "outputs": [],
   "source": [
    "# # cross validation\n",
    "# cv_df = pd.DataFrame(cross_validate(SVM_clf, X_reduced_train, y_reduced_train, cv=cv, scoring=['accuracy','precision','recall', 'f1'], n_jobs=-1))\n",
    "# cv_df"
   ]
  },
  {
   "cell_type": "code",
   "execution_count": 65,
   "id": "0d5570df",
   "metadata": {},
   "outputs": [
    {
     "name": "stdout",
     "output_type": "stream",
     "text": [
      "Training Data Metrics\n",
      "\n",
      "Accuracy: 0.9991521831284442\n",
      "Recall   : 1.0\n",
      "Precision: 0.9985063480209111\n"
     ]
    }
   ],
   "source": [
    "# train accuracy score\n",
    "y_hat = SVM_clf.predict(X_reduced_train)\n",
    "print(\"Training Data Metrics\\n\")\n",
    "print(\"Accuracy:\", accuracy_score(y_reduced_train, y_hat))\n",
    "print(\"Recall   :\", recall_score(y_reduced_train, y_hat, average='binary'))\n",
    "print(\"Precision:\", precision_score(y_reduced_train, y_hat, average='binary'))"
   ]
  },
  {
   "cell_type": "code",
   "execution_count": 66,
   "id": "00211d6c",
   "metadata": {},
   "outputs": [
    {
     "data": {
      "image/png": "[encoded data removed]",
      "text/plain": [
       "<Figure size 432x288 with 2 Axes>"
      ]
     },
     "metadata": {
      "needs_background": "light"
     },
     "output_type": "display_data"
    }
   ],
   "source": [
    "# Traning data Confusion matrix\n",
    "cm = confusion_matrix(y_reduced_train, y_hat, labels=SVM_clf.classes_)\n",
    "disp = ConfusionMatrixDisplay(confusion_matrix=cm,display_labels=SVM_clf.classes_)\n",
    "disp.plot()\n",
    "plt.show()"
   ]
  },
  {
   "cell_type": "code",
   "execution_count": 67,
   "id": "9fa1d861",
   "metadata": {},
   "outputs": [
    {
     "name": "stdout",
     "output_type": "stream",
     "text": [
      "Accuracy: 0.9664378337147216\n",
      "Recall   : 0.9450402144772118\n",
      "Precision: 0.9957627118644068\n"
     ]
    }
   ],
   "source": [
    "# test accuracy score, precision and recall\n",
    "y_hat = SVM_clf.predict(X_reduced_test)\n",
    "print(\"Accuracy:\", accuracy_score(y_reduced_test, y_hat))\n",
    "print(\"Recall   :\", recall_score(y_reduced_test, y_hat, average='binary'))\n",
    "print(\"Precision:\", precision_score(y_reduced_test, y_hat, average='binary'))"
   ]
  },
  {
   "cell_type": "code",
   "execution_count": 68,
   "id": "adcaed75",
   "metadata": {},
   "outputs": [
    {
     "data": {
      "image/png": "[encoded data removed]",
      "text/plain": [
       "<Figure size 432x288 with 2 Axes>"
      ]
     },
     "metadata": {
      "needs_background": "light"
     },
     "output_type": "display_data"
    }
   ],
   "source": [
    "# Test Data Confusion matrix\n",
    "cm = confusion_matrix(y_reduced_test, y_hat, labels=SVM_clf.classes_)\n",
    "disp = ConfusionMatrixDisplay(confusion_matrix=cm,display_labels=SVM_clf.classes_)\n",
    "disp.plot()\n",
    "plt.show()"
   ]
  },
  {
   "cell_type": "markdown",
   "id": "3877bd32",
   "metadata": {},
   "source": [
    "##### Support vectors"
   ]
  },
  {
   "cell_type": "code",
   "execution_count": 69,
   "id": "2df3f727",
   "metadata": {},
   "outputs": [
    {
     "data": {
      "text/plain": [
       "(4736, 18102)"
      ]
     },
     "execution_count": 69,
     "metadata": {},
     "output_type": "execute_result"
    }
   ],
   "source": [
    "# Support vectors\n",
    "SVM_clf.support_vectors_.shape"
   ]
  },
  {
   "cell_type": "code",
   "execution_count": 70,
   "id": "5551d000",
   "metadata": {},
   "outputs": [
    {
     "data": {
      "text/plain": [
       "array([2081, 2655])"
      ]
     },
     "execution_count": 70,
     "metadata": {},
     "output_type": "execute_result"
    }
   ],
   "source": [
    "SVM_clf.n_support_ "
   ]
  },
  {
   "cell_type": "markdown",
   "id": "bff0afcf",
   "metadata": {},
   "source": [
    "#### Feature Importance"
   ]
  },
  {
   "cell_type": "code",
   "execution_count": 71,
   "id": "92df1995",
   "metadata": {},
   "outputs": [],
   "source": [
    "# from sklearn.inspection import permutation_importance\n",
    "# perm_importance = permutation_importance(SVM_clf, X_reduced_train, y_reduced_train)\n",
    "\n",
    "# feature_names = df_reduced.columns\n",
    "# features = np.array(feature_names)\n",
    "\n",
    "# sorted_idx = perm_importance.importances_mean.argsort()\n",
    "# plt.barh(features[sorted_idx], perm_importance.importances_mean[sorted_idx])"
   ]
  },
  {
   "cell_type": "markdown",
   "id": "d001217e",
   "metadata": {},
   "source": [
    "### SGD"
   ]
  },
  {
   "cell_type": "code",
   "execution_count": 72,
   "id": "1bc56ec6",
   "metadata": {},
   "outputs": [
    {
     "name": "stdout",
     "output_type": "stream",
     "text": [
      "Wall time: 7.88 s\n"
     ]
    },
    {
     "data": {
      "text/plain": [
       "SGDClassifier(random_state=1234)"
      ]
     },
     "execution_count": 72,
     "metadata": {},
     "output_type": "execute_result"
    }
   ],
   "source": [
    "%%time\n",
    "SGD_clf = SGDClassifier(alpha=0.0001, loss='hinge', penalty='l2', random_state=1234)\n",
    "SGD_clf.fit(X_reduced_train, y_reduced_train)"
   ]
  },
  {
   "cell_type": "code",
   "execution_count": 73,
   "id": "a460625c",
   "metadata": {},
   "outputs": [
    {
     "data": {
      "text/html": [
       "<div>\n",
       "<style scoped>\n",
       "    .dataframe tbody tr th:only-of-type {\n",
       "        vertical-align: middle;\n",
       "    }\n",
       "\n",
       "    .dataframe tbody tr th {\n",
       "        vertical-align: top;\n",
       "    }\n",
       "\n",
       "    .dataframe thead th {\n",
       "        text-align: right;\n",
       "    }\n",
       "</style>\n",
       "<table border=\"1\" class=\"dataframe\">\n",
       "  <thead>\n",
       "    <tr style=\"text-align: right;\">\n",
       "      <th></th>\n",
       "      <th>fit_time</th>\n",
       "      <th>score_time</th>\n",
       "      <th>test_accuracy</th>\n",
       "      <th>test_precision</th>\n",
       "      <th>test_recall</th>\n",
       "      <th>test_f1</th>\n",
       "    </tr>\n",
       "  </thead>\n",
       "  <tbody>\n",
       "    <tr>\n",
       "      <th>0</th>\n",
       "      <td>44.493826</td>\n",
       "      <td>0.559863</td>\n",
       "      <td>0.666102</td>\n",
       "      <td>0.629351</td>\n",
       "      <td>1.000000</td>\n",
       "      <td>0.772517</td>\n",
       "    </tr>\n",
       "    <tr>\n",
       "      <th>1</th>\n",
       "      <td>32.237747</td>\n",
       "      <td>1.773477</td>\n",
       "      <td>0.694915</td>\n",
       "      <td>0.650146</td>\n",
       "      <td>1.000000</td>\n",
       "      <td>0.787986</td>\n",
       "    </tr>\n",
       "    <tr>\n",
       "      <th>2</th>\n",
       "      <td>34.225653</td>\n",
       "      <td>0.979251</td>\n",
       "      <td>0.676271</td>\n",
       "      <td>0.636537</td>\n",
       "      <td>1.000000</td>\n",
       "      <td>0.777907</td>\n",
       "    </tr>\n",
       "    <tr>\n",
       "      <th>3</th>\n",
       "      <td>41.881539</td>\n",
       "      <td>1.399696</td>\n",
       "      <td>0.678814</td>\n",
       "      <td>0.638359</td>\n",
       "      <td>1.000000</td>\n",
       "      <td>0.779266</td>\n",
       "    </tr>\n",
       "    <tr>\n",
       "      <th>4</th>\n",
       "      <td>50.630302</td>\n",
       "      <td>0.402044</td>\n",
       "      <td>0.667797</td>\n",
       "      <td>0.630537</td>\n",
       "      <td>1.000000</td>\n",
       "      <td>0.773410</td>\n",
       "    </tr>\n",
       "    <tr>\n",
       "      <th>5</th>\n",
       "      <td>26.310546</td>\n",
       "      <td>0.407391</td>\n",
       "      <td>0.687023</td>\n",
       "      <td>0.644166</td>\n",
       "      <td>1.000000</td>\n",
       "      <td>0.783578</td>\n",
       "    </tr>\n",
       "    <tr>\n",
       "      <th>6</th>\n",
       "      <td>45.293321</td>\n",
       "      <td>0.192916</td>\n",
       "      <td>0.692960</td>\n",
       "      <td>0.648544</td>\n",
       "      <td>1.000000</td>\n",
       "      <td>0.786808</td>\n",
       "    </tr>\n",
       "    <tr>\n",
       "      <th>7</th>\n",
       "      <td>43.386847</td>\n",
       "      <td>0.317335</td>\n",
       "      <td>0.893978</td>\n",
       "      <td>0.844106</td>\n",
       "      <td>0.997006</td>\n",
       "      <td>0.914207</td>\n",
       "    </tr>\n",
       "    <tr>\n",
       "      <th>8</th>\n",
       "      <td>20.759117</td>\n",
       "      <td>0.083506</td>\n",
       "      <td>0.686175</td>\n",
       "      <td>0.644660</td>\n",
       "      <td>0.994012</td>\n",
       "      <td>0.782097</td>\n",
       "    </tr>\n",
       "    <tr>\n",
       "      <th>9</th>\n",
       "      <td>12.997172</td>\n",
       "      <td>0.074970</td>\n",
       "      <td>0.897371</td>\n",
       "      <td>0.849298</td>\n",
       "      <td>0.995509</td>\n",
       "      <td>0.916609</td>\n",
       "    </tr>\n",
       "  </tbody>\n",
       "</table>\n",
       "</div>"
      ],
      "text/plain": [
       "    fit_time  score_time  test_accuracy  test_precision  test_recall   test_f1\n",
       "0  44.493826    0.559863       0.666102        0.629351     1.000000  0.772517\n",
       "1  32.237747    1.773477       0.694915        0.650146     1.000000  0.787986\n",
       "2  34.225653    0.979251       0.676271        0.636537     1.000000  0.777907\n",
       "3  41.881539    1.399696       0.678814        0.638359     1.000000  0.779266\n",
       "4  50.630302    0.402044       0.667797        0.630537     1.000000  0.773410\n",
       "5  26.310546    0.407391       0.687023        0.644166     1.000000  0.783578\n",
       "6  45.293321    0.192916       0.692960        0.648544     1.000000  0.786808\n",
       "7  43.386847    0.317335       0.893978        0.844106     0.997006  0.914207\n",
       "8  20.759117    0.083506       0.686175        0.644660     0.994012  0.782097\n",
       "9  12.997172    0.074970       0.897371        0.849298     0.995509  0.916609"
      ]
     },
     "execution_count": 73,
     "metadata": {},
     "output_type": "execute_result"
    }
   ],
   "source": [
    "# cross validation\n",
    "cv_df = pd.DataFrame(cross_validate(SGD_clf, X_reduced_train, y_reduced_train, cv=cv, scoring=['accuracy','precision','recall', 'f1'], n_jobs=-1))\n",
    "cv_df"
   ]
  },
  {
   "cell_type": "code",
   "execution_count": 74,
   "id": "51da057a",
   "metadata": {},
   "outputs": [
    {
     "name": "stdout",
     "output_type": "stream",
     "text": [
      "Training Data Metrics\n",
      "\n",
      "Precision: 0.9968630775752437\n",
      "Recall   : 0.9974569932685116\n",
      "Precision: 0.9970095693779905\n"
     ]
    }
   ],
   "source": [
    "# train accuracy score\n",
    "y_hat = SGD_clf.predict(X_reduced_train)\n",
    "print(\"Training Data Metrics\\n\")\n",
    "print(\"Precision:\", accuracy_score(y_reduced_train, y_hat))\n",
    "print(\"Recall   :\", recall_score(y_reduced_train, y_hat, average='binary'))\n",
    "print(\"Precision:\", precision_score(y_reduced_train, y_hat, average='binary'))"
   ]
  },
  {
   "cell_type": "code",
   "execution_count": 75,
   "id": "8ce0a239",
   "metadata": {},
   "outputs": [
    {
     "data": {
      "image/png": "[encoded data removed]",
      "text/plain": [
       "<Figure size 432x288 with 2 Axes>"
      ]
     },
     "metadata": {
      "needs_background": "light"
     },
     "output_type": "display_data"
    }
   ],
   "source": [
    "# Training data Confusion matrix\n",
    "cm = confusion_matrix(y_reduced_train, y_hat, labels=SGD_clf.classes_)\n",
    "disp = ConfusionMatrixDisplay(confusion_matrix=cm,display_labels=SGD_clf.classes_)\n",
    "disp.plot()\n",
    "plt.show()"
   ]
  },
  {
   "cell_type": "code",
   "execution_count": 76,
   "id": "42a7f130",
   "metadata": {},
   "outputs": [
    {
     "name": "stdout",
     "output_type": "stream",
     "text": [
      "Test Data Metrics\n",
      "\n",
      "Accuracy: 0.6956521739130435\n",
      "Recall   : 0.9973190348525469\n",
      "Precision: 0.6520595968448729\n"
     ]
    }
   ],
   "source": [
    "# test accuracy score, precision and recall\n",
    "y_hat = SGD_clf.predict(X_reduced_test)\n",
    "print(\"Test Data Metrics\\n\")\n",
    "print(\"Accuracy:\", accuracy_score(y_reduced_test, y_hat))\n",
    "print(\"Recall   :\", recall_score(y_reduced_test, y_hat, average='binary'))\n",
    "print(\"Precision:\", precision_score(y_reduced_test, y_hat, average='binary'))"
   ]
  },
  {
   "cell_type": "code",
   "execution_count": 77,
   "id": "7a69efcd",
   "metadata": {},
   "outputs": [
    {
     "data": {
      "image/png": "[encoded data removed]",
      "text/plain": [
       "<Figure size 432x288 with 2 Axes>"
      ]
     },
     "metadata": {
      "needs_background": "light"
     },
     "output_type": "display_data"
    }
   ],
   "source": [
    "# Test data Confusion matrix\n",
    "cm = confusion_matrix(y_reduced_test, y_hat, labels=SGD_clf.classes_)\n",
    "disp = ConfusionMatrixDisplay(confusion_matrix=cm,display_labels=SGD_clf.classes_)\n",
    "disp.plot()\n",
    "plt.show()"
   ]
  },
  {
   "cell_type": "markdown",
   "id": "41ca6560",
   "metadata": {},
   "source": [
    "#### Feature Impotrance"
   ]
  },
  {
   "cell_type": "code",
   "execution_count": null,
   "id": "5eff52ef",
   "metadata": {},
   "outputs": [],
   "source": [
    "from sklearn.inspection import permutation_importance\n",
    "perm_importance = permutation_importance(SGD_clf, X_reduced_train, y_reduced_train)\n",
    "\n",
    "feature_names = df_reduced.columns\n",
    "features = np.array(feature_names)\n",
    "\n",
    "sorted_idx = perm_importance.importances_mean.argsort()\n",
    "plt.barh(features[sorted_idx], perm_importance.importances_mean[sorted_idx])"
   ]
  },
  {
   "cell_type": "code",
   "execution_count": null,
   "id": "ee25fbc9",
   "metadata": {},
   "outputs": [],
   "source": []
  }
 ],
 "metadata": {
  "kernelspec": {
   "display_name": "Python 3 (ipykernel)",
   "language": "python",
   "name": "python3"
  },
  "language_info": {
   "codemirror_mode": {
    "name": "ipython",
    "version": 3
   },
   "file_extension": ".py",
   "mimetype": "text/x-python",
   "name": "python",
   "nbconvert_exporter": "python",
   "pygments_lexer": "ipython3",
   "version": "3.9.6"
  }
 },
 "nbformat": 4,
 "nbformat_minor": 5
}
