{
 "cells": [
  {
   "cell_type": "markdown",
   "id": "d81e0aae",
   "metadata": {},
   "source": [
    "# Case Study 2 : Hospital Readmission"
   ]
  },
  {
   "cell_type": "markdown",
   "id": "fb7dd143",
   "metadata": {},
   "source": [
    "Submitted by:\n",
    "\n",
    "- Ravi Sivaraman\n",
    "- Balaji Avvaru\n",
    "- Apurv Mittal"
   ]
  },
  {
   "cell_type": "markdown",
   "id": "e0a82673",
   "metadata": {},
   "source": [
    "The code for importing the data is combined with the inital loading of various analysis and visualization packages below."
   ]
  },
  {
   "cell_type": "code",
   "execution_count": 74,
   "id": "f7016ca8",
   "metadata": {},
   "outputs": [],
   "source": [
    "import pandas as pd\n",
    "import numpy as np\n",
    "import seaborn as sns\n",
    "import matplotlib.pyplot as plt\n",
    "from scipy import stats\n",
    "from statsmodels.stats.outliers_influence import variance_inflation_factor\n",
    "%matplotlib inline\n",
    "import warnings\n",
    "warnings.filterwarnings('ignore')\n",
    "from sklearn.feature_selection import VarianceThreshold\n",
    "from sklearn import linear_model\n",
    "from sklearn.model_selection import cross_val_score\n",
    "from sklearn.model_selection import cross_val_predict\n",
    "from sklearn.model_selection import KFold\n",
    "from sklearn.model_selection import GridSearchCV\n",
    "from sklearn.feature_selection import RFE\n",
    "from sklearn.preprocessing import StandardScaler"
   ]
  },
  {
   "cell_type": "code",
   "execution_count": 75,
   "id": "fd8f78a8",
   "metadata": {},
   "outputs": [
    {
     "data": {
      "text/plain": [
       "(101766, 50)"
      ]
     },
     "execution_count": 75,
     "metadata": {},
     "output_type": "execute_result"
    }
   ],
   "source": [
    "# read diabetic csv files\n",
    "diabetic_df = pd.read_csv('diabetic_data.csv')\n",
    "diabetic_df.shape"
   ]
  },
  {
   "cell_type": "code",
   "execution_count": 76,
   "id": "f8aa4e5d",
   "metadata": {},
   "outputs": [
    {
     "data": {
      "text/plain": [
       "0"
      ]
     },
     "execution_count": 76,
     "metadata": {},
     "output_type": "execute_result"
    }
   ],
   "source": [
    "# Validate null values in the csv file\n",
    "diabetic_df.isnull().sum().sum()"
   ]
  },
  {
   "cell_type": "markdown",
   "id": "d51f42a9",
   "metadata": {},
   "source": [
    "There are no null values in the dataset, but null values are coded as ?, first replace observations value ? with nan"
   ]
  },
  {
   "cell_type": "code",
   "execution_count": 77,
   "id": "30ebf25c",
   "metadata": {},
   "outputs": [],
   "source": [
    "# replace ? with nan\n",
    "diabetic_df = diabetic_df.replace(\"?\",np.nan)"
   ]
  },
  {
   "cell_type": "code",
   "execution_count": 78,
   "id": "a83a90ef",
   "metadata": {},
   "outputs": [
    {
     "name": "stdout",
     "output_type": "stream",
     "text": [
      "encounter_id                    0\n",
      "patient_nbr                     0\n",
      "race                         2273\n",
      "gender                          0\n",
      "age                             0\n",
      "weight                      98569\n",
      "admission_type_id               0\n",
      "discharge_disposition_id        0\n",
      "admission_source_id             0\n",
      "time_in_hospital                0\n",
      "payer_code                  40256\n",
      "medical_specialty           49949\n",
      "num_lab_procedures              0\n",
      "num_procedures                  0\n",
      "num_medications                 0\n",
      "number_outpatient               0\n",
      "number_emergency                0\n",
      "number_inpatient                0\n",
      "diag_1                         21\n",
      "diag_2                        358\n",
      "diag_3                       1423\n",
      "number_diagnoses                0\n",
      "max_glu_serum                   0\n",
      "A1Cresult                       0\n",
      "metformin                       0\n",
      "repaglinide                     0\n",
      "nateglinide                     0\n",
      "chlorpropamide                  0\n",
      "glimepiride                     0\n",
      "acetohexamide                   0\n",
      "glipizide                       0\n",
      "glyburide                       0\n",
      "tolbutamide                     0\n",
      "pioglitazone                    0\n",
      "rosiglitazone                   0\n",
      "acarbose                        0\n",
      "miglitol                        0\n",
      "troglitazone                    0\n",
      "tolazamide                      0\n",
      "examide                         0\n",
      "citoglipton                     0\n",
      "insulin                         0\n",
      "glyburide-metformin             0\n",
      "glipizide-metformin             0\n",
      "glimepiride-pioglitazone        0\n",
      "metformin-rosiglitazone         0\n",
      "metformin-pioglitazone          0\n",
      "change                          0\n",
      "diabetesMed                     0\n",
      "readmitted                      0\n",
      "dtype: int64\n",
      "\n",
      "\n",
      "Columns with null values\n",
      "************************\n"
     ]
    },
    {
     "data": {
      "text/plain": [
       "Index(['race', 'weight', 'payer_code', 'medical_specialty', 'diag_1', 'diag_2',\n",
       "       'diag_3'],\n",
       "      dtype='object')"
      ]
     },
     "execution_count": 78,
     "metadata": {},
     "output_type": "execute_result"
    }
   ],
   "source": [
    "# Validate null values in the csv file\n",
    "print(diabetic_df.isnull().sum())\n",
    "# print columns with null values\n",
    "missing_data_columns = diabetic_df.columns[diabetic_df.isnull().any()]\n",
    "print(\"\\n\\nColumns with null values\")\n",
    "print(\"************************\")\n",
    "missing_data_columns"
   ]
  },
  {
   "cell_type": "code",
   "execution_count": 79,
   "id": "2a331cb6",
   "metadata": {},
   "outputs": [
    {
     "data": {
      "text/plain": [
       "race                  2.233555\n",
       "weight               96.858479\n",
       "payer_code           39.557416\n",
       "medical_specialty    49.082208\n",
       "diag_1                0.020636\n",
       "diag_2                0.351787\n",
       "diag_3                1.398306\n",
       "dtype: float64"
      ]
     },
     "execution_count": 79,
     "metadata": {},
     "output_type": "execute_result"
    }
   ],
   "source": [
    "# percentage of missing values in each variable\n",
    "diabetic_df[missing_data_columns].isnull().sum()/len(diabetic_df)*100"
   ]
  },
  {
   "cell_type": "code",
   "execution_count": 80,
   "id": "cb52b6d6",
   "metadata": {},
   "outputs": [
    {
     "name": "stdout",
     "output_type": "stream",
     "text": [
      "<class 'pandas.core.frame.DataFrame'>\n",
      "RangeIndex: 101766 entries, 0 to 101765\n",
      "Data columns (total 50 columns):\n",
      " #   Column                    Non-Null Count   Dtype \n",
      "---  ------                    --------------   ----- \n",
      " 0   encounter_id              101766 non-null  int64 \n",
      " 1   patient_nbr               101766 non-null  int64 \n",
      " 2   race                      99493 non-null   object\n",
      " 3   gender                    101766 non-null  object\n",
      " 4   age                       101766 non-null  object\n",
      " 5   weight                    3197 non-null    object\n",
      " 6   admission_type_id         101766 non-null  int64 \n",
      " 7   discharge_disposition_id  101766 non-null  int64 \n",
      " 8   admission_source_id       101766 non-null  int64 \n",
      " 9   time_in_hospital          101766 non-null  int64 \n",
      " 10  payer_code                61510 non-null   object\n",
      " 11  medical_specialty         51817 non-null   object\n",
      " 12  num_lab_procedures        101766 non-null  int64 \n",
      " 13  num_procedures            101766 non-null  int64 \n",
      " 14  num_medications           101766 non-null  int64 \n",
      " 15  number_outpatient         101766 non-null  int64 \n",
      " 16  number_emergency          101766 non-null  int64 \n",
      " 17  number_inpatient          101766 non-null  int64 \n",
      " 18  diag_1                    101745 non-null  object\n",
      " 19  diag_2                    101408 non-null  object\n",
      " 20  diag_3                    100343 non-null  object\n",
      " 21  number_diagnoses          101766 non-null  int64 \n",
      " 22  max_glu_serum             101766 non-null  object\n",
      " 23  A1Cresult                 101766 non-null  object\n",
      " 24  metformin                 101766 non-null  object\n",
      " 25  repaglinide               101766 non-null  object\n",
      " 26  nateglinide               101766 non-null  object\n",
      " 27  chlorpropamide            101766 non-null  object\n",
      " 28  glimepiride               101766 non-null  object\n",
      " 29  acetohexamide             101766 non-null  object\n",
      " 30  glipizide                 101766 non-null  object\n",
      " 31  glyburide                 101766 non-null  object\n",
      " 32  tolbutamide               101766 non-null  object\n",
      " 33  pioglitazone              101766 non-null  object\n",
      " 34  rosiglitazone             101766 non-null  object\n",
      " 35  acarbose                  101766 non-null  object\n",
      " 36  miglitol                  101766 non-null  object\n",
      " 37  troglitazone              101766 non-null  object\n",
      " 38  tolazamide                101766 non-null  object\n",
      " 39  examide                   101766 non-null  object\n",
      " 40  citoglipton               101766 non-null  object\n",
      " 41  insulin                   101766 non-null  object\n",
      " 42  glyburide-metformin       101766 non-null  object\n",
      " 43  glipizide-metformin       101766 non-null  object\n",
      " 44  glimepiride-pioglitazone  101766 non-null  object\n",
      " 45  metformin-rosiglitazone   101766 non-null  object\n",
      " 46  metformin-pioglitazone    101766 non-null  object\n",
      " 47  change                    101766 non-null  object\n",
      " 48  diabetesMed               101766 non-null  object\n",
      " 49  readmitted                101766 non-null  object\n",
      "dtypes: int64(13), object(37)\n",
      "memory usage: 38.8+ MB\n"
     ]
    }
   ],
   "source": [
    "diabetic_df.info()"
   ]
  },
  {
   "cell_type": "markdown",
   "id": "38dd5da5",
   "metadata": {},
   "source": [
    "##### Target variable"
   ]
  },
  {
   "cell_type": "code",
   "execution_count": 81,
   "id": "33fb8a7d",
   "metadata": {},
   "outputs": [
    {
     "data": {
      "text/plain": [
       "NO     54864\n",
       ">30    35545\n",
       "<30    11357\n",
       "Name: readmitted, dtype: int64"
      ]
     },
     "execution_count": 81,
     "metadata": {},
     "output_type": "execute_result"
    }
   ],
   "source": [
    "# Convert target variable to a categorical \n",
    "diabetic_df['readmitted'].value_counts()"
   ]
  },
  {
   "cell_type": "markdown",
   "id": "9995be7e",
   "metadata": {},
   "source": [
    "There are three different values for target variable. We decided to reduce these values to two based on whether readmitted ot not (0 means not admitted and 1 means admitted) "
   ]
  },
  {
   "cell_type": "code",
   "execution_count": 82,
   "id": "c4bb1f31",
   "metadata": {},
   "outputs": [],
   "source": [
    "diabetic_df['readmitted'] = diabetic_df['readmitted'].replace('>30', 0)\n",
    "diabetic_df['readmitted'] = diabetic_df['readmitted'].replace('<30', 1)\n",
    "diabetic_df['readmitted'] = diabetic_df['readmitted'].replace('NO', 0)"
   ]
  },
  {
   "cell_type": "code",
   "execution_count": 83,
   "id": "285d903b",
   "metadata": {},
   "outputs": [
    {
     "data": {
      "text/plain": [
       "0    90409\n",
       "1    11357\n",
       "Name: readmitted, dtype: int64"
      ]
     },
     "execution_count": 83,
     "metadata": {},
     "output_type": "execute_result"
    }
   ],
   "source": [
    "diabetic_df['readmitted'].value_counts()"
   ]
  },
  {
   "cell_type": "code",
   "execution_count": 84,
   "id": "efcba535",
   "metadata": {},
   "outputs": [
    {
     "data": {
      "image/png": "[encoded data removed]",
      "text/plain": [
       "<Figure size 432x288 with 1 Axes>"
      ]
     },
     "metadata": {
      "needs_background": "light"
     },
     "output_type": "display_data"
    }
   ],
   "source": [
    "sns.countplot(x = \"readmitted\", data = diabetic_df)\n",
    "plt.title(\"Distribution of Target Values\")\n",
    "plt.show()"
   ]
  },
  {
   "cell_type": "code",
   "execution_count": 85,
   "id": "9b495610",
   "metadata": {},
   "outputs": [
    {
     "data": {
      "image/png": "[encoded data removed]",
      "text/plain": [
       "<Figure size 432x288 with 1 Axes>"
      ]
     },
     "metadata": {},
     "output_type": "display_data"
    }
   ],
   "source": [
    "# Pie chart\n",
    "diabetic_df.readmitted.value_counts().plot.pie(autopct = \"%.1f%%\")\n",
    "plt.title(\"Proportion of Target Value\")\n",
    "plt.show()"
   ]
  },
  {
   "cell_type": "markdown",
   "id": "d52988cf",
   "metadata": {},
   "source": [
    "These two diagrams show us that our target variable is not balanced."
   ]
  },
  {
   "cell_type": "markdown",
   "id": "941fa6bd",
   "metadata": {},
   "source": [
    "##### Missing data analysis and applying Imputation"
   ]
  },
  {
   "cell_type": "code",
   "execution_count": 86,
   "id": "702def68",
   "metadata": {},
   "outputs": [
    {
     "data": {
      "text/plain": [
       "Index(['race', 'weight', 'payer_code', 'medical_specialty', 'diag_1', 'diag_2',\n",
       "       'diag_3'],\n",
       "      dtype='object')"
      ]
     },
     "execution_count": 86,
     "metadata": {},
     "output_type": "execute_result"
    }
   ],
   "source": [
    "missing_data_columns"
   ]
  },
  {
   "cell_type": "markdown",
   "id": "b2d5cdec",
   "metadata": {},
   "source": [
    "##### Discharge Disposition ID"
   ]
  },
  {
   "cell_type": "code",
   "execution_count": 87,
   "id": "780c907a",
   "metadata": {},
   "outputs": [
    {
     "data": {
      "text/plain": [
       "count    101766.000000\n",
       "mean          3.715642\n",
       "std           5.280166\n",
       "min           1.000000\n",
       "25%           1.000000\n",
       "50%           1.000000\n",
       "75%           4.000000\n",
       "max          28.000000\n",
       "Name: discharge_disposition_id, dtype: float64"
      ]
     },
     "execution_count": 87,
     "metadata": {},
     "output_type": "execute_result"
    }
   ],
   "source": [
    "\n",
    "diabetic_df['discharge_disposition_id'].describe()"
   ]
  },
  {
   "cell_type": "markdown",
   "id": "a3f80fa6",
   "metadata": {},
   "source": [
    "There are 30 distinct values. This variable will tell whether the patient discharged to home or any other facility etc\n",
    "\n",
    "- 1\tDischarged to home \n",
    "- 2\tDischarged/transferred to another short term hospital\n",
    "- 3\tDischarged/transferred to SNF\n",
    "- 4\tDischarged/transferred to ICF\n",
    "- 5\tDischarged/transferred to another type of inpatient care institution\n",
    "- 6\tDischarged/transferred to home with home health service\n",
    "- 7\tLeft AMA\n",
    "- 8\tDischarged/transferred to home under care of Home IV provider\n",
    "- 9\tAdmitted as an inpatient to this hospital\n",
    "- 10\tNeonate discharged to another hospital for neonatal aftercare\n",
    "- 11\tExpired\n",
    "- 12\tStill patient or expected to return for outpatient services\n",
    "- 13\tHospice / home\n",
    "- 14\tHospice / medical facility\n",
    "- 15\tDischarged/transferred within this institution to Medicare approved swing bed\n",
    "- 16\tDischarged/transferred/referred another institution for outpatient services\n",
    "- 17\tDischarged/transferred/referred to this institution for outpatient services\n",
    "- 18\tNULL\n",
    "- 19\tExpired at home. Medicaid only, hospice.\n",
    "- 20\tExpired in a medical facility. Medicaid only, hospice.\n",
    "- 21\tExpired, place unknown. Medicaid only, hospice.\n",
    "- 22\tDischarged/transferred to another rehab fac including rehab units of a hospital .\n",
    "- 23\tDischarged/transferred to a long term care hospital.\n",
    "- 24\tDischarged/transferred to a nursing facility certified under Medicaid but not certified under Medicare.\n",
    "- 25\tNot Mapped\n",
    "- 26\tUnknown/Invalid\n",
    "- 30\tDischarged/transferred to another Type of Health Care Institution not Defined Elsewhere\n",
    "- 27\tDischarged/transferred to a federal health care facility.\n",
    "- 28\tDischarged/transferred/referred to a psychiatric hospital of psychiatric distinct part unit of a hospital\n",
    "- 29\tDischarged/transferred to a Critical Access Hospital (CAH)."
   ]
  },
  {
   "cell_type": "code",
   "execution_count": 88,
   "id": "86e8e5ca",
   "metadata": {},
   "outputs": [
    {
     "data": {
      "text/plain": [
       "1     60234\n",
       "3     13954\n",
       "6     12902\n",
       "18     3691\n",
       "2      2128\n",
       "22     1993\n",
       "11     1642\n",
       "5      1184\n",
       "25      989\n",
       "4       815\n",
       "7       623\n",
       "23      412\n",
       "13      399\n",
       "14      372\n",
       "28      139\n",
       "8       108\n",
       "15       63\n",
       "24       48\n",
       "9        21\n",
       "17       14\n",
       "16       11\n",
       "19        8\n",
       "10        6\n",
       "27        5\n",
       "12        3\n",
       "20        2\n",
       "Name: discharge_disposition_id, dtype: int64"
      ]
     },
     "execution_count": 88,
     "metadata": {},
     "output_type": "execute_result"
    }
   ],
   "source": [
    "diabetic_df['discharge_disposition_id'].value_counts()"
   ]
  },
  {
   "cell_type": "markdown",
   "id": "c3b6411e",
   "metadata": {},
   "source": [
    "We can make all these observations with respect to discharge_disposition_id into three different categories Home and other. The categories  18-NULL, 25-Not Mapped and 26-Unknown/Invalid are comes under NULL values. We need imputation for these categories. We decided to combine these categories with other categories."
   ]
  },
  {
   "cell_type": "code",
   "execution_count": 89,
   "id": "a90b29c5",
   "metadata": {},
   "outputs": [
    {
     "data": {
      "image/png": "[encoded data removed]",
      "text/plain": [
       "<Figure size 432x288 with 1 Axes>"
      ]
     },
     "metadata": {
      "needs_background": "light"
     },
     "output_type": "display_data"
    }
   ],
   "source": [
    "sns.countplot(x =\"discharge_disposition_id\", data = diabetic_df)\n",
    "plt.show()"
   ]
  },
  {
   "cell_type": "code",
   "execution_count": 90,
   "id": "1bd3f028",
   "metadata": {},
   "outputs": [],
   "source": [
    "mapped_discharge = {1:\"Home\",\n",
    "                    6:\"Home\",\n",
    "                    8:\"Home\",\n",
    "                    13:\"Home\",\n",
    "                    19:\"Home\",\n",
    "                    18:\"Other\",25:\"Other\",26:\"Other\",\n",
    "                    2:\"Other\",3:\"Other\",4:\"Other\",\n",
    "                    5:\"Other\",7:\"Other\",9:\"Other\",\n",
    "                    10:\"Other\",11:\"Other\",12:\"Other\",\n",
    "                    14:\"Other\",15:\"Other\",16:\"Other\",\n",
    "                    17:\"Other\",20:\"Other\",21:\"Other\",\n",
    "                    22:\"Other\",23:\"Other\",24:\"Other\",\n",
    "                    27:\"Other\",28:\"Other\",29:\"Other\",30:\"Other\"}\n",
    "\n",
    "diabetic_df[\"discharge_disposition_id\"] = diabetic_df[\"discharge_disposition_id\"].replace(mapped_discharge)"
   ]
  },
  {
   "cell_type": "code",
   "execution_count": 91,
   "id": "b4d997ca",
   "metadata": {},
   "outputs": [
    {
     "data": {
      "image/png": "[encoded data removed]",
      "text/plain": [
       "<Figure size 432x288 with 1 Axes>"
      ]
     },
     "metadata": {
      "needs_background": "light"
     },
     "output_type": "display_data"
    }
   ],
   "source": [
    "sns.countplot(x =\"discharge_disposition_id\", data = diabetic_df)\n",
    "plt.show()"
   ]
  },
  {
   "cell_type": "markdown",
   "id": "f331721d",
   "metadata": {},
   "source": [
    "##### Combine Unknown into other category and explain the reason in the report"
   ]
  },
  {
   "cell_type": "code",
   "execution_count": 92,
   "id": "c114af1c",
   "metadata": {},
   "outputs": [
    {
     "name": "stdout",
     "output_type": "stream",
     "text": [
      "Proportions of ID's\n",
      "Home     73651\n",
      "Other    28115\n",
      "Name: discharge_disposition_id, dtype: int64\n"
     ]
    }
   ],
   "source": [
    "print(\"Proportions of ID's\")\n",
    "print(diabetic_df.discharge_disposition_id.value_counts())"
   ]
  },
  {
   "cell_type": "code",
   "execution_count": 93,
   "id": "ad3c4d59",
   "metadata": {},
   "outputs": [
    {
     "data": {
      "image/png": "[encoded data removed]",
      "text/plain": [
       "<Figure size 432x288 with 1 Axes>"
      ]
     },
     "metadata": {
      "needs_background": "light"
     },
     "output_type": "display_data"
    }
   ],
   "source": [
    "sns.countplot(x =\"discharge_disposition_id\", hue = \"readmitted\", data = diabetic_df)\n",
    "plt.show()"
   ]
  },
  {
   "cell_type": "code",
   "execution_count": 94,
   "id": "5510afc0",
   "metadata": {},
   "outputs": [
    {
     "data": {
      "text/plain": [
       "0         Other\n",
       "1          Home\n",
       "2          Home\n",
       "3          Home\n",
       "4          Home\n",
       "          ...  \n",
       "101761    Other\n",
       "101762    Other\n",
       "101763     Home\n",
       "101764    Other\n",
       "101765     Home\n",
       "Name: discharge_disposition_id, Length: 101766, dtype: object"
      ]
     },
     "execution_count": 94,
     "metadata": {},
     "output_type": "execute_result"
    }
   ],
   "source": [
    "diabetic_df['discharge_disposition_id']"
   ]
  },
  {
   "cell_type": "markdown",
   "id": "5ff1e55d",
   "metadata": {},
   "source": [
    "##### Admission Source ID"
   ]
  },
  {
   "cell_type": "code",
   "execution_count": 95,
   "id": "b9afb46e",
   "metadata": {},
   "outputs": [
    {
     "data": {
      "text/plain": [
       "count    101766.000000\n",
       "mean          5.754437\n",
       "std           4.064081\n",
       "min           1.000000\n",
       "25%           1.000000\n",
       "50%           7.000000\n",
       "75%           7.000000\n",
       "max          25.000000\n",
       "Name: admission_source_id, dtype: float64"
      ]
     },
     "execution_count": 95,
     "metadata": {},
     "output_type": "execute_result"
    }
   ],
   "source": [
    "diabetic_df['admission_source_id'].describe()"
   ]
  },
  {
   "cell_type": "markdown",
   "id": "93ad26bf",
   "metadata": {},
   "source": [
    "There are 26 distinct values. This variable will tell whether the patient admitted becuase of physician referral or clinic referral etc\n",
    "\n",
    "- 1\t Physician Referral\n",
    "- 2\tClinic Referral\n",
    "- 3\tHMO Referral\n",
    "- 4\tTransfer from a hospital\n",
    "- 5\t Transfer from a Skilled Nursing Facility (SNF)\n",
    "- 6\t Transfer from another health care facility\n",
    "- 7\t Emergency Room\n",
    "- 8\t Court/Law Enforcement\n",
    "- 9\t Not Available\n",
    "- 10\t Transfer from critial access hospital\n",
    "- 11\tNormal Delivery\n",
    "- 12\t Premature Delivery\n",
    "- 13\t Sick Baby\n",
    "- 14\t Extramural Birth\n",
    "- 15\tNot Available\n",
    "- 17\tNULL\n",
    "- 18\t Transfer From Another Home Health Agency\n",
    "- 19\tReadmission to Same Home Health Agency\n",
    "- 20\t Not Mapped\n",
    "- 21\tUnknown/Invalid\n",
    "- 22\t Transfer from hospital inpt/same fac reslt in a sep claim\n",
    "- 23\t Born inside this hospital\n",
    "- 24\t Born outside this hospital\n",
    "- 25\t Transfer from Ambulatory Surgery Center\n",
    "- 26\tTransfer from Hospice\n"
   ]
  },
  {
   "cell_type": "code",
   "execution_count": 96,
   "id": "624081a4",
   "metadata": {},
   "outputs": [
    {
     "data": {
      "image/png": "[encoded data removed]",
      "text/plain": [
       "<Figure size 432x288 with 1 Axes>"
      ]
     },
     "metadata": {
      "needs_background": "light"
     },
     "output_type": "display_data"
    }
   ],
   "source": [
    "sns.countplot(x =\"admission_source_id\", data = diabetic_df)\n",
    "plt.show()"
   ]
  },
  {
   "cell_type": "markdown",
   "id": "b5e06c8d",
   "metadata": {},
   "source": [
    "We can make all observations with respect to admission source into three different categories like, Referral, Emergency or  Other"
   ]
  },
  {
   "cell_type": "code",
   "execution_count": 97,
   "id": "53473343",
   "metadata": {},
   "outputs": [],
   "source": [
    "# map the admission source to three categories\n",
    "mapped_adm = {1:\"Referral\",2:\"Referral\",3:\"Referral\",\n",
    "              4:\"Other\",5:\"Other\",6:\"Other\",10:\"Other\",22:\"Other\",25:\"Other\",\n",
    "              9:\"Other\",8:\"Other\",14:\"Other\",13:\"Other\",11:\"Other\",\n",
    "              15:\"Other\",17:\"Emergency\",20:\"Referral\",21:\"Other\",\n",
    "              7:\"Emergency\"}\n",
    "\n",
    "# replace the admisision values to three categories\n",
    "diabetic_df.admission_source_id = diabetic_df.admission_source_id.replace(mapped_adm)"
   ]
  },
  {
   "cell_type": "code",
   "execution_count": 98,
   "id": "882ce736",
   "metadata": {},
   "outputs": [
    {
     "data": {
      "image/png": "[encoded data removed]",
      "text/plain": [
       "<Figure size 432x288 with 1 Axes>"
      ]
     },
     "metadata": {
      "needs_background": "light"
     },
     "output_type": "display_data"
    }
   ],
   "source": [
    "sns.countplot(x = \"admission_source_id\", data = diabetic_df)\n",
    "plt.show()"
   ]
  },
  {
   "cell_type": "code",
   "execution_count": 99,
   "id": "9db6e32a",
   "metadata": {},
   "outputs": [
    {
     "name": "stdout",
     "output_type": "stream",
     "text": [
      "Emergency    64275\n",
      "Referral     31017\n",
      "Other         6474\n",
      "Name: admission_source_id, dtype: int64\n"
     ]
    }
   ],
   "source": [
    "print(diabetic_df.admission_source_id.value_counts())"
   ]
  },
  {
   "cell_type": "code",
   "execution_count": 100,
   "id": "90f18779",
   "metadata": {},
   "outputs": [
    {
     "data": {
      "image/png": "[encoded data removed]",
      "text/plain": [
       "<Figure size 432x288 with 1 Axes>"
      ]
     },
     "metadata": {
      "needs_background": "light"
     },
     "output_type": "display_data"
    }
   ],
   "source": [
    "sns.countplot(x = \"admission_source_id\", hue = \"readmitted\", data = diabetic_df)\n",
    "plt.title(\"Admission Source - Readmitted\")\n",
    "plt.show()"
   ]
  },
  {
   "cell_type": "markdown",
   "id": "9f8989cd",
   "metadata": {},
   "source": [
    "##### time_in_hospital"
   ]
  },
  {
   "cell_type": "markdown",
   "id": "5fe28997",
   "metadata": {},
   "source": [
    "This is integer variable, this will tell how many days patient stayed in the hospital"
   ]
  },
  {
   "cell_type": "code",
   "execution_count": 101,
   "id": "e9c7bfd8",
   "metadata": {},
   "outputs": [
    {
     "data": {
      "text/plain": [
       "count    101766.000000\n",
       "mean          4.395987\n",
       "std           2.985108\n",
       "min           1.000000\n",
       "25%           2.000000\n",
       "50%           4.000000\n",
       "75%           6.000000\n",
       "max          14.000000\n",
       "Name: time_in_hospital, dtype: float64"
      ]
     },
     "execution_count": 101,
     "metadata": {},
     "output_type": "execute_result"
    }
   ],
   "source": [
    "diabetic_df['time_in_hospital'].describe()"
   ]
  },
  {
   "cell_type": "code",
   "execution_count": 102,
   "id": "dc693a90",
   "metadata": {},
   "outputs": [
    {
     "data": {
      "image/png": "[encoded data removed]",
      "text/plain": [
       "<Figure size 432x288 with 1 Axes>"
      ]
     },
     "metadata": {
      "needs_background": "light"
     },
     "output_type": "display_data"
    },
    {
     "data": {
      "text/plain": [
       "<Figure size 720x360 with 0 Axes>"
      ]
     },
     "metadata": {},
     "output_type": "display_data"
    }
   ],
   "source": [
    "sns.countplot(x=\"time_in_hospital\", data = diabetic_df,\n",
    "              order = diabetic_df.time_in_hospital.value_counts().index)\n",
    "fig = plt.figure(figsize=(10,5))\n",
    "plt.show()"
   ]
  },
  {
   "cell_type": "code",
   "execution_count": 103,
   "id": "ea624ee9",
   "metadata": {},
   "outputs": [
    {
     "data": {
      "image/png": "[encoded data removed]",
      "text/plain": [
       "<Figure size 720x360 with 1 Axes>"
      ]
     },
     "metadata": {
      "needs_background": "light"
     },
     "output_type": "display_data"
    }
   ],
   "source": [
    "fig = plt.figure(figsize=(10,5))\n",
    "#readmitted = 0\n",
    "ax = sns.kdeplot(diabetic_df.loc[(diabetic_df.readmitted == 0), \"time_in_hospital\"],\n",
    "                 color = \"b\", shade = True, label = \"Not Readmitted\")\n",
    "\n",
    "ax = sns.kdeplot(diabetic_df.loc[(diabetic_df.readmitted == 1), \"time_in_hospital\"],\n",
    "                 color = \"r\", shade = True, label = \"Readmitted\")\n",
    "ax.legend(loc=\"upper right\")\n",
    "\n",
    "ax.set_xlabel(\"Time in Hospital\")\n",
    "ax.set_ylabel(\"Frequency\")\n",
    "ax.set_title(\"Time in Hospital - Readmission\")\n",
    "plt.show()"
   ]
  },
  {
   "cell_type": "markdown",
   "id": "3e8f41f3",
   "metadata": {},
   "source": [
    "##### payer_code "
   ]
  },
  {
   "cell_type": "markdown",
   "id": "587658d6",
   "metadata": {},
   "source": [
    "This is object variable, this variable will tell you the insurance of the patient. This variable has 17 unique values"
   ]
  },
  {
   "cell_type": "code",
   "execution_count": 104,
   "id": "2eb5efb2",
   "metadata": {},
   "outputs": [
    {
     "name": "stdout",
     "output_type": "stream",
     "text": [
      "MC    32439\n",
      "HM     6274\n",
      "SP     5007\n",
      "BC     4655\n",
      "MD     3532\n",
      "CP     2533\n",
      "UN     2448\n",
      "CM     1937\n",
      "OG     1033\n",
      "PO      592\n",
      "DM      549\n",
      "CH      146\n",
      "WC      135\n",
      "OT       95\n",
      "MP       79\n",
      "SI       55\n",
      "FR        1\n",
      "Name: payer_code, dtype: int64\n"
     ]
    }
   ],
   "source": [
    "print(diabetic_df.payer_code.value_counts())"
   ]
  },
  {
   "cell_type": "code",
   "execution_count": 105,
   "id": "b7c312f1",
   "metadata": {},
   "outputs": [
    {
     "data": {
      "image/png": "[encoded data removed]",
      "text/plain": [
       "<Figure size 432x288 with 1 Axes>"
      ]
     },
     "metadata": {
      "needs_background": "light"
     },
     "output_type": "display_data"
    }
   ],
   "source": [
    "sns.countplot(x = \"payer_code\", data = diabetic_df)\n",
    "plt.show()"
   ]
  },
  {
   "cell_type": "markdown",
   "id": "74fe1904",
   "metadata": {},
   "source": [
    "Impute the missing values in payer_code based on frequency "
   ]
  },
  {
   "cell_type": "code",
   "execution_count": 106,
   "id": "bf6588cd",
   "metadata": {},
   "outputs": [
    {
     "data": {
      "text/html": [
       "<div>\n",
       "<style scoped>\n",
       "    .dataframe tbody tr th:only-of-type {\n",
       "        vertical-align: middle;\n",
       "    }\n",
       "\n",
       "    .dataframe tbody tr th {\n",
       "        vertical-align: top;\n",
       "    }\n",
       "\n",
       "    .dataframe thead th {\n",
       "        text-align: right;\n",
       "    }\n",
       "</style>\n",
       "<table border=\"1\" class=\"dataframe\">\n",
       "  <thead>\n",
       "    <tr style=\"text-align: right;\">\n",
       "      <th></th>\n",
       "      <th>encounter_id</th>\n",
       "      <th>patient_nbr</th>\n",
       "      <th>race</th>\n",
       "      <th>gender</th>\n",
       "      <th>age</th>\n",
       "      <th>weight</th>\n",
       "      <th>admission_type_id</th>\n",
       "      <th>discharge_disposition_id</th>\n",
       "      <th>admission_source_id</th>\n",
       "      <th>time_in_hospital</th>\n",
       "      <th>...</th>\n",
       "      <th>insulin</th>\n",
       "      <th>glyburide-metformin</th>\n",
       "      <th>glipizide-metformin</th>\n",
       "      <th>glimepiride-pioglitazone</th>\n",
       "      <th>metformin-rosiglitazone</th>\n",
       "      <th>metformin-pioglitazone</th>\n",
       "      <th>change</th>\n",
       "      <th>diabetesMed</th>\n",
       "      <th>readmitted</th>\n",
       "      <th>payer_code_impu</th>\n",
       "    </tr>\n",
       "  </thead>\n",
       "  <tbody>\n",
       "    <tr>\n",
       "      <th>0</th>\n",
       "      <td>2278392</td>\n",
       "      <td>8222157</td>\n",
       "      <td>Caucasian</td>\n",
       "      <td>Female</td>\n",
       "      <td>[0-10)</td>\n",
       "      <td>NaN</td>\n",
       "      <td>6</td>\n",
       "      <td>Other</td>\n",
       "      <td>Referral</td>\n",
       "      <td>1</td>\n",
       "      <td>...</td>\n",
       "      <td>No</td>\n",
       "      <td>No</td>\n",
       "      <td>No</td>\n",
       "      <td>No</td>\n",
       "      <td>No</td>\n",
       "      <td>No</td>\n",
       "      <td>No</td>\n",
       "      <td>No</td>\n",
       "      <td>0</td>\n",
       "      <td>CP</td>\n",
       "    </tr>\n",
       "    <tr>\n",
       "      <th>1</th>\n",
       "      <td>149190</td>\n",
       "      <td>55629189</td>\n",
       "      <td>Caucasian</td>\n",
       "      <td>Female</td>\n",
       "      <td>[10-20)</td>\n",
       "      <td>NaN</td>\n",
       "      <td>1</td>\n",
       "      <td>Home</td>\n",
       "      <td>Emergency</td>\n",
       "      <td>3</td>\n",
       "      <td>...</td>\n",
       "      <td>Up</td>\n",
       "      <td>No</td>\n",
       "      <td>No</td>\n",
       "      <td>No</td>\n",
       "      <td>No</td>\n",
       "      <td>No</td>\n",
       "      <td>Ch</td>\n",
       "      <td>Yes</td>\n",
       "      <td>0</td>\n",
       "      <td>MC</td>\n",
       "    </tr>\n",
       "    <tr>\n",
       "      <th>2</th>\n",
       "      <td>64410</td>\n",
       "      <td>86047875</td>\n",
       "      <td>AfricanAmerican</td>\n",
       "      <td>Female</td>\n",
       "      <td>[20-30)</td>\n",
       "      <td>NaN</td>\n",
       "      <td>1</td>\n",
       "      <td>Home</td>\n",
       "      <td>Emergency</td>\n",
       "      <td>2</td>\n",
       "      <td>...</td>\n",
       "      <td>No</td>\n",
       "      <td>No</td>\n",
       "      <td>No</td>\n",
       "      <td>No</td>\n",
       "      <td>No</td>\n",
       "      <td>No</td>\n",
       "      <td>No</td>\n",
       "      <td>Yes</td>\n",
       "      <td>0</td>\n",
       "      <td>CH</td>\n",
       "    </tr>\n",
       "    <tr>\n",
       "      <th>3</th>\n",
       "      <td>500364</td>\n",
       "      <td>82442376</td>\n",
       "      <td>Caucasian</td>\n",
       "      <td>Male</td>\n",
       "      <td>[30-40)</td>\n",
       "      <td>NaN</td>\n",
       "      <td>1</td>\n",
       "      <td>Home</td>\n",
       "      <td>Emergency</td>\n",
       "      <td>2</td>\n",
       "      <td>...</td>\n",
       "      <td>Up</td>\n",
       "      <td>No</td>\n",
       "      <td>No</td>\n",
       "      <td>No</td>\n",
       "      <td>No</td>\n",
       "      <td>No</td>\n",
       "      <td>Ch</td>\n",
       "      <td>Yes</td>\n",
       "      <td>0</td>\n",
       "      <td>BC</td>\n",
       "    </tr>\n",
       "    <tr>\n",
       "      <th>4</th>\n",
       "      <td>16680</td>\n",
       "      <td>42519267</td>\n",
       "      <td>Caucasian</td>\n",
       "      <td>Male</td>\n",
       "      <td>[40-50)</td>\n",
       "      <td>NaN</td>\n",
       "      <td>1</td>\n",
       "      <td>Home</td>\n",
       "      <td>Emergency</td>\n",
       "      <td>1</td>\n",
       "      <td>...</td>\n",
       "      <td>Steady</td>\n",
       "      <td>No</td>\n",
       "      <td>No</td>\n",
       "      <td>No</td>\n",
       "      <td>No</td>\n",
       "      <td>No</td>\n",
       "      <td>Ch</td>\n",
       "      <td>Yes</td>\n",
       "      <td>0</td>\n",
       "      <td>MC</td>\n",
       "    </tr>\n",
       "    <tr>\n",
       "      <th>...</th>\n",
       "      <td>...</td>\n",
       "      <td>...</td>\n",
       "      <td>...</td>\n",
       "      <td>...</td>\n",
       "      <td>...</td>\n",
       "      <td>...</td>\n",
       "      <td>...</td>\n",
       "      <td>...</td>\n",
       "      <td>...</td>\n",
       "      <td>...</td>\n",
       "      <td>...</td>\n",
       "      <td>...</td>\n",
       "      <td>...</td>\n",
       "      <td>...</td>\n",
       "      <td>...</td>\n",
       "      <td>...</td>\n",
       "      <td>...</td>\n",
       "      <td>...</td>\n",
       "      <td>...</td>\n",
       "      <td>...</td>\n",
       "      <td>...</td>\n",
       "    </tr>\n",
       "    <tr>\n",
       "      <th>101761</th>\n",
       "      <td>443847548</td>\n",
       "      <td>100162476</td>\n",
       "      <td>AfricanAmerican</td>\n",
       "      <td>Male</td>\n",
       "      <td>[70-80)</td>\n",
       "      <td>NaN</td>\n",
       "      <td>1</td>\n",
       "      <td>Other</td>\n",
       "      <td>Emergency</td>\n",
       "      <td>3</td>\n",
       "      <td>...</td>\n",
       "      <td>Down</td>\n",
       "      <td>No</td>\n",
       "      <td>No</td>\n",
       "      <td>No</td>\n",
       "      <td>No</td>\n",
       "      <td>No</td>\n",
       "      <td>Ch</td>\n",
       "      <td>Yes</td>\n",
       "      <td>0</td>\n",
       "      <td>MC</td>\n",
       "    </tr>\n",
       "    <tr>\n",
       "      <th>101762</th>\n",
       "      <td>443847782</td>\n",
       "      <td>74694222</td>\n",
       "      <td>AfricanAmerican</td>\n",
       "      <td>Female</td>\n",
       "      <td>[80-90)</td>\n",
       "      <td>NaN</td>\n",
       "      <td>1</td>\n",
       "      <td>Other</td>\n",
       "      <td>Other</td>\n",
       "      <td>5</td>\n",
       "      <td>...</td>\n",
       "      <td>Steady</td>\n",
       "      <td>No</td>\n",
       "      <td>No</td>\n",
       "      <td>No</td>\n",
       "      <td>No</td>\n",
       "      <td>No</td>\n",
       "      <td>No</td>\n",
       "      <td>Yes</td>\n",
       "      <td>0</td>\n",
       "      <td>MC</td>\n",
       "    </tr>\n",
       "    <tr>\n",
       "      <th>101763</th>\n",
       "      <td>443854148</td>\n",
       "      <td>41088789</td>\n",
       "      <td>Caucasian</td>\n",
       "      <td>Male</td>\n",
       "      <td>[70-80)</td>\n",
       "      <td>NaN</td>\n",
       "      <td>1</td>\n",
       "      <td>Home</td>\n",
       "      <td>Emergency</td>\n",
       "      <td>1</td>\n",
       "      <td>...</td>\n",
       "      <td>Down</td>\n",
       "      <td>No</td>\n",
       "      <td>No</td>\n",
       "      <td>No</td>\n",
       "      <td>No</td>\n",
       "      <td>No</td>\n",
       "      <td>Ch</td>\n",
       "      <td>Yes</td>\n",
       "      <td>0</td>\n",
       "      <td>MC</td>\n",
       "    </tr>\n",
       "    <tr>\n",
       "      <th>101764</th>\n",
       "      <td>443857166</td>\n",
       "      <td>31693671</td>\n",
       "      <td>Caucasian</td>\n",
       "      <td>Female</td>\n",
       "      <td>[80-90)</td>\n",
       "      <td>NaN</td>\n",
       "      <td>2</td>\n",
       "      <td>Other</td>\n",
       "      <td>Emergency</td>\n",
       "      <td>10</td>\n",
       "      <td>...</td>\n",
       "      <td>Up</td>\n",
       "      <td>No</td>\n",
       "      <td>No</td>\n",
       "      <td>No</td>\n",
       "      <td>No</td>\n",
       "      <td>No</td>\n",
       "      <td>Ch</td>\n",
       "      <td>Yes</td>\n",
       "      <td>0</td>\n",
       "      <td>MC</td>\n",
       "    </tr>\n",
       "    <tr>\n",
       "      <th>101765</th>\n",
       "      <td>443867222</td>\n",
       "      <td>175429310</td>\n",
       "      <td>Caucasian</td>\n",
       "      <td>Male</td>\n",
       "      <td>[70-80)</td>\n",
       "      <td>NaN</td>\n",
       "      <td>1</td>\n",
       "      <td>Home</td>\n",
       "      <td>Emergency</td>\n",
       "      <td>6</td>\n",
       "      <td>...</td>\n",
       "      <td>No</td>\n",
       "      <td>No</td>\n",
       "      <td>No</td>\n",
       "      <td>No</td>\n",
       "      <td>No</td>\n",
       "      <td>No</td>\n",
       "      <td>No</td>\n",
       "      <td>No</td>\n",
       "      <td>0</td>\n",
       "      <td>MC</td>\n",
       "    </tr>\n",
       "  </tbody>\n",
       "</table>\n",
       "<p>101766 rows × 51 columns</p>\n",
       "</div>"
      ],
      "text/plain": [
       "        encounter_id  patient_nbr             race  gender      age weight  \\\n",
       "0            2278392      8222157        Caucasian  Female   [0-10)    NaN   \n",
       "1             149190     55629189        Caucasian  Female  [10-20)    NaN   \n",
       "2              64410     86047875  AfricanAmerican  Female  [20-30)    NaN   \n",
       "3             500364     82442376        Caucasian    Male  [30-40)    NaN   \n",
       "4              16680     42519267        Caucasian    Male  [40-50)    NaN   \n",
       "...              ...          ...              ...     ...      ...    ...   \n",
       "101761     443847548    100162476  AfricanAmerican    Male  [70-80)    NaN   \n",
       "101762     443847782     74694222  AfricanAmerican  Female  [80-90)    NaN   \n",
       "101763     443854148     41088789        Caucasian    Male  [70-80)    NaN   \n",
       "101764     443857166     31693671        Caucasian  Female  [80-90)    NaN   \n",
       "101765     443867222    175429310        Caucasian    Male  [70-80)    NaN   \n",
       "\n",
       "        admission_type_id discharge_disposition_id admission_source_id  \\\n",
       "0                       6                    Other            Referral   \n",
       "1                       1                     Home           Emergency   \n",
       "2                       1                     Home           Emergency   \n",
       "3                       1                     Home           Emergency   \n",
       "4                       1                     Home           Emergency   \n",
       "...                   ...                      ...                 ...   \n",
       "101761                  1                    Other           Emergency   \n",
       "101762                  1                    Other               Other   \n",
       "101763                  1                     Home           Emergency   \n",
       "101764                  2                    Other           Emergency   \n",
       "101765                  1                     Home           Emergency   \n",
       "\n",
       "        time_in_hospital  ... insulin glyburide-metformin  \\\n",
       "0                      1  ...      No                  No   \n",
       "1                      3  ...      Up                  No   \n",
       "2                      2  ...      No                  No   \n",
       "3                      2  ...      Up                  No   \n",
       "4                      1  ...  Steady                  No   \n",
       "...                  ...  ...     ...                 ...   \n",
       "101761                 3  ...    Down                  No   \n",
       "101762                 5  ...  Steady                  No   \n",
       "101763                 1  ...    Down                  No   \n",
       "101764                10  ...      Up                  No   \n",
       "101765                 6  ...      No                  No   \n",
       "\n",
       "        glipizide-metformin  glimepiride-pioglitazone  \\\n",
       "0                        No                        No   \n",
       "1                        No                        No   \n",
       "2                        No                        No   \n",
       "3                        No                        No   \n",
       "4                        No                        No   \n",
       "...                     ...                       ...   \n",
       "101761                   No                        No   \n",
       "101762                   No                        No   \n",
       "101763                   No                        No   \n",
       "101764                   No                        No   \n",
       "101765                   No                        No   \n",
       "\n",
       "        metformin-rosiglitazone  metformin-pioglitazone  change  diabetesMed  \\\n",
       "0                            No                      No      No           No   \n",
       "1                            No                      No      Ch          Yes   \n",
       "2                            No                      No      No          Yes   \n",
       "3                            No                      No      Ch          Yes   \n",
       "4                            No                      No      Ch          Yes   \n",
       "...                         ...                     ...     ...          ...   \n",
       "101761                       No                      No      Ch          Yes   \n",
       "101762                       No                      No      No          Yes   \n",
       "101763                       No                      No      Ch          Yes   \n",
       "101764                       No                      No      Ch          Yes   \n",
       "101765                       No                      No      No           No   \n",
       "\n",
       "       readmitted payer_code_impu  \n",
       "0               0              CP  \n",
       "1               0              MC  \n",
       "2               0              CH  \n",
       "3               0              BC  \n",
       "4               0              MC  \n",
       "...           ...             ...  \n",
       "101761          0              MC  \n",
       "101762          0              MC  \n",
       "101763          0              MC  \n",
       "101764          0              MC  \n",
       "101765          0              MC  \n",
       "\n",
       "[101766 rows x 51 columns]"
      ]
     },
     "execution_count": 106,
     "metadata": {},
     "output_type": "execute_result"
    }
   ],
   "source": [
    "s = diabetic_df.payer_code.value_counts(normalize=True)\n",
    "diabetic_df['payer_code_impu'] = diabetic_df['payer_code']\n",
    "diabetic_df.loc[diabetic_df.payer_code.isna(), 'payer_code_impu'] = np.random.choice(s.index, p=s.values, \n",
    "                                                                          size=diabetic_df.payer_code.isna().sum())\n",
    "diabetic_df"
   ]
  },
  {
   "cell_type": "code",
   "execution_count": 107,
   "id": "e2e5451f",
   "metadata": {},
   "outputs": [
    {
     "data": {
      "text/plain": [
       "0"
      ]
     },
     "execution_count": 107,
     "metadata": {},
     "output_type": "execute_result"
    }
   ],
   "source": [
    "diabetic_df.payer_code_impu.isna().sum()"
   ]
  },
  {
   "cell_type": "code",
   "execution_count": 108,
   "id": "7339cf80",
   "metadata": {},
   "outputs": [
    {
     "name": "stdout",
     "output_type": "stream",
     "text": [
      "MC    53731\n",
      "HM    10383\n",
      "SP     8300\n",
      "BC     7625\n",
      "MD     5751\n",
      "CP     4206\n",
      "UN     4107\n",
      "CM     3204\n",
      "OG     1710\n",
      "PO      985\n",
      "DM      922\n",
      "CH      236\n",
      "WC      235\n",
      "OT      151\n",
      "MP      128\n",
      "SI       91\n",
      "FR        1\n",
      "Name: payer_code_impu, dtype: int64\n"
     ]
    }
   ],
   "source": [
    "print(diabetic_df.payer_code_impu.value_counts())"
   ]
  },
  {
   "cell_type": "markdown",
   "id": "cc4e8113",
   "metadata": {},
   "source": [
    "##### medical_specialty"
   ]
  },
  {
   "cell_type": "markdown",
   "id": "514777af",
   "metadata": {},
   "source": [
    "This is integer variable, this will tell the specialty of the admitting physician. There are 72 unique values for this variable"
   ]
  },
  {
   "cell_type": "code",
   "execution_count": 109,
   "id": "5e125330",
   "metadata": {},
   "outputs": [
    {
     "name": "stdout",
     "output_type": "stream",
     "text": [
      "InternalMedicine                    14635\n",
      "Emergency/Trauma                     7565\n",
      "Family/GeneralPractice               7440\n",
      "Cardiology                           5352\n",
      "Surgery-General                      3099\n",
      "                                    ...  \n",
      "Perinatology                            1\n",
      "Neurophysiology                         1\n",
      "Psychiatry-Addictive                    1\n",
      "Pediatrics-InfectiousDiseases           1\n",
      "Surgery-PlasticwithinHeadandNeck        1\n",
      "Name: medical_specialty, Length: 72, dtype: int64\n"
     ]
    }
   ],
   "source": [
    "print(diabetic_df.medical_specialty.value_counts())"
   ]
  },
  {
   "cell_type": "code",
   "execution_count": 110,
   "id": "0577fe4c",
   "metadata": {},
   "outputs": [
    {
     "data": {
      "text/html": [
       "<div>\n",
       "<style scoped>\n",
       "    .dataframe tbody tr th:only-of-type {\n",
       "        vertical-align: middle;\n",
       "    }\n",
       "\n",
       "    .dataframe tbody tr th {\n",
       "        vertical-align: top;\n",
       "    }\n",
       "\n",
       "    .dataframe thead th {\n",
       "        text-align: right;\n",
       "    }\n",
       "</style>\n",
       "<table border=\"1\" class=\"dataframe\">\n",
       "  <thead>\n",
       "    <tr style=\"text-align: right;\">\n",
       "      <th></th>\n",
       "      <th>encounter_id</th>\n",
       "      <th>patient_nbr</th>\n",
       "      <th>race</th>\n",
       "      <th>gender</th>\n",
       "      <th>age</th>\n",
       "      <th>weight</th>\n",
       "      <th>admission_type_id</th>\n",
       "      <th>discharge_disposition_id</th>\n",
       "      <th>admission_source_id</th>\n",
       "      <th>time_in_hospital</th>\n",
       "      <th>...</th>\n",
       "      <th>glyburide-metformin</th>\n",
       "      <th>glipizide-metformin</th>\n",
       "      <th>glimepiride-pioglitazone</th>\n",
       "      <th>metformin-rosiglitazone</th>\n",
       "      <th>metformin-pioglitazone</th>\n",
       "      <th>change</th>\n",
       "      <th>diabetesMed</th>\n",
       "      <th>readmitted</th>\n",
       "      <th>payer_code_impu</th>\n",
       "      <th>medical_specialty_impu</th>\n",
       "    </tr>\n",
       "  </thead>\n",
       "  <tbody>\n",
       "    <tr>\n",
       "      <th>0</th>\n",
       "      <td>2278392</td>\n",
       "      <td>8222157</td>\n",
       "      <td>Caucasian</td>\n",
       "      <td>Female</td>\n",
       "      <td>[0-10)</td>\n",
       "      <td>NaN</td>\n",
       "      <td>6</td>\n",
       "      <td>Other</td>\n",
       "      <td>Referral</td>\n",
       "      <td>1</td>\n",
       "      <td>...</td>\n",
       "      <td>No</td>\n",
       "      <td>No</td>\n",
       "      <td>No</td>\n",
       "      <td>No</td>\n",
       "      <td>No</td>\n",
       "      <td>No</td>\n",
       "      <td>No</td>\n",
       "      <td>0</td>\n",
       "      <td>CP</td>\n",
       "      <td>Pediatrics-Endocrinology</td>\n",
       "    </tr>\n",
       "    <tr>\n",
       "      <th>1</th>\n",
       "      <td>149190</td>\n",
       "      <td>55629189</td>\n",
       "      <td>Caucasian</td>\n",
       "      <td>Female</td>\n",
       "      <td>[10-20)</td>\n",
       "      <td>NaN</td>\n",
       "      <td>1</td>\n",
       "      <td>Home</td>\n",
       "      <td>Emergency</td>\n",
       "      <td>3</td>\n",
       "      <td>...</td>\n",
       "      <td>No</td>\n",
       "      <td>No</td>\n",
       "      <td>No</td>\n",
       "      <td>No</td>\n",
       "      <td>No</td>\n",
       "      <td>Ch</td>\n",
       "      <td>Yes</td>\n",
       "      <td>0</td>\n",
       "      <td>MC</td>\n",
       "      <td>Radiologist</td>\n",
       "    </tr>\n",
       "    <tr>\n",
       "      <th>2</th>\n",
       "      <td>64410</td>\n",
       "      <td>86047875</td>\n",
       "      <td>AfricanAmerican</td>\n",
       "      <td>Female</td>\n",
       "      <td>[20-30)</td>\n",
       "      <td>NaN</td>\n",
       "      <td>1</td>\n",
       "      <td>Home</td>\n",
       "      <td>Emergency</td>\n",
       "      <td>2</td>\n",
       "      <td>...</td>\n",
       "      <td>No</td>\n",
       "      <td>No</td>\n",
       "      <td>No</td>\n",
       "      <td>No</td>\n",
       "      <td>No</td>\n",
       "      <td>No</td>\n",
       "      <td>Yes</td>\n",
       "      <td>0</td>\n",
       "      <td>CH</td>\n",
       "      <td>Family/GeneralPractice</td>\n",
       "    </tr>\n",
       "    <tr>\n",
       "      <th>3</th>\n",
       "      <td>500364</td>\n",
       "      <td>82442376</td>\n",
       "      <td>Caucasian</td>\n",
       "      <td>Male</td>\n",
       "      <td>[30-40)</td>\n",
       "      <td>NaN</td>\n",
       "      <td>1</td>\n",
       "      <td>Home</td>\n",
       "      <td>Emergency</td>\n",
       "      <td>2</td>\n",
       "      <td>...</td>\n",
       "      <td>No</td>\n",
       "      <td>No</td>\n",
       "      <td>No</td>\n",
       "      <td>No</td>\n",
       "      <td>No</td>\n",
       "      <td>Ch</td>\n",
       "      <td>Yes</td>\n",
       "      <td>0</td>\n",
       "      <td>BC</td>\n",
       "      <td>Surgery-General</td>\n",
       "    </tr>\n",
       "    <tr>\n",
       "      <th>4</th>\n",
       "      <td>16680</td>\n",
       "      <td>42519267</td>\n",
       "      <td>Caucasian</td>\n",
       "      <td>Male</td>\n",
       "      <td>[40-50)</td>\n",
       "      <td>NaN</td>\n",
       "      <td>1</td>\n",
       "      <td>Home</td>\n",
       "      <td>Emergency</td>\n",
       "      <td>1</td>\n",
       "      <td>...</td>\n",
       "      <td>No</td>\n",
       "      <td>No</td>\n",
       "      <td>No</td>\n",
       "      <td>No</td>\n",
       "      <td>No</td>\n",
       "      <td>Ch</td>\n",
       "      <td>Yes</td>\n",
       "      <td>0</td>\n",
       "      <td>MC</td>\n",
       "      <td>Cardiology</td>\n",
       "    </tr>\n",
       "    <tr>\n",
       "      <th>...</th>\n",
       "      <td>...</td>\n",
       "      <td>...</td>\n",
       "      <td>...</td>\n",
       "      <td>...</td>\n",
       "      <td>...</td>\n",
       "      <td>...</td>\n",
       "      <td>...</td>\n",
       "      <td>...</td>\n",
       "      <td>...</td>\n",
       "      <td>...</td>\n",
       "      <td>...</td>\n",
       "      <td>...</td>\n",
       "      <td>...</td>\n",
       "      <td>...</td>\n",
       "      <td>...</td>\n",
       "      <td>...</td>\n",
       "      <td>...</td>\n",
       "      <td>...</td>\n",
       "      <td>...</td>\n",
       "      <td>...</td>\n",
       "      <td>...</td>\n",
       "    </tr>\n",
       "    <tr>\n",
       "      <th>101761</th>\n",
       "      <td>443847548</td>\n",
       "      <td>100162476</td>\n",
       "      <td>AfricanAmerican</td>\n",
       "      <td>Male</td>\n",
       "      <td>[70-80)</td>\n",
       "      <td>NaN</td>\n",
       "      <td>1</td>\n",
       "      <td>Other</td>\n",
       "      <td>Emergency</td>\n",
       "      <td>3</td>\n",
       "      <td>...</td>\n",
       "      <td>No</td>\n",
       "      <td>No</td>\n",
       "      <td>No</td>\n",
       "      <td>No</td>\n",
       "      <td>No</td>\n",
       "      <td>Ch</td>\n",
       "      <td>Yes</td>\n",
       "      <td>0</td>\n",
       "      <td>MC</td>\n",
       "      <td>Family/GeneralPractice</td>\n",
       "    </tr>\n",
       "    <tr>\n",
       "      <th>101762</th>\n",
       "      <td>443847782</td>\n",
       "      <td>74694222</td>\n",
       "      <td>AfricanAmerican</td>\n",
       "      <td>Female</td>\n",
       "      <td>[80-90)</td>\n",
       "      <td>NaN</td>\n",
       "      <td>1</td>\n",
       "      <td>Other</td>\n",
       "      <td>Other</td>\n",
       "      <td>5</td>\n",
       "      <td>...</td>\n",
       "      <td>No</td>\n",
       "      <td>No</td>\n",
       "      <td>No</td>\n",
       "      <td>No</td>\n",
       "      <td>No</td>\n",
       "      <td>No</td>\n",
       "      <td>Yes</td>\n",
       "      <td>0</td>\n",
       "      <td>MC</td>\n",
       "      <td>Endocrinology</td>\n",
       "    </tr>\n",
       "    <tr>\n",
       "      <th>101763</th>\n",
       "      <td>443854148</td>\n",
       "      <td>41088789</td>\n",
       "      <td>Caucasian</td>\n",
       "      <td>Male</td>\n",
       "      <td>[70-80)</td>\n",
       "      <td>NaN</td>\n",
       "      <td>1</td>\n",
       "      <td>Home</td>\n",
       "      <td>Emergency</td>\n",
       "      <td>1</td>\n",
       "      <td>...</td>\n",
       "      <td>No</td>\n",
       "      <td>No</td>\n",
       "      <td>No</td>\n",
       "      <td>No</td>\n",
       "      <td>No</td>\n",
       "      <td>Ch</td>\n",
       "      <td>Yes</td>\n",
       "      <td>0</td>\n",
       "      <td>MC</td>\n",
       "      <td>Pulmonology</td>\n",
       "    </tr>\n",
       "    <tr>\n",
       "      <th>101764</th>\n",
       "      <td>443857166</td>\n",
       "      <td>31693671</td>\n",
       "      <td>Caucasian</td>\n",
       "      <td>Female</td>\n",
       "      <td>[80-90)</td>\n",
       "      <td>NaN</td>\n",
       "      <td>2</td>\n",
       "      <td>Other</td>\n",
       "      <td>Emergency</td>\n",
       "      <td>10</td>\n",
       "      <td>...</td>\n",
       "      <td>No</td>\n",
       "      <td>No</td>\n",
       "      <td>No</td>\n",
       "      <td>No</td>\n",
       "      <td>No</td>\n",
       "      <td>Ch</td>\n",
       "      <td>Yes</td>\n",
       "      <td>0</td>\n",
       "      <td>MC</td>\n",
       "      <td>Surgery-General</td>\n",
       "    </tr>\n",
       "    <tr>\n",
       "      <th>101765</th>\n",
       "      <td>443867222</td>\n",
       "      <td>175429310</td>\n",
       "      <td>Caucasian</td>\n",
       "      <td>Male</td>\n",
       "      <td>[70-80)</td>\n",
       "      <td>NaN</td>\n",
       "      <td>1</td>\n",
       "      <td>Home</td>\n",
       "      <td>Emergency</td>\n",
       "      <td>6</td>\n",
       "      <td>...</td>\n",
       "      <td>No</td>\n",
       "      <td>No</td>\n",
       "      <td>No</td>\n",
       "      <td>No</td>\n",
       "      <td>No</td>\n",
       "      <td>No</td>\n",
       "      <td>No</td>\n",
       "      <td>0</td>\n",
       "      <td>MC</td>\n",
       "      <td>InternalMedicine</td>\n",
       "    </tr>\n",
       "  </tbody>\n",
       "</table>\n",
       "<p>101766 rows × 52 columns</p>\n",
       "</div>"
      ],
      "text/plain": [
       "        encounter_id  patient_nbr             race  gender      age weight  \\\n",
       "0            2278392      8222157        Caucasian  Female   [0-10)    NaN   \n",
       "1             149190     55629189        Caucasian  Female  [10-20)    NaN   \n",
       "2              64410     86047875  AfricanAmerican  Female  [20-30)    NaN   \n",
       "3             500364     82442376        Caucasian    Male  [30-40)    NaN   \n",
       "4              16680     42519267        Caucasian    Male  [40-50)    NaN   \n",
       "...              ...          ...              ...     ...      ...    ...   \n",
       "101761     443847548    100162476  AfricanAmerican    Male  [70-80)    NaN   \n",
       "101762     443847782     74694222  AfricanAmerican  Female  [80-90)    NaN   \n",
       "101763     443854148     41088789        Caucasian    Male  [70-80)    NaN   \n",
       "101764     443857166     31693671        Caucasian  Female  [80-90)    NaN   \n",
       "101765     443867222    175429310        Caucasian    Male  [70-80)    NaN   \n",
       "\n",
       "        admission_type_id discharge_disposition_id admission_source_id  \\\n",
       "0                       6                    Other            Referral   \n",
       "1                       1                     Home           Emergency   \n",
       "2                       1                     Home           Emergency   \n",
       "3                       1                     Home           Emergency   \n",
       "4                       1                     Home           Emergency   \n",
       "...                   ...                      ...                 ...   \n",
       "101761                  1                    Other           Emergency   \n",
       "101762                  1                    Other               Other   \n",
       "101763                  1                     Home           Emergency   \n",
       "101764                  2                    Other           Emergency   \n",
       "101765                  1                     Home           Emergency   \n",
       "\n",
       "        time_in_hospital  ... glyburide-metformin glipizide-metformin  \\\n",
       "0                      1  ...                  No                  No   \n",
       "1                      3  ...                  No                  No   \n",
       "2                      2  ...                  No                  No   \n",
       "3                      2  ...                  No                  No   \n",
       "4                      1  ...                  No                  No   \n",
       "...                  ...  ...                 ...                 ...   \n",
       "101761                 3  ...                  No                  No   \n",
       "101762                 5  ...                  No                  No   \n",
       "101763                 1  ...                  No                  No   \n",
       "101764                10  ...                  No                  No   \n",
       "101765                 6  ...                  No                  No   \n",
       "\n",
       "        glimepiride-pioglitazone  metformin-rosiglitazone  \\\n",
       "0                             No                       No   \n",
       "1                             No                       No   \n",
       "2                             No                       No   \n",
       "3                             No                       No   \n",
       "4                             No                       No   \n",
       "...                          ...                      ...   \n",
       "101761                        No                       No   \n",
       "101762                        No                       No   \n",
       "101763                        No                       No   \n",
       "101764                        No                       No   \n",
       "101765                        No                       No   \n",
       "\n",
       "        metformin-pioglitazone  change  diabetesMed  readmitted  \\\n",
       "0                           No      No           No           0   \n",
       "1                           No      Ch          Yes           0   \n",
       "2                           No      No          Yes           0   \n",
       "3                           No      Ch          Yes           0   \n",
       "4                           No      Ch          Yes           0   \n",
       "...                        ...     ...          ...         ...   \n",
       "101761                      No      Ch          Yes           0   \n",
       "101762                      No      No          Yes           0   \n",
       "101763                      No      Ch          Yes           0   \n",
       "101764                      No      Ch          Yes           0   \n",
       "101765                      No      No           No           0   \n",
       "\n",
       "       payer_code_impu    medical_specialty_impu  \n",
       "0                   CP  Pediatrics-Endocrinology  \n",
       "1                   MC               Radiologist  \n",
       "2                   CH    Family/GeneralPractice  \n",
       "3                   BC           Surgery-General  \n",
       "4                   MC                Cardiology  \n",
       "...                ...                       ...  \n",
       "101761              MC    Family/GeneralPractice  \n",
       "101762              MC             Endocrinology  \n",
       "101763              MC               Pulmonology  \n",
       "101764              MC           Surgery-General  \n",
       "101765              MC          InternalMedicine  \n",
       "\n",
       "[101766 rows x 52 columns]"
      ]
     },
     "execution_count": 110,
     "metadata": {},
     "output_type": "execute_result"
    }
   ],
   "source": [
    "# Impute the missing values in medical_specialty based on frequency\n",
    "m = diabetic_df.medical_specialty.value_counts(normalize=True)\n",
    "diabetic_df['medical_specialty_impu'] = diabetic_df['medical_specialty']\n",
    "diabetic_df.loc[diabetic_df.medical_specialty.isna(), 'medical_specialty_impu'] = np.random.choice(m.index, p=m.values, \n",
    "                                                                          size=diabetic_df.medical_specialty.isna().sum())\n",
    "diabetic_df"
   ]
  },
  {
   "cell_type": "code",
   "execution_count": 111,
   "id": "24423ebd",
   "metadata": {},
   "outputs": [
    {
     "name": "stdout",
     "output_type": "stream",
     "text": [
      "InternalMedicine                 28792\n",
      "Emergency/Trauma                 14824\n",
      "Family/GeneralPractice           14672\n",
      "Cardiology                       10495\n",
      "Surgery-General                   6006\n",
      "                                 ...  \n",
      "Pediatrics-InfectiousDiseases        1\n",
      "Psychiatry-Addictive                 1\n",
      "Dermatology                          1\n",
      "Speech                               1\n",
      "Neurophysiology                      1\n",
      "Name: medical_specialty_impu, Length: 72, dtype: int64\n"
     ]
    }
   ],
   "source": [
    "print(diabetic_df.medical_specialty_impu.value_counts())"
   ]
  },
  {
   "cell_type": "markdown",
   "id": "bfb1b9ac",
   "metadata": {},
   "source": [
    "We can convert all these observations with respect to medical_specialty into 9 or 10 different categories  "
   ]
  },
  {
   "cell_type": "code",
   "execution_count": 112,
   "id": "f6486117",
   "metadata": {},
   "outputs": [],
   "source": [
    "top_10=['InternalMedicine','Family/GeneralPractice','Cardiology','Surgery-General',\n",
    "        \"Nephrology\",\"Orthopedics\",\"Radiologist\",\"Pulmonology\"]\n",
    "\n",
    "diabetic_df.loc[~diabetic_df['medical_specialty_impu'].isin(top_10),'medical_specialty_impu']='Other'"
   ]
  },
  {
   "cell_type": "code",
   "execution_count": 114,
   "id": "339c448e",
   "metadata": {},
   "outputs": [
    {
     "data": {
      "image/png": "[encoded data removed]",
      "text/plain": [
       "<Figure size 432x288 with 1 Axes>"
      ]
     },
     "metadata": {
      "needs_background": "light"
     },
     "output_type": "display_data"
    }
   ],
   "source": [
    "sns.countplot(x = \"medical_specialty_impu\", data = diabetic_df)\n",
    "plt.xticks(rotation = 90)\n",
    "plt.show()"
   ]
  },
  {
   "cell_type": "code",
   "execution_count": 115,
   "id": "47a2cc14",
   "metadata": {},
   "outputs": [
    {
     "data": {
      "image/png": "[encoded data removed]",
      "text/plain": [
       "<Figure size 432x288 with 1 Axes>"
      ]
     },
     "metadata": {
      "needs_background": "light"
     },
     "output_type": "display_data"
    }
   ],
   "source": [
    "sns.countplot(x = \"medical_specialty_impu\",hue = \"readmitted\", data = diabetic_df)\n",
    "plt.xticks(rotation = 90)\n",
    "plt.show()"
   ]
  },
  {
   "cell_type": "markdown",
   "id": "8b508d72",
   "metadata": {},
   "source": [
    "##### num_lab_procedures"
   ]
  },
  {
   "cell_type": "markdown",
   "id": "6ef05ab3",
   "metadata": {},
   "source": [
    "This is integer and this will tell number of lab tests performed during hospital stay"
   ]
  },
  {
   "cell_type": "code",
   "execution_count": 116,
   "id": "00e83c37",
   "metadata": {},
   "outputs": [
    {
     "data": {
      "image/png": "[encoded data removed]",
      "text/plain": [
       "<Figure size 432x288 with 1 Axes>"
      ]
     },
     "metadata": {
      "needs_background": "light"
     },
     "output_type": "display_data"
    }
   ],
   "source": [
    "sns.countplot(x = \"num_lab_procedures\", data = diabetic_df)\n",
    "plt.show()"
   ]
  },
  {
   "cell_type": "code",
   "execution_count": 117,
   "id": "6f6d9240",
   "metadata": {},
   "outputs": [
    {
     "name": "stdout",
     "output_type": "stream",
     "text": [
      "Proportions of Column\n",
      "1     3208\n",
      "43    2804\n",
      "44    2496\n",
      "45    2376\n",
      "38    2213\n",
      "40    2201\n",
      "46    2189\n",
      "41    2117\n",
      "42    2113\n",
      "47    2106\n",
      "Name: num_lab_procedures, dtype: int64\n"
     ]
    }
   ],
   "source": [
    "print(\"Proportions of Column\")\n",
    "print(diabetic_df.num_lab_procedures.value_counts().head(10))"
   ]
  },
  {
   "cell_type": "code",
   "execution_count": 118,
   "id": "da042bc5",
   "metadata": {},
   "outputs": [
    {
     "data": {
      "image/png": "[encoded data removed]",
      "text/plain": [
       "<Figure size 720x360 with 1 Axes>"
      ]
     },
     "metadata": {
      "needs_background": "light"
     },
     "output_type": "display_data"
    }
   ],
   "source": [
    "fig = plt.figure(figsize=(10,5))\n",
    "\n",
    "#readmitted = 0\n",
    "ax = sns.kdeplot(diabetic_df.loc[(diabetic_df.readmitted == 0), \"num_lab_procedures\"],\n",
    "                 color = \"b\", shade = True,label = \"Not Readmitted\")\n",
    "\n",
    "#readmitted = 1\n",
    "ax = sns.kdeplot(diabetic_df.loc[(diabetic_df.readmitted == 1), \"num_lab_procedures\"],\n",
    "                 color = \"r\", shade = True, label = \"Readmitted\")\n",
    "\n",
    "ax.legend(loc=\"upper right\")\n",
    "\n",
    "ax.set_xlabel(\"Number of Lab Procedures\")\n",
    "ax.set_ylabel(\"Frequency\")\n",
    "ax.set_title(\"Number of Lab Procedures - Readmission\")\n",
    "\n",
    "plt.show()"
   ]
  },
  {
   "cell_type": "markdown",
   "id": "48c383ba",
   "metadata": {},
   "source": [
    "##### num_procedures"
   ]
  },
  {
   "cell_type": "markdown",
   "id": "1d0cee6b",
   "metadata": {},
   "source": [
    "Number of procedures (other than lab tests) performed during the encounter"
   ]
  },
  {
   "cell_type": "code",
   "execution_count": 119,
   "id": "30dba341",
   "metadata": {},
   "outputs": [
    {
     "data": {
      "image/png": "[encoded data removed]",
      "text/plain": [
       "<Figure size 432x288 with 1 Axes>"
      ]
     },
     "metadata": {
      "needs_background": "light"
     },
     "output_type": "display_data"
    }
   ],
   "source": [
    "sns.countplot(x = diabetic_df.num_procedures, order = diabetic_df.num_procedures.value_counts().index)\n",
    "plt.title(\"Distribution of Number of Procedures\")\n",
    "plt.show()"
   ]
  },
  {
   "cell_type": "code",
   "execution_count": 120,
   "id": "a8a630d7",
   "metadata": {},
   "outputs": [
    {
     "name": "stdout",
     "output_type": "stream",
     "text": [
      "Proportions of Values\n",
      "0    46652\n",
      "1    20742\n",
      "2    12717\n",
      "3     9443\n",
      "6     4954\n",
      "4     4180\n",
      "5     3078\n",
      "Name: num_procedures, dtype: int64\n"
     ]
    }
   ],
   "source": [
    "print(\"Proportions of Values\")\n",
    "print(diabetic_df.num_procedures.value_counts())"
   ]
  },
  {
   "cell_type": "code",
   "execution_count": 121,
   "id": "8fb63966",
   "metadata": {},
   "outputs": [
    {
     "data": {
      "image/png": "[encoded data removed]",
      "text/plain": [
       "<Figure size 432x288 with 1 Axes>"
      ]
     },
     "metadata": {
      "needs_background": "light"
     },
     "output_type": "display_data"
    }
   ],
   "source": [
    "sns.countplot(x = \"num_procedures\", hue = \"readmitted\", \n",
    "              data = diabetic_df, order = diabetic_df.num_procedures.value_counts().index)\n",
    "plt.show()"
   ]
  },
  {
   "cell_type": "markdown",
   "id": "5d904383",
   "metadata": {},
   "source": [
    "#####  glipizide                 "
   ]
  },
  {
   "cell_type": "code",
   "execution_count": 122,
   "id": "1204e5b4",
   "metadata": {},
   "outputs": [
    {
     "name": "stdout",
     "output_type": "stream",
     "text": [
      "No        89080\n",
      "Steady    11356\n",
      "Up          770\n",
      "Down        560\n",
      "Name: glipizide, dtype: int64\n",
      "No        91116\n",
      "Steady     9274\n",
      "Up          812\n",
      "Down        564\n",
      "Name: glyburide, dtype: int64\n",
      "No        101743\n",
      "Steady        23\n",
      "Name: tolbutamide, dtype: int64\n",
      "No        94438\n",
      "Steady     6976\n",
      "Up          234\n",
      "Down        118\n",
      "Name: pioglitazone, dtype: int64\n",
      "No        95401\n",
      "Steady     6100\n",
      "Up          178\n",
      "Down         87\n",
      "Name: rosiglitazone, dtype: int64\n",
      "No        101458\n",
      "Steady       295\n",
      "Up            10\n",
      "Down           3\n",
      "Name: acarbose, dtype: int64\n",
      "No        101728\n",
      "Steady        31\n",
      "Down           5\n",
      "Up             2\n",
      "Name: miglitol, dtype: int64\n",
      "No        101763\n",
      "Steady         3\n",
      "Name: troglitazone, dtype: int64\n",
      "No        101727\n",
      "Steady        38\n",
      "Up             1\n",
      "Name: tolazamide, dtype: int64\n",
      "No    101766\n",
      "Name: examide, dtype: int64\n"
     ]
    }
   ],
   "source": [
    "print(diabetic_df.glipizide.value_counts())\n",
    "print(diabetic_df.glyburide.value_counts())\n",
    "print(diabetic_df.tolbutamide.value_counts())\n",
    "print(diabetic_df.pioglitazone.value_counts())\n",
    "print(diabetic_df.rosiglitazone.value_counts())\n",
    "print(diabetic_df.acarbose.value_counts())\n",
    "print(diabetic_df.miglitol.value_counts())\n",
    "print(diabetic_df.troglitazone.value_counts())\n",
    "print(diabetic_df.tolazamide.value_counts())\n",
    "print(diabetic_df.examide.value_counts())"
   ]
  },
  {
   "cell_type": "code",
   "execution_count": 123,
   "id": "44a5fce7",
   "metadata": {},
   "outputs": [
    {
     "data": {
      "image/png": "[encoded data removed]",
      "text/plain": [
       "<Figure size 432x288 with 1 Axes>"
      ]
     },
     "metadata": {
      "needs_background": "light"
     },
     "output_type": "display_data"
    },
    {
     "name": "stdout",
     "output_type": "stream",
     "text": [
      "GLIPIZIDE\n",
      "No        89080\n",
      "Steady    11356\n",
      "Up          770\n",
      "Down        560\n",
      "Name: glipizide, dtype: int64\n"
     ]
    },
    {
     "data": {
      "image/png": "[encoded data removed]",
      "text/plain": [
       "<Figure size 432x288 with 1 Axes>"
      ]
     },
     "metadata": {
      "needs_background": "light"
     },
     "output_type": "display_data"
    },
    {
     "name": "stdout",
     "output_type": "stream",
     "text": [
      "GLYBURIDE\n",
      "No        91116\n",
      "Steady     9274\n",
      "Up          812\n",
      "Down        564\n",
      "Name: glyburide, dtype: int64\n"
     ]
    },
    {
     "data": {
      "image/png": "[encoded data removed]",
      "text/plain": [
       "<Figure size 432x288 with 1 Axes>"
      ]
     },
     "metadata": {
      "needs_background": "light"
     },
     "output_type": "display_data"
    },
    {
     "name": "stdout",
     "output_type": "stream",
     "text": [
      "TOLBUTAMIDE\n",
      "No        101743\n",
      "Steady        23\n",
      "Name: tolbutamide, dtype: int64\n"
     ]
    },
    {
     "data": {
      "image/png": "[encoded data removed]",
      "text/plain": [
       "<Figure size 432x288 with 1 Axes>"
      ]
     },
     "metadata": {
      "needs_background": "light"
     },
     "output_type": "display_data"
    },
    {
     "name": "stdout",
     "output_type": "stream",
     "text": [
      "PIOGLITAZONE\n",
      "No        94438\n",
      "Steady     6976\n",
      "Up          234\n",
      "Down        118\n",
      "Name: pioglitazone, dtype: int64\n"
     ]
    },
    {
     "data": {
      "image/png": "[encoded data removed]",
      "text/plain": [
       "<Figure size 432x288 with 1 Axes>"
      ]
     },
     "metadata": {
      "needs_background": "light"
     },
     "output_type": "display_data"
    },
    {
     "name": "stdout",
     "output_type": "stream",
     "text": [
      "ROSIGLITAZONE\n",
      "No        95401\n",
      "Steady     6100\n",
      "Up          178\n",
      "Down         87\n",
      "Name: rosiglitazone, dtype: int64\n"
     ]
    },
    {
     "data": {
      "image/png": "[encoded data removed]",
      "text/plain": [
       "<Figure size 432x288 with 1 Axes>"
      ]
     },
     "metadata": {
      "needs_background": "light"
     },
     "output_type": "display_data"
    },
    {
     "name": "stdout",
     "output_type": "stream",
     "text": [
      "ACARBOSE\n",
      "No        101458\n",
      "Steady       295\n",
      "Up            10\n",
      "Down           3\n",
      "Name: acarbose, dtype: int64\n"
     ]
    },
    {
     "data": {
      "image/png": "[encoded data removed]",
      "text/plain": [
       "<Figure size 432x288 with 1 Axes>"
      ]
     },
     "metadata": {
      "needs_background": "light"
     },
     "output_type": "display_data"
    },
    {
     "name": "stdout",
     "output_type": "stream",
     "text": [
      "MIGLITOL\n",
      "No        101728\n",
      "Steady        31\n",
      "Down           5\n",
      "Up             2\n",
      "Name: miglitol, dtype: int64\n"
     ]
    },
    {
     "data": {
      "image/png": "[encoded data removed]",
      "text/plain": [
       "<Figure size 432x288 with 1 Axes>"
      ]
     },
     "metadata": {
      "needs_background": "light"
     },
     "output_type": "display_data"
    },
    {
     "name": "stdout",
     "output_type": "stream",
     "text": [
      "TROGLITAZONE\n",
      "No        101763\n",
      "Steady         3\n",
      "Name: troglitazone, dtype: int64\n"
     ]
    },
    {
     "data": {
      "image/png": "[encoded data removed]",
      "text/plain": [
       "<Figure size 432x288 with 1 Axes>"
      ]
     },
     "metadata": {
      "needs_background": "light"
     },
     "output_type": "display_data"
    },
    {
     "name": "stdout",
     "output_type": "stream",
     "text": [
      "TOLAZAMIDE\n",
      "No        101727\n",
      "Steady        38\n",
      "Up             1\n",
      "Name: tolazamide, dtype: int64\n"
     ]
    },
    {
     "data": {
      "image/png": "[encoded data removed]",
      "text/plain": [
       "<Figure size 432x288 with 1 Axes>"
      ]
     },
     "metadata": {
      "needs_background": "light"
     },
     "output_type": "display_data"
    },
    {
     "name": "stdout",
     "output_type": "stream",
     "text": [
      "EXAMIDE\n",
      "No    101766\n",
      "Name: examide, dtype: int64\n"
     ]
    }
   ],
   "source": [
    "drug_cols = ['glipizide', 'glyburide', 'tolbutamide',\n",
    "             'pioglitazone', 'rosiglitazone', 'acarbose', 'miglitol', 'troglitazone',\n",
    "             'tolazamide', 'examide']\n",
    "\n",
    "def explore_drug(drugs):\n",
    "\n",
    "  for drug in drugs:\n",
    "    sns.countplot(x = drug, hue = \"readmitted\", data = diabetic_df)\n",
    "    plt.show()\n",
    "    print(drug.upper())\n",
    "    print(diabetic_df[f\"{drug}\"].value_counts())\n",
    "    \n",
    "\n",
    "explore_drug(drug_cols)"
   ]
  },
  {
   "cell_type": "code",
   "execution_count": 124,
   "id": "60dd57fe",
   "metadata": {},
   "outputs": [],
   "source": [
    "balaji_cols = ['discharge_disposition_id', 'admission_source_id', 'time_in_hospital', 'payer_code', 'payer_code_impu', \n",
    "               'medical_specialty', 'medical_specialty_impu', 'num_lab_procedures', 'num_procedures', 'glipizide', 'glyburide', 'tolbutamide',\n",
    "               'pioglitazone', 'rosiglitazone', 'acarbose', 'miglitol', 'troglitazone',\n",
    "               'tolazamide', 'examide', 'readmitted']"
   ]
  },
  {
   "cell_type": "code",
   "execution_count": 125,
   "id": "620bd2f1",
   "metadata": {},
   "outputs": [],
   "source": [
    "balaji_df = diabetic_df[balaji_cols]"
   ]
  },
  {
   "cell_type": "code",
   "execution_count": 126,
   "id": "6c71c1ee",
   "metadata": {},
   "outputs": [],
   "source": [
    "## removing variables \"payer_code\" and \"medical_specialty\" with large number of missing values and also not going to impact \n",
    "## target \"readmitted\"\n",
    "\n",
    "balaji_df = balaji_df.drop(['payer_code', 'medical_specialty'], axis = 1)"
   ]
  },
  {
   "cell_type": "code",
   "execution_count": 127,
   "id": "bd7dc651",
   "metadata": {},
   "outputs": [],
   "source": [
    "## remove all variables with less than 6 percentage variance\n",
    "\n",
    "balaji_df = balaji_df.drop(['examide', 'glyburide', 'tolbutamide', 'pioglitazone', 'rosiglitazone',\n",
    "                               'acarbose', 'miglitol', 'troglitazone', ], axis = 1)"
   ]
  },
  {
   "cell_type": "code",
   "execution_count": 128,
   "id": "b1e77b6e",
   "metadata": {},
   "outputs": [
    {
     "data": {
      "text/html": [
       "<div>\n",
       "<style scoped>\n",
       "    .dataframe tbody tr th:only-of-type {\n",
       "        vertical-align: middle;\n",
       "    }\n",
       "\n",
       "    .dataframe tbody tr th {\n",
       "        vertical-align: top;\n",
       "    }\n",
       "\n",
       "    .dataframe thead th {\n",
       "        text-align: right;\n",
       "    }\n",
       "</style>\n",
       "<table border=\"1\" class=\"dataframe\">\n",
       "  <thead>\n",
       "    <tr style=\"text-align: right;\">\n",
       "      <th></th>\n",
       "      <th>discharge_disposition_id</th>\n",
       "      <th>admission_source_id</th>\n",
       "      <th>time_in_hospital</th>\n",
       "      <th>payer_code_impu</th>\n",
       "      <th>medical_specialty_impu</th>\n",
       "      <th>num_lab_procedures</th>\n",
       "      <th>num_procedures</th>\n",
       "      <th>glipizide</th>\n",
       "      <th>tolazamide</th>\n",
       "      <th>readmitted</th>\n",
       "    </tr>\n",
       "  </thead>\n",
       "  <tbody>\n",
       "    <tr>\n",
       "      <th>0</th>\n",
       "      <td>Other</td>\n",
       "      <td>Referral</td>\n",
       "      <td>1</td>\n",
       "      <td>CP</td>\n",
       "      <td>Other</td>\n",
       "      <td>41</td>\n",
       "      <td>0</td>\n",
       "      <td>No</td>\n",
       "      <td>No</td>\n",
       "      <td>0</td>\n",
       "    </tr>\n",
       "    <tr>\n",
       "      <th>1</th>\n",
       "      <td>Home</td>\n",
       "      <td>Emergency</td>\n",
       "      <td>3</td>\n",
       "      <td>MC</td>\n",
       "      <td>Radiologist</td>\n",
       "      <td>59</td>\n",
       "      <td>0</td>\n",
       "      <td>No</td>\n",
       "      <td>No</td>\n",
       "      <td>0</td>\n",
       "    </tr>\n",
       "    <tr>\n",
       "      <th>2</th>\n",
       "      <td>Home</td>\n",
       "      <td>Emergency</td>\n",
       "      <td>2</td>\n",
       "      <td>CH</td>\n",
       "      <td>Family/GeneralPractice</td>\n",
       "      <td>11</td>\n",
       "      <td>5</td>\n",
       "      <td>Steady</td>\n",
       "      <td>No</td>\n",
       "      <td>0</td>\n",
       "    </tr>\n",
       "    <tr>\n",
       "      <th>3</th>\n",
       "      <td>Home</td>\n",
       "      <td>Emergency</td>\n",
       "      <td>2</td>\n",
       "      <td>BC</td>\n",
       "      <td>Surgery-General</td>\n",
       "      <td>44</td>\n",
       "      <td>1</td>\n",
       "      <td>No</td>\n",
       "      <td>No</td>\n",
       "      <td>0</td>\n",
       "    </tr>\n",
       "    <tr>\n",
       "      <th>4</th>\n",
       "      <td>Home</td>\n",
       "      <td>Emergency</td>\n",
       "      <td>1</td>\n",
       "      <td>MC</td>\n",
       "      <td>Cardiology</td>\n",
       "      <td>51</td>\n",
       "      <td>0</td>\n",
       "      <td>Steady</td>\n",
       "      <td>No</td>\n",
       "      <td>0</td>\n",
       "    </tr>\n",
       "  </tbody>\n",
       "</table>\n",
       "</div>"
      ],
      "text/plain": [
       "  discharge_disposition_id admission_source_id  time_in_hospital  \\\n",
       "0                    Other            Referral                 1   \n",
       "1                     Home           Emergency                 3   \n",
       "2                     Home           Emergency                 2   \n",
       "3                     Home           Emergency                 2   \n",
       "4                     Home           Emergency                 1   \n",
       "\n",
       "  payer_code_impu  medical_specialty_impu  num_lab_procedures  num_procedures  \\\n",
       "0              CP                   Other                  41               0   \n",
       "1              MC             Radiologist                  59               0   \n",
       "2              CH  Family/GeneralPractice                  11               5   \n",
       "3              BC         Surgery-General                  44               1   \n",
       "4              MC              Cardiology                  51               0   \n",
       "\n",
       "  glipizide tolazamide  readmitted  \n",
       "0        No         No           0  \n",
       "1        No         No           0  \n",
       "2    Steady         No           0  \n",
       "3        No         No           0  \n",
       "4    Steady         No           0  "
      ]
     },
     "execution_count": 128,
     "metadata": {},
     "output_type": "execute_result"
    }
   ],
   "source": [
    "balaji_df.head()"
   ]
  },
  {
   "cell_type": "markdown",
   "id": "3a57dbc1",
   "metadata": {},
   "source": [
    "Convert the categorical variables using onehot encoding\n"
   ]
  },
  {
   "cell_type": "code",
   "execution_count": 129,
   "id": "4c1236e9",
   "metadata": {},
   "outputs": [],
   "source": [
    "balaji_df_cleaned = pd.get_dummies(balaji_df, columns=['discharge_disposition_id', 'admission_source_id', 'payer_code_impu', \n",
    "                                                       'medical_specialty_impu', 'glipizide', 'tolazamide'],\n",
    "                        prefix=[\"Discharged_to\", \"Admission_source\",\"payer_code\", \"medical_specialty\", \"glipizide\", \"tolazamide\"] )"
   ]
  },
  {
   "cell_type": "code",
   "execution_count": 130,
   "id": "f89ea85f",
   "metadata": {},
   "outputs": [
    {
     "data": {
      "text/html": [
       "<div>\n",
       "<style scoped>\n",
       "    .dataframe tbody tr th:only-of-type {\n",
       "        vertical-align: middle;\n",
       "    }\n",
       "\n",
       "    .dataframe tbody tr th {\n",
       "        vertical-align: top;\n",
       "    }\n",
       "\n",
       "    .dataframe thead th {\n",
       "        text-align: right;\n",
       "    }\n",
       "</style>\n",
       "<table border=\"1\" class=\"dataframe\">\n",
       "  <thead>\n",
       "    <tr style=\"text-align: right;\">\n",
       "      <th></th>\n",
       "      <th>time_in_hospital</th>\n",
       "      <th>num_lab_procedures</th>\n",
       "      <th>num_procedures</th>\n",
       "      <th>readmitted</th>\n",
       "      <th>Discharged_to_Home</th>\n",
       "      <th>Discharged_to_Other</th>\n",
       "      <th>Admission_source_Emergency</th>\n",
       "      <th>Admission_source_Other</th>\n",
       "      <th>Admission_source_Referral</th>\n",
       "      <th>payer_code_BC</th>\n",
       "      <th>...</th>\n",
       "      <th>medical_specialty_Pulmonology</th>\n",
       "      <th>medical_specialty_Radiologist</th>\n",
       "      <th>medical_specialty_Surgery-General</th>\n",
       "      <th>glipizide_Down</th>\n",
       "      <th>glipizide_No</th>\n",
       "      <th>glipizide_Steady</th>\n",
       "      <th>glipizide_Up</th>\n",
       "      <th>tolazamide_No</th>\n",
       "      <th>tolazamide_Steady</th>\n",
       "      <th>tolazamide_Up</th>\n",
       "    </tr>\n",
       "  </thead>\n",
       "  <tbody>\n",
       "    <tr>\n",
       "      <th>0</th>\n",
       "      <td>1</td>\n",
       "      <td>41</td>\n",
       "      <td>0</td>\n",
       "      <td>0</td>\n",
       "      <td>0</td>\n",
       "      <td>1</td>\n",
       "      <td>0</td>\n",
       "      <td>0</td>\n",
       "      <td>1</td>\n",
       "      <td>0</td>\n",
       "      <td>...</td>\n",
       "      <td>0</td>\n",
       "      <td>0</td>\n",
       "      <td>0</td>\n",
       "      <td>0</td>\n",
       "      <td>1</td>\n",
       "      <td>0</td>\n",
       "      <td>0</td>\n",
       "      <td>1</td>\n",
       "      <td>0</td>\n",
       "      <td>0</td>\n",
       "    </tr>\n",
       "    <tr>\n",
       "      <th>1</th>\n",
       "      <td>3</td>\n",
       "      <td>59</td>\n",
       "      <td>0</td>\n",
       "      <td>0</td>\n",
       "      <td>1</td>\n",
       "      <td>0</td>\n",
       "      <td>1</td>\n",
       "      <td>0</td>\n",
       "      <td>0</td>\n",
       "      <td>0</td>\n",
       "      <td>...</td>\n",
       "      <td>0</td>\n",
       "      <td>1</td>\n",
       "      <td>0</td>\n",
       "      <td>0</td>\n",
       "      <td>1</td>\n",
       "      <td>0</td>\n",
       "      <td>0</td>\n",
       "      <td>1</td>\n",
       "      <td>0</td>\n",
       "      <td>0</td>\n",
       "    </tr>\n",
       "    <tr>\n",
       "      <th>2</th>\n",
       "      <td>2</td>\n",
       "      <td>11</td>\n",
       "      <td>5</td>\n",
       "      <td>0</td>\n",
       "      <td>1</td>\n",
       "      <td>0</td>\n",
       "      <td>1</td>\n",
       "      <td>0</td>\n",
       "      <td>0</td>\n",
       "      <td>0</td>\n",
       "      <td>...</td>\n",
       "      <td>0</td>\n",
       "      <td>0</td>\n",
       "      <td>0</td>\n",
       "      <td>0</td>\n",
       "      <td>0</td>\n",
       "      <td>1</td>\n",
       "      <td>0</td>\n",
       "      <td>1</td>\n",
       "      <td>0</td>\n",
       "      <td>0</td>\n",
       "    </tr>\n",
       "    <tr>\n",
       "      <th>3</th>\n",
       "      <td>2</td>\n",
       "      <td>44</td>\n",
       "      <td>1</td>\n",
       "      <td>0</td>\n",
       "      <td>1</td>\n",
       "      <td>0</td>\n",
       "      <td>1</td>\n",
       "      <td>0</td>\n",
       "      <td>0</td>\n",
       "      <td>1</td>\n",
       "      <td>...</td>\n",
       "      <td>0</td>\n",
       "      <td>0</td>\n",
       "      <td>1</td>\n",
       "      <td>0</td>\n",
       "      <td>1</td>\n",
       "      <td>0</td>\n",
       "      <td>0</td>\n",
       "      <td>1</td>\n",
       "      <td>0</td>\n",
       "      <td>0</td>\n",
       "    </tr>\n",
       "    <tr>\n",
       "      <th>4</th>\n",
       "      <td>1</td>\n",
       "      <td>51</td>\n",
       "      <td>0</td>\n",
       "      <td>0</td>\n",
       "      <td>1</td>\n",
       "      <td>0</td>\n",
       "      <td>1</td>\n",
       "      <td>0</td>\n",
       "      <td>0</td>\n",
       "      <td>0</td>\n",
       "      <td>...</td>\n",
       "      <td>0</td>\n",
       "      <td>0</td>\n",
       "      <td>0</td>\n",
       "      <td>0</td>\n",
       "      <td>0</td>\n",
       "      <td>1</td>\n",
       "      <td>0</td>\n",
       "      <td>1</td>\n",
       "      <td>0</td>\n",
       "      <td>0</td>\n",
       "    </tr>\n",
       "    <tr>\n",
       "      <th>...</th>\n",
       "      <td>...</td>\n",
       "      <td>...</td>\n",
       "      <td>...</td>\n",
       "      <td>...</td>\n",
       "      <td>...</td>\n",
       "      <td>...</td>\n",
       "      <td>...</td>\n",
       "      <td>...</td>\n",
       "      <td>...</td>\n",
       "      <td>...</td>\n",
       "      <td>...</td>\n",
       "      <td>...</td>\n",
       "      <td>...</td>\n",
       "      <td>...</td>\n",
       "      <td>...</td>\n",
       "      <td>...</td>\n",
       "      <td>...</td>\n",
       "      <td>...</td>\n",
       "      <td>...</td>\n",
       "      <td>...</td>\n",
       "      <td>...</td>\n",
       "    </tr>\n",
       "    <tr>\n",
       "      <th>101761</th>\n",
       "      <td>3</td>\n",
       "      <td>51</td>\n",
       "      <td>0</td>\n",
       "      <td>0</td>\n",
       "      <td>0</td>\n",
       "      <td>1</td>\n",
       "      <td>1</td>\n",
       "      <td>0</td>\n",
       "      <td>0</td>\n",
       "      <td>0</td>\n",
       "      <td>...</td>\n",
       "      <td>0</td>\n",
       "      <td>0</td>\n",
       "      <td>0</td>\n",
       "      <td>0</td>\n",
       "      <td>1</td>\n",
       "      <td>0</td>\n",
       "      <td>0</td>\n",
       "      <td>1</td>\n",
       "      <td>0</td>\n",
       "      <td>0</td>\n",
       "    </tr>\n",
       "    <tr>\n",
       "      <th>101762</th>\n",
       "      <td>5</td>\n",
       "      <td>33</td>\n",
       "      <td>3</td>\n",
       "      <td>0</td>\n",
       "      <td>0</td>\n",
       "      <td>1</td>\n",
       "      <td>0</td>\n",
       "      <td>1</td>\n",
       "      <td>0</td>\n",
       "      <td>0</td>\n",
       "      <td>...</td>\n",
       "      <td>0</td>\n",
       "      <td>0</td>\n",
       "      <td>0</td>\n",
       "      <td>0</td>\n",
       "      <td>1</td>\n",
       "      <td>0</td>\n",
       "      <td>0</td>\n",
       "      <td>1</td>\n",
       "      <td>0</td>\n",
       "      <td>0</td>\n",
       "    </tr>\n",
       "    <tr>\n",
       "      <th>101763</th>\n",
       "      <td>1</td>\n",
       "      <td>53</td>\n",
       "      <td>0</td>\n",
       "      <td>0</td>\n",
       "      <td>1</td>\n",
       "      <td>0</td>\n",
       "      <td>1</td>\n",
       "      <td>0</td>\n",
       "      <td>0</td>\n",
       "      <td>0</td>\n",
       "      <td>...</td>\n",
       "      <td>1</td>\n",
       "      <td>0</td>\n",
       "      <td>0</td>\n",
       "      <td>0</td>\n",
       "      <td>1</td>\n",
       "      <td>0</td>\n",
       "      <td>0</td>\n",
       "      <td>1</td>\n",
       "      <td>0</td>\n",
       "      <td>0</td>\n",
       "    </tr>\n",
       "    <tr>\n",
       "      <th>101764</th>\n",
       "      <td>10</td>\n",
       "      <td>45</td>\n",
       "      <td>2</td>\n",
       "      <td>0</td>\n",
       "      <td>0</td>\n",
       "      <td>1</td>\n",
       "      <td>1</td>\n",
       "      <td>0</td>\n",
       "      <td>0</td>\n",
       "      <td>0</td>\n",
       "      <td>...</td>\n",
       "      <td>0</td>\n",
       "      <td>0</td>\n",
       "      <td>1</td>\n",
       "      <td>0</td>\n",
       "      <td>0</td>\n",
       "      <td>1</td>\n",
       "      <td>0</td>\n",
       "      <td>1</td>\n",
       "      <td>0</td>\n",
       "      <td>0</td>\n",
       "    </tr>\n",
       "    <tr>\n",
       "      <th>101765</th>\n",
       "      <td>6</td>\n",
       "      <td>13</td>\n",
       "      <td>3</td>\n",
       "      <td>0</td>\n",
       "      <td>1</td>\n",
       "      <td>0</td>\n",
       "      <td>1</td>\n",
       "      <td>0</td>\n",
       "      <td>0</td>\n",
       "      <td>0</td>\n",
       "      <td>...</td>\n",
       "      <td>0</td>\n",
       "      <td>0</td>\n",
       "      <td>0</td>\n",
       "      <td>0</td>\n",
       "      <td>1</td>\n",
       "      <td>0</td>\n",
       "      <td>0</td>\n",
       "      <td>1</td>\n",
       "      <td>0</td>\n",
       "      <td>0</td>\n",
       "    </tr>\n",
       "  </tbody>\n",
       "</table>\n",
       "<p>101766 rows × 42 columns</p>\n",
       "</div>"
      ],
      "text/plain": [
       "        time_in_hospital  num_lab_procedures  num_procedures  readmitted  \\\n",
       "0                      1                  41               0           0   \n",
       "1                      3                  59               0           0   \n",
       "2                      2                  11               5           0   \n",
       "3                      2                  44               1           0   \n",
       "4                      1                  51               0           0   \n",
       "...                  ...                 ...             ...         ...   \n",
       "101761                 3                  51               0           0   \n",
       "101762                 5                  33               3           0   \n",
       "101763                 1                  53               0           0   \n",
       "101764                10                  45               2           0   \n",
       "101765                 6                  13               3           0   \n",
       "\n",
       "        Discharged_to_Home  Discharged_to_Other  Admission_source_Emergency  \\\n",
       "0                        0                    1                           0   \n",
       "1                        1                    0                           1   \n",
       "2                        1                    0                           1   \n",
       "3                        1                    0                           1   \n",
       "4                        1                    0                           1   \n",
       "...                    ...                  ...                         ...   \n",
       "101761                   0                    1                           1   \n",
       "101762                   0                    1                           0   \n",
       "101763                   1                    0                           1   \n",
       "101764                   0                    1                           1   \n",
       "101765                   1                    0                           1   \n",
       "\n",
       "        Admission_source_Other  Admission_source_Referral  payer_code_BC  ...  \\\n",
       "0                            0                          1              0  ...   \n",
       "1                            0                          0              0  ...   \n",
       "2                            0                          0              0  ...   \n",
       "3                            0                          0              1  ...   \n",
       "4                            0                          0              0  ...   \n",
       "...                        ...                        ...            ...  ...   \n",
       "101761                       0                          0              0  ...   \n",
       "101762                       1                          0              0  ...   \n",
       "101763                       0                          0              0  ...   \n",
       "101764                       0                          0              0  ...   \n",
       "101765                       0                          0              0  ...   \n",
       "\n",
       "        medical_specialty_Pulmonology  medical_specialty_Radiologist  \\\n",
       "0                                   0                              0   \n",
       "1                                   0                              1   \n",
       "2                                   0                              0   \n",
       "3                                   0                              0   \n",
       "4                                   0                              0   \n",
       "...                               ...                            ...   \n",
       "101761                              0                              0   \n",
       "101762                              0                              0   \n",
       "101763                              1                              0   \n",
       "101764                              0                              0   \n",
       "101765                              0                              0   \n",
       "\n",
       "        medical_specialty_Surgery-General  glipizide_Down  glipizide_No  \\\n",
       "0                                       0               0             1   \n",
       "1                                       0               0             1   \n",
       "2                                       0               0             0   \n",
       "3                                       1               0             1   \n",
       "4                                       0               0             0   \n",
       "...                                   ...             ...           ...   \n",
       "101761                                  0               0             1   \n",
       "101762                                  0               0             1   \n",
       "101763                                  0               0             1   \n",
       "101764                                  1               0             0   \n",
       "101765                                  0               0             1   \n",
       "\n",
       "        glipizide_Steady  glipizide_Up  tolazamide_No  tolazamide_Steady  \\\n",
       "0                      0             0              1                  0   \n",
       "1                      0             0              1                  0   \n",
       "2                      1             0              1                  0   \n",
       "3                      0             0              1                  0   \n",
       "4                      1             0              1                  0   \n",
       "...                  ...           ...            ...                ...   \n",
       "101761                 0             0              1                  0   \n",
       "101762                 0             0              1                  0   \n",
       "101763                 0             0              1                  0   \n",
       "101764                 1             0              1                  0   \n",
       "101765                 0             0              1                  0   \n",
       "\n",
       "        tolazamide_Up  \n",
       "0                   0  \n",
       "1                   0  \n",
       "2                   0  \n",
       "3                   0  \n",
       "4                   0  \n",
       "...               ...  \n",
       "101761              0  \n",
       "101762              0  \n",
       "101763              0  \n",
       "101764              0  \n",
       "101765              0  \n",
       "\n",
       "[101766 rows x 42 columns]"
      ]
     },
     "execution_count": 130,
     "metadata": {},
     "output_type": "execute_result"
    }
   ],
   "source": [
    "balaji_df_cleaned"
   ]
  },
  {
   "cell_type": "code",
   "execution_count": 131,
   "id": "bd8c75ec",
   "metadata": {},
   "outputs": [],
   "source": [
    "# Create X (Independent variables) and y(target) from the dataframe with all variables\n",
    "X = balaji_df_cleaned.drop(['readmitted'],axis=1)\n",
    "ind_columns = balaji_df_cleaned.drop('readmitted',axis=1).columns\n",
    "y = balaji_df_cleaned['readmitted']"
   ]
  },
  {
   "cell_type": "code",
   "execution_count": 132,
   "id": "1f8efc88",
   "metadata": {},
   "outputs": [],
   "source": [
    "# Normalize the data\n",
    "scaler = StandardScaler()\n",
    "X_scaled = scaler.fit_transform(X)"
   ]
  },
  {
   "cell_type": "code",
   "execution_count": 133,
   "id": "8b3c1f0c",
   "metadata": {},
   "outputs": [],
   "source": [
    "# cross validation with k=10\n",
    "cv = KFold(n_splits=10, random_state=1234, shuffle=True)"
   ]
  },
  {
   "cell_type": "markdown",
   "id": "db3970f1",
   "metadata": {},
   "source": [
    "#### Model 1: Logistic regression"
   ]
  },
  {
   "cell_type": "code",
   "execution_count": 134,
   "id": "c406a5be",
   "metadata": {},
   "outputs": [],
   "source": [
    "# Model Metrics\n",
    "from sklearn.model_selection import cross_validate\n",
    "from sklearn.model_selection import cross_val_predict\n",
    "from sklearn.metrics import classification_report\n",
    "\n",
    "def displayModel_metrics(best_model, grid_model, features, target, cv):\n",
    "    metrics = cross_validate(best_model, features, y=target, cv=cv, \n",
    "                             scoring=['accuracy','precision','recall'], return_train_score=True) \n",
    "    \n",
    "    y_predict = cross_val_predict(best_model, features, target, cv=cv)\n",
    "\n",
    "    print('\\nBest Accuracy with Grid Search            : {:.3f}'.format(grid_model.best_score_))\n",
    "    print('\\nTraining data Metrics')\n",
    "    print('\\n     The average accuraccy : {:.3f}'.format(metrics['train_accuracy'].mean()))\n",
    "    print('     The average precision : {:.3f}'.format(metrics['train_precision'].mean()))\n",
    "    print('     The average recall    : {:.3f}'.format(metrics['train_recall'].mean()))\n",
    "\n",
    "    print('\\nTest data Metrics')\n",
    "    print('\\n     The average accuracy  : {:.3f}'.format(metrics['test_accuracy'].mean()))\n",
    "    print('     The average precision : {:.3f}'.format(metrics['test_precision'].mean()))\n",
    "    print('     The average  recall   : {:.3f}'.format(metrics['test_recall'].mean()))\n",
    "    \n",
    "    matrix = classification_report(target, y_predict, labels=[1,0])\n",
    "    print('\\nClassification report\\n')\n",
    "    print(matrix)"
   ]
  },
  {
   "cell_type": "code",
   "execution_count": 135,
   "id": "876aef71",
   "metadata": {},
   "outputs": [],
   "source": [
    "# Reference https://github.com/jakemdrew/DataMiningNotebooks/blob/master/06.%20Classification.ipynb\n",
    "# ROC curve plot\n",
    "import seaborn as sns\n",
    "from sklearn.preprocessing import label_binarize\n",
    "from sklearn import metrics as mt\n",
    "\n",
    "def roc_curve_plot(model_fit, features, target):\n",
    "\n",
    "    sns.set_palette(\"dark\")\n",
    "\n",
    "    yhat_score = model_fit.predict_proba(features)\n",
    "\n",
    "    # Compute ROC curve for a subset of interesting classes\n",
    "    fpr = dict()\n",
    "    tpr = dict()\n",
    "    roc_auc = dict()\n",
    "    for i in np.unique(target):\n",
    "        fpr[i], tpr[i], _ = mt.roc_curve(y, yhat_score[:, i], pos_label=i)\n",
    "        roc_auc[i] = mt.auc(fpr[i], tpr[i])\n",
    "\n",
    "    for i in np.unique(target):\n",
    "        plt.plot(fpr[i], tpr[i], label= ('class %d (area = %0.2f)' % (i, roc_auc[i])))\n",
    "    plt.plot([0, 1], [0, 1], color='navy', lw=2, linestyle='--')\n",
    "\n",
    "    plt.legend(loc=\"lower right\")  \n",
    "    plt.title('Receiver operating characteristic')\n",
    "    plt.xlabel('False Positive Rate')\n",
    "    plt.ylabel('True Positive Rate')\n",
    "    plt.show()"
   ]
  },
  {
   "cell_type": "markdown",
   "id": "06a9a0af",
   "metadata": {},
   "source": [
    "GridSearch Parameters:\n",
    "\n",
    "penalty: Used to specify the norm used in the penalization.  \n",
    "\n",
    "C: Inverse of regularization strength\n",
    "\n",
    "max_iter: Maximum number of iterations taken for the solvers to converge. \n",
    "\n",
    "class_weight: The “balanced” mode uses the values of y to automatically adjust weights inversely proportional to \n",
    "class frequencies in the input data .\n",
    "\n",
    "solver:Algorithm to use in the optimization problem"
   ]
  },
  {
   "cell_type": "code",
   "execution_count": 136,
   "id": "2d976435",
   "metadata": {},
   "outputs": [],
   "source": [
    "from sklearn.model_selection import GridSearchCV\n",
    "from sklearn.linear_model import LogisticRegression\n",
    "LR = LogisticRegression()\n",
    "\n",
    "# define parameters\n",
    "penalty_LR = ['l1', 'l2', 'elasticnet', 'none'] \n",
    "#penalty_LR = [ 'l2'] \n",
    "C_LR = [0.001, 0.01, 0.1, 1, 10, 100]  \n",
    "max_iter_LR = [500,1000, 1500]\n",
    "#max_iter_LR = [500]\n",
    "class_weight_LR = ['balanced']\n",
    "#solver_LR = ['newton-cg', 'lbfgs', 'liblinear', 'sag', 'saga']\n",
    "solver_LR = ['lbfgs', 'liblinear']\n",
    "\n",
    "# define grid search\n",
    "param_grid_LR = dict(penalty=penalty_LR, C=C_LR, max_iter=max_iter_LR, class_weight=class_weight_LR, solver=solver_LR)\n",
    "\n",
    "grid_search_LR = GridSearchCV(estimator=LR, param_grid=param_grid_LR, n_jobs=10, cv=cv, \n",
    "                              scoring='accuracy',error_score=0, verbose=1)"
   ]
  },
  {
   "cell_type": "code",
   "execution_count": 137,
   "id": "5e96a7e1",
   "metadata": {},
   "outputs": [
    {
     "name": "stdout",
     "output_type": "stream",
     "text": [
      "Fitting 10 folds for each of 144 candidates, totalling 1440 fits\n",
      "Best: 0.644026 using {'C': 0.001, 'class_weight': 'balanced', 'max_iter': 500, 'penalty': 'l1', 'solver': 'liblinear'}\n",
      "0.000000 (0.000000) with: {'C': 0.001, 'class_weight': 'balanced', 'max_iter': 500, 'penalty': 'l1', 'solver': 'lbfgs'}\n",
      "0.644026 (0.006051) with: {'C': 0.001, 'class_weight': 'balanced', 'max_iter': 500, 'penalty': 'l1', 'solver': 'liblinear'}\n",
      "0.611766 (0.005328) with: {'C': 0.001, 'class_weight': 'balanced', 'max_iter': 500, 'penalty': 'l2', 'solver': 'lbfgs'}\n",
      "0.610882 (0.005331) with: {'C': 0.001, 'class_weight': 'balanced', 'max_iter': 500, 'penalty': 'l2', 'solver': 'liblinear'}\n",
      "0.000000 (0.000000) with: {'C': 0.001, 'class_weight': 'balanced', 'max_iter': 500, 'penalty': 'elasticnet', 'solver': 'lbfgs'}\n",
      "0.000000 (0.000000) with: {'C': 0.001, 'class_weight': 'balanced', 'max_iter': 500, 'penalty': 'elasticnet', 'solver': 'liblinear'}\n",
      "0.610489 (0.005259) with: {'C': 0.001, 'class_weight': 'balanced', 'max_iter': 500, 'penalty': 'none', 'solver': 'lbfgs'}\n",
      "0.000000 (0.000000) with: {'C': 0.001, 'class_weight': 'balanced', 'max_iter': 500, 'penalty': 'none', 'solver': 'liblinear'}\n",
      "0.000000 (0.000000) with: {'C': 0.001, 'class_weight': 'balanced', 'max_iter': 1000, 'penalty': 'l1', 'solver': 'lbfgs'}\n",
      "0.644026 (0.006051) with: {'C': 0.001, 'class_weight': 'balanced', 'max_iter': 1000, 'penalty': 'l1', 'solver': 'liblinear'}\n",
      "0.611766 (0.005328) with: {'C': 0.001, 'class_weight': 'balanced', 'max_iter': 1000, 'penalty': 'l2', 'solver': 'lbfgs'}\n",
      "0.610882 (0.005331) with: {'C': 0.001, 'class_weight': 'balanced', 'max_iter': 1000, 'penalty': 'l2', 'solver': 'liblinear'}\n",
      "0.000000 (0.000000) with: {'C': 0.001, 'class_weight': 'balanced', 'max_iter': 1000, 'penalty': 'elasticnet', 'solver': 'lbfgs'}\n",
      "0.000000 (0.000000) with: {'C': 0.001, 'class_weight': 'balanced', 'max_iter': 1000, 'penalty': 'elasticnet', 'solver': 'liblinear'}\n",
      "0.610489 (0.005259) with: {'C': 0.001, 'class_weight': 'balanced', 'max_iter': 1000, 'penalty': 'none', 'solver': 'lbfgs'}\n",
      "0.000000 (0.000000) with: {'C': 0.001, 'class_weight': 'balanced', 'max_iter': 1000, 'penalty': 'none', 'solver': 'liblinear'}\n",
      "0.000000 (0.000000) with: {'C': 0.001, 'class_weight': 'balanced', 'max_iter': 1500, 'penalty': 'l1', 'solver': 'lbfgs'}\n",
      "0.644026 (0.006051) with: {'C': 0.001, 'class_weight': 'balanced', 'max_iter': 1500, 'penalty': 'l1', 'solver': 'liblinear'}\n",
      "0.611766 (0.005328) with: {'C': 0.001, 'class_weight': 'balanced', 'max_iter': 1500, 'penalty': 'l2', 'solver': 'lbfgs'}\n",
      "0.610882 (0.005331) with: {'C': 0.001, 'class_weight': 'balanced', 'max_iter': 1500, 'penalty': 'l2', 'solver': 'liblinear'}\n",
      "0.000000 (0.000000) with: {'C': 0.001, 'class_weight': 'balanced', 'max_iter': 1500, 'penalty': 'elasticnet', 'solver': 'lbfgs'}\n",
      "0.000000 (0.000000) with: {'C': 0.001, 'class_weight': 'balanced', 'max_iter': 1500, 'penalty': 'elasticnet', 'solver': 'liblinear'}\n",
      "0.610489 (0.005259) with: {'C': 0.001, 'class_weight': 'balanced', 'max_iter': 1500, 'penalty': 'none', 'solver': 'lbfgs'}\n",
      "0.000000 (0.000000) with: {'C': 0.001, 'class_weight': 'balanced', 'max_iter': 1500, 'penalty': 'none', 'solver': 'liblinear'}\n",
      "0.000000 (0.000000) with: {'C': 0.01, 'class_weight': 'balanced', 'max_iter': 500, 'penalty': 'l1', 'solver': 'lbfgs'}\n",
      "0.612965 (0.004979) with: {'C': 0.01, 'class_weight': 'balanced', 'max_iter': 500, 'penalty': 'l1', 'solver': 'liblinear'}\n",
      "0.610646 (0.005279) with: {'C': 0.01, 'class_weight': 'balanced', 'max_iter': 500, 'penalty': 'l2', 'solver': 'lbfgs'}\n",
      "0.610577 (0.005283) with: {'C': 0.01, 'class_weight': 'balanced', 'max_iter': 500, 'penalty': 'l2', 'solver': 'liblinear'}\n",
      "0.000000 (0.000000) with: {'C': 0.01, 'class_weight': 'balanced', 'max_iter': 500, 'penalty': 'elasticnet', 'solver': 'lbfgs'}\n",
      "0.000000 (0.000000) with: {'C': 0.01, 'class_weight': 'balanced', 'max_iter': 500, 'penalty': 'elasticnet', 'solver': 'liblinear'}\n",
      "0.610489 (0.005259) with: {'C': 0.01, 'class_weight': 'balanced', 'max_iter': 500, 'penalty': 'none', 'solver': 'lbfgs'}\n",
      "0.000000 (0.000000) with: {'C': 0.01, 'class_weight': 'balanced', 'max_iter': 500, 'penalty': 'none', 'solver': 'liblinear'}\n",
      "0.000000 (0.000000) with: {'C': 0.01, 'class_weight': 'balanced', 'max_iter': 1000, 'penalty': 'l1', 'solver': 'lbfgs'}\n",
      "0.612965 (0.004979) with: {'C': 0.01, 'class_weight': 'balanced', 'max_iter': 1000, 'penalty': 'l1', 'solver': 'liblinear'}\n",
      "0.610646 (0.005279) with: {'C': 0.01, 'class_weight': 'balanced', 'max_iter': 1000, 'penalty': 'l2', 'solver': 'lbfgs'}\n",
      "0.610577 (0.005283) with: {'C': 0.01, 'class_weight': 'balanced', 'max_iter': 1000, 'penalty': 'l2', 'solver': 'liblinear'}\n",
      "0.000000 (0.000000) with: {'C': 0.01, 'class_weight': 'balanced', 'max_iter': 1000, 'penalty': 'elasticnet', 'solver': 'lbfgs'}\n",
      "0.000000 (0.000000) with: {'C': 0.01, 'class_weight': 'balanced', 'max_iter': 1000, 'penalty': 'elasticnet', 'solver': 'liblinear'}\n",
      "0.610489 (0.005259) with: {'C': 0.01, 'class_weight': 'balanced', 'max_iter': 1000, 'penalty': 'none', 'solver': 'lbfgs'}\n",
      "0.000000 (0.000000) with: {'C': 0.01, 'class_weight': 'balanced', 'max_iter': 1000, 'penalty': 'none', 'solver': 'liblinear'}\n",
      "0.000000 (0.000000) with: {'C': 0.01, 'class_weight': 'balanced', 'max_iter': 1500, 'penalty': 'l1', 'solver': 'lbfgs'}\n",
      "0.612975 (0.004975) with: {'C': 0.01, 'class_weight': 'balanced', 'max_iter': 1500, 'penalty': 'l1', 'solver': 'liblinear'}\n",
      "0.610646 (0.005279) with: {'C': 0.01, 'class_weight': 'balanced', 'max_iter': 1500, 'penalty': 'l2', 'solver': 'lbfgs'}\n",
      "0.610577 (0.005283) with: {'C': 0.01, 'class_weight': 'balanced', 'max_iter': 1500, 'penalty': 'l2', 'solver': 'liblinear'}\n",
      "0.000000 (0.000000) with: {'C': 0.01, 'class_weight': 'balanced', 'max_iter': 1500, 'penalty': 'elasticnet', 'solver': 'lbfgs'}\n",
      "0.000000 (0.000000) with: {'C': 0.01, 'class_weight': 'balanced', 'max_iter': 1500, 'penalty': 'elasticnet', 'solver': 'liblinear'}\n",
      "0.610489 (0.005259) with: {'C': 0.01, 'class_weight': 'balanced', 'max_iter': 1500, 'penalty': 'none', 'solver': 'lbfgs'}\n",
      "0.000000 (0.000000) with: {'C': 0.01, 'class_weight': 'balanced', 'max_iter': 1500, 'penalty': 'none', 'solver': 'liblinear'}\n",
      "0.000000 (0.000000) with: {'C': 0.1, 'class_weight': 'balanced', 'max_iter': 500, 'penalty': 'l1', 'solver': 'lbfgs'}\n",
      "0.610793 (0.005262) with: {'C': 0.1, 'class_weight': 'balanced', 'max_iter': 500, 'penalty': 'l1', 'solver': 'liblinear'}\n",
      "0.610528 (0.005239) with: {'C': 0.1, 'class_weight': 'balanced', 'max_iter': 500, 'penalty': 'l2', 'solver': 'lbfgs'}\n",
      "0.610508 (0.005272) with: {'C': 0.1, 'class_weight': 'balanced', 'max_iter': 500, 'penalty': 'l2', 'solver': 'liblinear'}\n",
      "0.000000 (0.000000) with: {'C': 0.1, 'class_weight': 'balanced', 'max_iter': 500, 'penalty': 'elasticnet', 'solver': 'lbfgs'}\n",
      "0.000000 (0.000000) with: {'C': 0.1, 'class_weight': 'balanced', 'max_iter': 500, 'penalty': 'elasticnet', 'solver': 'liblinear'}\n",
      "0.610489 (0.005259) with: {'C': 0.1, 'class_weight': 'balanced', 'max_iter': 500, 'penalty': 'none', 'solver': 'lbfgs'}\n",
      "0.000000 (0.000000) with: {'C': 0.1, 'class_weight': 'balanced', 'max_iter': 500, 'penalty': 'none', 'solver': 'liblinear'}\n",
      "0.000000 (0.000000) with: {'C': 0.1, 'class_weight': 'balanced', 'max_iter': 1000, 'penalty': 'l1', 'solver': 'lbfgs'}\n",
      "0.610803 (0.005260) with: {'C': 0.1, 'class_weight': 'balanced', 'max_iter': 1000, 'penalty': 'l1', 'solver': 'liblinear'}\n",
      "0.610528 (0.005239) with: {'C': 0.1, 'class_weight': 'balanced', 'max_iter': 1000, 'penalty': 'l2', 'solver': 'lbfgs'}\n",
      "0.610508 (0.005272) with: {'C': 0.1, 'class_weight': 'balanced', 'max_iter': 1000, 'penalty': 'l2', 'solver': 'liblinear'}\n",
      "0.000000 (0.000000) with: {'C': 0.1, 'class_weight': 'balanced', 'max_iter': 1000, 'penalty': 'elasticnet', 'solver': 'lbfgs'}\n",
      "0.000000 (0.000000) with: {'C': 0.1, 'class_weight': 'balanced', 'max_iter': 1000, 'penalty': 'elasticnet', 'solver': 'liblinear'}\n",
      "0.610489 (0.005259) with: {'C': 0.1, 'class_weight': 'balanced', 'max_iter': 1000, 'penalty': 'none', 'solver': 'lbfgs'}\n",
      "0.000000 (0.000000) with: {'C': 0.1, 'class_weight': 'balanced', 'max_iter': 1000, 'penalty': 'none', 'solver': 'liblinear'}\n",
      "0.000000 (0.000000) with: {'C': 0.1, 'class_weight': 'balanced', 'max_iter': 1500, 'penalty': 'l1', 'solver': 'lbfgs'}\n",
      "0.610793 (0.005262) with: {'C': 0.1, 'class_weight': 'balanced', 'max_iter': 1500, 'penalty': 'l1', 'solver': 'liblinear'}\n",
      "0.610528 (0.005239) with: {'C': 0.1, 'class_weight': 'balanced', 'max_iter': 1500, 'penalty': 'l2', 'solver': 'lbfgs'}\n",
      "0.610508 (0.005272) with: {'C': 0.1, 'class_weight': 'balanced', 'max_iter': 1500, 'penalty': 'l2', 'solver': 'liblinear'}\n",
      "0.000000 (0.000000) with: {'C': 0.1, 'class_weight': 'balanced', 'max_iter': 1500, 'penalty': 'elasticnet', 'solver': 'lbfgs'}\n",
      "0.000000 (0.000000) with: {'C': 0.1, 'class_weight': 'balanced', 'max_iter': 1500, 'penalty': 'elasticnet', 'solver': 'liblinear'}\n",
      "0.610489 (0.005259) with: {'C': 0.1, 'class_weight': 'balanced', 'max_iter': 1500, 'penalty': 'none', 'solver': 'lbfgs'}\n",
      "0.000000 (0.000000) with: {'C': 0.1, 'class_weight': 'balanced', 'max_iter': 1500, 'penalty': 'none', 'solver': 'liblinear'}\n",
      "0.000000 (0.000000) with: {'C': 1, 'class_weight': 'balanced', 'max_iter': 500, 'penalty': 'l1', 'solver': 'lbfgs'}\n",
      "0.610499 (0.005278) with: {'C': 1, 'class_weight': 'balanced', 'max_iter': 500, 'penalty': 'l1', 'solver': 'liblinear'}\n",
      "0.610508 (0.005265) with: {'C': 1, 'class_weight': 'balanced', 'max_iter': 500, 'penalty': 'l2', 'solver': 'lbfgs'}\n",
      "0.610528 (0.005232) with: {'C': 1, 'class_weight': 'balanced', 'max_iter': 500, 'penalty': 'l2', 'solver': 'liblinear'}\n",
      "0.000000 (0.000000) with: {'C': 1, 'class_weight': 'balanced', 'max_iter': 500, 'penalty': 'elasticnet', 'solver': 'lbfgs'}\n",
      "0.000000 (0.000000) with: {'C': 1, 'class_weight': 'balanced', 'max_iter': 500, 'penalty': 'elasticnet', 'solver': 'liblinear'}\n",
      "0.610489 (0.005259) with: {'C': 1, 'class_weight': 'balanced', 'max_iter': 500, 'penalty': 'none', 'solver': 'lbfgs'}\n",
      "0.000000 (0.000000) with: {'C': 1, 'class_weight': 'balanced', 'max_iter': 500, 'penalty': 'none', 'solver': 'liblinear'}\n",
      "0.000000 (0.000000) with: {'C': 1, 'class_weight': 'balanced', 'max_iter': 1000, 'penalty': 'l1', 'solver': 'lbfgs'}\n",
      "0.610499 (0.005278) with: {'C': 1, 'class_weight': 'balanced', 'max_iter': 1000, 'penalty': 'l1', 'solver': 'liblinear'}\n",
      "0.610508 (0.005265) with: {'C': 1, 'class_weight': 'balanced', 'max_iter': 1000, 'penalty': 'l2', 'solver': 'lbfgs'}\n",
      "0.610528 (0.005232) with: {'C': 1, 'class_weight': 'balanced', 'max_iter': 1000, 'penalty': 'l2', 'solver': 'liblinear'}\n",
      "0.000000 (0.000000) with: {'C': 1, 'class_weight': 'balanced', 'max_iter': 1000, 'penalty': 'elasticnet', 'solver': 'lbfgs'}\n",
      "0.000000 (0.000000) with: {'C': 1, 'class_weight': 'balanced', 'max_iter': 1000, 'penalty': 'elasticnet', 'solver': 'liblinear'}\n",
      "0.610489 (0.005259) with: {'C': 1, 'class_weight': 'balanced', 'max_iter': 1000, 'penalty': 'none', 'solver': 'lbfgs'}\n",
      "0.000000 (0.000000) with: {'C': 1, 'class_weight': 'balanced', 'max_iter': 1000, 'penalty': 'none', 'solver': 'liblinear'}\n",
      "0.000000 (0.000000) with: {'C': 1, 'class_weight': 'balanced', 'max_iter': 1500, 'penalty': 'l1', 'solver': 'lbfgs'}\n",
      "0.610499 (0.005278) with: {'C': 1, 'class_weight': 'balanced', 'max_iter': 1500, 'penalty': 'l1', 'solver': 'liblinear'}\n",
      "0.610508 (0.005265) with: {'C': 1, 'class_weight': 'balanced', 'max_iter': 1500, 'penalty': 'l2', 'solver': 'lbfgs'}\n",
      "0.610528 (0.005232) with: {'C': 1, 'class_weight': 'balanced', 'max_iter': 1500, 'penalty': 'l2', 'solver': 'liblinear'}\n",
      "0.000000 (0.000000) with: {'C': 1, 'class_weight': 'balanced', 'max_iter': 1500, 'penalty': 'elasticnet', 'solver': 'lbfgs'}\n",
      "0.000000 (0.000000) with: {'C': 1, 'class_weight': 'balanced', 'max_iter': 1500, 'penalty': 'elasticnet', 'solver': 'liblinear'}\n",
      "0.610489 (0.005259) with: {'C': 1, 'class_weight': 'balanced', 'max_iter': 1500, 'penalty': 'none', 'solver': 'lbfgs'}\n",
      "0.000000 (0.000000) with: {'C': 1, 'class_weight': 'balanced', 'max_iter': 1500, 'penalty': 'none', 'solver': 'liblinear'}\n",
      "0.000000 (0.000000) with: {'C': 10, 'class_weight': 'balanced', 'max_iter': 500, 'penalty': 'l1', 'solver': 'lbfgs'}\n",
      "0.610518 (0.005232) with: {'C': 10, 'class_weight': 'balanced', 'max_iter': 500, 'penalty': 'l1', 'solver': 'liblinear'}\n",
      "0.610499 (0.005259) with: {'C': 10, 'class_weight': 'balanced', 'max_iter': 500, 'penalty': 'l2', 'solver': 'lbfgs'}\n",
      "0.610528 (0.005232) with: {'C': 10, 'class_weight': 'balanced', 'max_iter': 500, 'penalty': 'l2', 'solver': 'liblinear'}\n",
      "0.000000 (0.000000) with: {'C': 10, 'class_weight': 'balanced', 'max_iter': 500, 'penalty': 'elasticnet', 'solver': 'lbfgs'}\n",
      "0.000000 (0.000000) with: {'C': 10, 'class_weight': 'balanced', 'max_iter': 500, 'penalty': 'elasticnet', 'solver': 'liblinear'}\n",
      "0.610489 (0.005259) with: {'C': 10, 'class_weight': 'balanced', 'max_iter': 500, 'penalty': 'none', 'solver': 'lbfgs'}\n",
      "0.000000 (0.000000) with: {'C': 10, 'class_weight': 'balanced', 'max_iter': 500, 'penalty': 'none', 'solver': 'liblinear'}\n",
      "0.000000 (0.000000) with: {'C': 10, 'class_weight': 'balanced', 'max_iter': 1000, 'penalty': 'l1', 'solver': 'lbfgs'}\n",
      "0.610518 (0.005232) with: {'C': 10, 'class_weight': 'balanced', 'max_iter': 1000, 'penalty': 'l1', 'solver': 'liblinear'}\n",
      "0.610499 (0.005259) with: {'C': 10, 'class_weight': 'balanced', 'max_iter': 1000, 'penalty': 'l2', 'solver': 'lbfgs'}\n",
      "0.610528 (0.005232) with: {'C': 10, 'class_weight': 'balanced', 'max_iter': 1000, 'penalty': 'l2', 'solver': 'liblinear'}\n",
      "0.000000 (0.000000) with: {'C': 10, 'class_weight': 'balanced', 'max_iter': 1000, 'penalty': 'elasticnet', 'solver': 'lbfgs'}\n",
      "0.000000 (0.000000) with: {'C': 10, 'class_weight': 'balanced', 'max_iter': 1000, 'penalty': 'elasticnet', 'solver': 'liblinear'}\n",
      "0.610489 (0.005259) with: {'C': 10, 'class_weight': 'balanced', 'max_iter': 1000, 'penalty': 'none', 'solver': 'lbfgs'}\n",
      "0.000000 (0.000000) with: {'C': 10, 'class_weight': 'balanced', 'max_iter': 1000, 'penalty': 'none', 'solver': 'liblinear'}\n",
      "0.000000 (0.000000) with: {'C': 10, 'class_weight': 'balanced', 'max_iter': 1500, 'penalty': 'l1', 'solver': 'lbfgs'}\n",
      "0.610518 (0.005232) with: {'C': 10, 'class_weight': 'balanced', 'max_iter': 1500, 'penalty': 'l1', 'solver': 'liblinear'}\n",
      "0.610499 (0.005259) with: {'C': 10, 'class_weight': 'balanced', 'max_iter': 1500, 'penalty': 'l2', 'solver': 'lbfgs'}\n",
      "0.610528 (0.005232) with: {'C': 10, 'class_weight': 'balanced', 'max_iter': 1500, 'penalty': 'l2', 'solver': 'liblinear'}\n",
      "0.000000 (0.000000) with: {'C': 10, 'class_weight': 'balanced', 'max_iter': 1500, 'penalty': 'elasticnet', 'solver': 'lbfgs'}\n",
      "0.000000 (0.000000) with: {'C': 10, 'class_weight': 'balanced', 'max_iter': 1500, 'penalty': 'elasticnet', 'solver': 'liblinear'}\n",
      "0.610489 (0.005259) with: {'C': 10, 'class_weight': 'balanced', 'max_iter': 1500, 'penalty': 'none', 'solver': 'lbfgs'}\n",
      "0.000000 (0.000000) with: {'C': 10, 'class_weight': 'balanced', 'max_iter': 1500, 'penalty': 'none', 'solver': 'liblinear'}\n",
      "0.000000 (0.000000) with: {'C': 100, 'class_weight': 'balanced', 'max_iter': 500, 'penalty': 'l1', 'solver': 'lbfgs'}\n",
      "0.610528 (0.005232) with: {'C': 100, 'class_weight': 'balanced', 'max_iter': 500, 'penalty': 'l1', 'solver': 'liblinear'}\n",
      "0.610489 (0.005259) with: {'C': 100, 'class_weight': 'balanced', 'max_iter': 500, 'penalty': 'l2', 'solver': 'lbfgs'}\n",
      "0.610528 (0.005232) with: {'C': 100, 'class_weight': 'balanced', 'max_iter': 500, 'penalty': 'l2', 'solver': 'liblinear'}\n",
      "0.000000 (0.000000) with: {'C': 100, 'class_weight': 'balanced', 'max_iter': 500, 'penalty': 'elasticnet', 'solver': 'lbfgs'}\n",
      "0.000000 (0.000000) with: {'C': 100, 'class_weight': 'balanced', 'max_iter': 500, 'penalty': 'elasticnet', 'solver': 'liblinear'}\n",
      "0.610489 (0.005259) with: {'C': 100, 'class_weight': 'balanced', 'max_iter': 500, 'penalty': 'none', 'solver': 'lbfgs'}\n",
      "0.000000 (0.000000) with: {'C': 100, 'class_weight': 'balanced', 'max_iter': 500, 'penalty': 'none', 'solver': 'liblinear'}\n",
      "0.000000 (0.000000) with: {'C': 100, 'class_weight': 'balanced', 'max_iter': 1000, 'penalty': 'l1', 'solver': 'lbfgs'}\n",
      "0.610528 (0.005232) with: {'C': 100, 'class_weight': 'balanced', 'max_iter': 1000, 'penalty': 'l1', 'solver': 'liblinear'}\n",
      "0.610489 (0.005259) with: {'C': 100, 'class_weight': 'balanced', 'max_iter': 1000, 'penalty': 'l2', 'solver': 'lbfgs'}\n",
      "0.610528 (0.005232) with: {'C': 100, 'class_weight': 'balanced', 'max_iter': 1000, 'penalty': 'l2', 'solver': 'liblinear'}\n",
      "0.000000 (0.000000) with: {'C': 100, 'class_weight': 'balanced', 'max_iter': 1000, 'penalty': 'elasticnet', 'solver': 'lbfgs'}\n",
      "0.000000 (0.000000) with: {'C': 100, 'class_weight': 'balanced', 'max_iter': 1000, 'penalty': 'elasticnet', 'solver': 'liblinear'}\n",
      "0.610489 (0.005259) with: {'C': 100, 'class_weight': 'balanced', 'max_iter': 1000, 'penalty': 'none', 'solver': 'lbfgs'}\n",
      "0.000000 (0.000000) with: {'C': 100, 'class_weight': 'balanced', 'max_iter': 1000, 'penalty': 'none', 'solver': 'liblinear'}\n",
      "0.000000 (0.000000) with: {'C': 100, 'class_weight': 'balanced', 'max_iter': 1500, 'penalty': 'l1', 'solver': 'lbfgs'}\n",
      "0.610528 (0.005232) with: {'C': 100, 'class_weight': 'balanced', 'max_iter': 1500, 'penalty': 'l1', 'solver': 'liblinear'}\n",
      "0.610489 (0.005259) with: {'C': 100, 'class_weight': 'balanced', 'max_iter': 1500, 'penalty': 'l2', 'solver': 'lbfgs'}\n",
      "0.610528 (0.005232) with: {'C': 100, 'class_weight': 'balanced', 'max_iter': 1500, 'penalty': 'l2', 'solver': 'liblinear'}\n",
      "0.000000 (0.000000) with: {'C': 100, 'class_weight': 'balanced', 'max_iter': 1500, 'penalty': 'elasticnet', 'solver': 'lbfgs'}\n",
      "0.000000 (0.000000) with: {'C': 100, 'class_weight': 'balanced', 'max_iter': 1500, 'penalty': 'elasticnet', 'solver': 'liblinear'}\n",
      "0.610489 (0.005259) with: {'C': 100, 'class_weight': 'balanced', 'max_iter': 1500, 'penalty': 'none', 'solver': 'lbfgs'}\n",
      "0.000000 (0.000000) with: {'C': 100, 'class_weight': 'balanced', 'max_iter': 1500, 'penalty': 'none', 'solver': 'liblinear'}\n",
      "Wall time: 25min 55s\n"
     ]
    }
   ],
   "source": [
    "%%time\n",
    "grid_result_LR = grid_search_LR.fit(X_scaled, y)\n",
    "# summarize results\n",
    "print(\"Best: %f using %s\" % (grid_result_LR.best_score_, grid_result_LR.best_params_))\n",
    "means = grid_result_LR.cv_results_['mean_test_score']\n",
    "stds = grid_result_LR.cv_results_['std_test_score']\n",
    "params = grid_result_LR.cv_results_['params']\n",
    "for mean, stdev, param in zip(means, stds, params):\n",
    "    print(\"%f (%f) with: %r\" % (mean, stdev, param))"
   ]
  },
  {
   "cell_type": "code",
   "execution_count": 138,
   "id": "95ba37c3",
   "metadata": {},
   "outputs": [
    {
     "data": {
      "text/plain": [
       "LogisticRegression(C=0.001, class_weight='balanced', max_iter=500, penalty='l1',\n",
       "                   solver='liblinear')"
      ]
     },
     "execution_count": 138,
     "metadata": {},
     "output_type": "execute_result"
    }
   ],
   "source": [
    "# The GridSearch algorithm determined the following optimal parameters\n",
    "best_Estimator_LR =grid_result_LR.best_estimator_\n",
    "best_Estimator_LR"
   ]
  },
  {
   "cell_type": "code",
   "execution_count": 139,
   "id": "c98fa5a5",
   "metadata": {},
   "outputs": [
    {
     "name": "stdout",
     "output_type": "stream",
     "text": [
      "\n",
      "Best Accuracy with Grid Search            : 0.644\n",
      "\n",
      "Training data Metrics\n",
      "\n",
      "     The average accuraccy : 0.644\n",
      "     The average precision : 0.140\n",
      "     The average recall    : 0.425\n",
      "\n",
      "Test data Metrics\n",
      "\n",
      "     The average accuracy  : 0.644\n",
      "     The average precision : 0.140\n",
      "     The average  recall   : 0.424\n",
      "\n",
      "Classification report\n",
      "\n",
      "              precision    recall  f1-score   support\n",
      "\n",
      "           1       0.14      0.42      0.21     11357\n",
      "           0       0.90      0.67      0.77     90409\n",
      "\n",
      "    accuracy                           0.64    101766\n",
      "   macro avg       0.52      0.55      0.49    101766\n",
      "weighted avg       0.82      0.64      0.71    101766\n",
      "\n"
     ]
    }
   ],
   "source": [
    "# Display model metrics\n",
    "displayModel_metrics(best_Estimator_LR, grid_result_LR, X_scaled, y, cv)"
   ]
  },
  {
   "cell_type": "code",
   "execution_count": 140,
   "id": "9096c36e",
   "metadata": {},
   "outputs": [
    {
     "data": {
      "image/png": "[encoded data removed]",
      "text/plain": [
       "<Figure size 432x288 with 1 Axes>"
      ]
     },
     "metadata": {
      "needs_background": "light"
     },
     "output_type": "display_data"
    }
   ],
   "source": [
    "# Plot ROC curve\n",
    "roc_curve_plot(grid_result_LR, X_scaled, y)"
   ]
  },
  {
   "cell_type": "markdown",
   "id": "5e7ce51e",
   "metadata": {},
   "source": [
    "#### Learning Curves for Classifiers"
   ]
  },
  {
   "cell_type": "markdown",
   "id": "3cc507d8",
   "metadata": {},
   "source": [
    "A learning curve shows the validation and training score of an estimator for varying numbers of training samples. It is a tool to find out how much we benefit from adding more training data and whether the estimator suffers more from a variance error or a bias error."
   ]
  },
  {
   "cell_type": "code",
   "execution_count": 141,
   "id": "de0aa953",
   "metadata": {},
   "outputs": [],
   "source": [
    "from yellowbrick.model_selection import LearningCurve\n",
    "\n",
    "def Learning_curve_plot(model):\n",
    "    # Create the learning curve visualizer\n",
    "    sizes = np.linspace(0.3, 1.0, 10)\n",
    "    \n",
    "    visualizer = LearningCurve(\n",
    "    model, cv=cv, scoring='accuracy', train_sizes=sizes, n_jobs=-1)\n",
    "\n",
    "    visualizer.fit(X_scaled, y)        # Fit the data to the visualizer\n",
    "    visualizer.show()           # Finalize and render the figure"
   ]
  },
  {
   "cell_type": "code",
   "execution_count": 142,
   "id": "a2d1ce78",
   "metadata": {},
   "outputs": [
    {
     "data": {
      "image/png": "[encoded data removed]",
      "text/plain": [
       "<Figure size 576x396 with 1 Axes>"
      ]
     },
     "metadata": {},
     "output_type": "display_data"
    }
   ],
   "source": [
    "# Learning curve for LR classifier\n",
    "Learning_curve_plot(best_Estimator_LR)"
   ]
  },
  {
   "cell_type": "markdown",
   "id": "d7d4407b",
   "metadata": {},
   "source": [
    "### Identify Important Attributes"
   ]
  },
  {
   "cell_type": "code",
   "execution_count": 143,
   "id": "77b6b640",
   "metadata": {},
   "outputs": [
    {
     "data": {
      "text/plain": [
       "RFECV(cv=KFold(n_splits=10, random_state=1234, shuffle=True),\n",
       "      estimator=LogisticRegression(C=0.001, class_weight='balanced',\n",
       "                                   max_iter=500, penalty='l1',\n",
       "                                   solver='liblinear'),\n",
       "      n_jobs=-1, scoring='accuracy')"
      ]
     },
     "execution_count": 143,
     "metadata": {},
     "output_type": "execute_result"
    }
   ],
   "source": [
    "# recursive Feature elimination to identify important features\n",
    "from sklearn.feature_selection import RFECV\n",
    "\n",
    "# Instance of Recursive Feature Elimination\n",
    "rfecv = RFECV(estimator=best_Estimator_LR, step=1, cv=cv, n_jobs=-1, scoring='accuracy')\n",
    "\n",
    "# Fit RFE\n",
    "rfecv.fit(X_scaled, y)"
   ]
  },
  {
   "cell_type": "code",
   "execution_count": 144,
   "id": "00efad9d",
   "metadata": {},
   "outputs": [
    {
     "name": "stdout",
     "output_type": "stream",
     "text": [
      "                                Feature Name  Ranking\n",
      "3                         Discharged_to_Home        1\n",
      "0                           time_in_hospital        2\n",
      "6                     Admission_source_Other        3\n",
      "2                             num_procedures        4\n",
      "5                 Admission_source_Emergency        5\n",
      "25              medical_specialty_Cardiology        6\n",
      "32             medical_specialty_Radiologist        7\n",
      "31             medical_specialty_Pulmonology        8\n",
      "30                   medical_specialty_Other        9\n",
      "4                        Discharged_to_Other       10\n",
      "29             medical_specialty_Orthopedics       11\n",
      "28              medical_specialty_Nephrology       12\n",
      "27        medical_specialty_InternalMedicine       13\n",
      "26  medical_specialty_Family/GeneralPractice       14\n",
      "7                  Admission_source_Referral       15\n",
      "1                         num_lab_procedures       16\n",
      "33         medical_specialty_Surgery-General       17\n",
      "8                              payer_code_BC       18\n",
      "34                            glipizide_Down       19\n",
      "9                              payer_code_CH       20\n",
      "35                              glipizide_No       21\n",
      "10                             payer_code_CM       22\n",
      "36                          glipizide_Steady       23\n",
      "11                             payer_code_CP       24\n",
      "37                              glipizide_Up       25\n",
      "12                             payer_code_DM       26\n",
      "38                             tolazamide_No       27\n",
      "13                             payer_code_FR       28\n",
      "39                         tolazamide_Steady       29\n",
      "14                             payer_code_HM       30\n",
      "40                             tolazamide_Up       31\n",
      "15                             payer_code_MC       32\n",
      "24                             payer_code_WC       33\n",
      "16                             payer_code_MD       34\n",
      "23                             payer_code_UN       35\n",
      "17                             payer_code_MP       36\n",
      "22                             payer_code_SP       37\n",
      "18                             payer_code_OG       38\n",
      "21                             payer_code_SI       39\n",
      "19                             payer_code_OT       40\n",
      "20                             payer_code_PO       41\n"
     ]
    }
   ],
   "source": [
    "# get column names\n",
    "columns = pd.DataFrame(list(ind_columns))\n",
    "\n",
    "# Get the ranking of features\n",
    "ranking = pd.DataFrame(rfecv.ranking_)\n",
    "\n",
    "# ranking and their importance\n",
    "rfe_selected = pd.DataFrame()\n",
    "rfe_selected  = pd.concat([columns, ranking], axis=1)\n",
    "rfe_selected.columns = ['Feature Name', 'Ranking']\n",
    "rfe_selected_sorted = rfe_selected.sort_values(by=['Ranking'], ascending=True)\n",
    "print(rfe_selected_sorted)"
   ]
  },
  {
   "cell_type": "code",
   "execution_count": null,
   "id": "6e899864",
   "metadata": {},
   "outputs": [],
   "source": []
  },
  {
   "cell_type": "code",
   "execution_count": null,
   "id": "6973269f",
   "metadata": {},
   "outputs": [],
   "source": []
  },
  {
   "cell_type": "code",
   "execution_count": null,
   "id": "9c097015",
   "metadata": {},
   "outputs": [],
   "source": []
  }
 ],
 "metadata": {
  "kernelspec": {
   "display_name": "Python 3 (ipykernel)",
   "language": "python",
   "name": "python3"
  },
  "language_info": {
   "codemirror_mode": {
    "name": "ipython",
    "version": 3
   },
   "file_extension": ".py",
   "mimetype": "text/x-python",
   "name": "python",
   "nbconvert_exporter": "python",
   "pygments_lexer": "ipython3",
   "version": "3.9.7"
  }
 },
 "nbformat": 4,
 "nbformat_minor": 5
}
