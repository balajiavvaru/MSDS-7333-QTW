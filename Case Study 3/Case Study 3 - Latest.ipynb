{
 "cells": [
  {
   "cell_type": "markdown",
   "id": "14345790",
   "metadata": {},
   "source": [
    "### Case Study 3 : Spam classifier"
   ]
  },
  {
   "cell_type": "markdown",
   "id": "899c7a97",
   "metadata": {},
   "source": [
    "Submitted by:\n",
    "\n",
    "- Ravi Sivaraman\n",
    "- Balaji Avvaru\n",
    "- Apurv Mittal"
   ]
  },
  {
   "cell_type": "code",
   "execution_count": 1,
   "id": "fffec101",
   "metadata": {},
   "outputs": [],
   "source": [
    "import numpy as np\n",
    "import matplotlib.pyplot as plt\n",
    "import pandas as pd\n",
    "import os\n",
    "from os.path import isfile\n",
    "import email\n",
    "#import BeautifulSoup\n",
    "from bs4 import BeautifulSoup\n",
    "import re\n",
    "from sklearn.naive_bayes import MultinomialNB\n",
    "from sklearn.metrics import silhouette_score\n",
    "import hdbscan\n",
    "from sklearn.cluster import KMeans\n",
    "from sklearn.model_selection import cross_val_predict\n",
    "from sklearn.metrics import classification_report\n",
    "from sklearn.model_selection import cross_validate\n",
    "from sklearn.linear_model import LogisticRegression\n",
    "from sklearn.feature_extraction.text import TfidfVectorizer\n",
    "from sklearn.metrics import accuracy_score\n",
    "from sklearn.model_selection import StratifiedKFold\n",
    "from sklearn.model_selection import GridSearchCV\n",
    "import seaborn as sns\n",
    "from sklearn.preprocessing import label_binarize\n",
    "from sklearn import metrics as mt\n",
    "from sklearn.feature_extraction import text\n",
    "from wordcloud import WordCloud\n",
    "\n",
    "import warnings\n",
    "warnings.filterwarnings(\"ignore\")"
   ]
  },
  {
   "cell_type": "code",
   "execution_count": 2,
   "id": "c3f978a4",
   "metadata": {},
   "outputs": [],
   "source": [
    "# location of emails\n",
    "data_path = \"/Users/balaj/OneDrive/Desktop/Docs/Docs 1/SMU/MSDS 7333/Case Study 3/Data\"\n",
    "# get all sub folders\n",
    "sub_folders = [x[0] for x in os.walk(data_path) if x[0] != data_path]"
   ]
  },
  {
   "cell_type": "code",
   "execution_count": 3,
   "id": "d55127fa",
   "metadata": {
    "scrolled": true
   },
   "outputs": [
    {
     "name": "stdout",
     "output_type": "stream",
     "text": [
      "Wall time: 25.9 s\n"
     ]
    }
   ],
   "source": [
    "%%time\n",
    "# read all emails from all sub folders\n",
    "mail_ty = []\n",
    "text_ty = []\n",
    "data = []\n",
    "target = []\n",
    "\n",
    "for folder in sub_folders:\n",
    "    files = [f for f in os.listdir(folder) if os.path.isfile(os.path.join(folder, f))]\n",
    "    for file in files:\n",
    "        with open(f\"{folder}/{file}\", encoding=\"latin1\") as f:\n",
    "            #    with open(f\"{folder}/{file}\",\"r\") as f:\n",
    "            x = email.message_from_file(f)\n",
    "          #  print(x)\n",
    "    #    if (file != 'cmds'): \n",
    "    #        mail_data.append(lines)\n",
    "            \n",
    "        mail_type = x.get_content_type()\n",
    "        text_type = x.get_content_charset()\n",
    "        mail_ty.append(mail_type)\n",
    "        text_ty.append(text_type)\n",
    "        if re.search(\"spam\", folder):\n",
    "            target.append(1)\n",
    "        else:\n",
    "             target.append(0)\n",
    "                               \n",
    "        if mail_type == \"text/html\":\n",
    "            tmp = BeautifulSoup(x.get_payload(), 'html.parser')\n",
    "            tmp = tmp.text.replace(\"\\n\", \" \")\n",
    "            data.append(tmp)\n",
    "        elif \"multipart\" in mail_type:\n",
    "            \n",
    "            multipart_data = []\n",
    "            for text in x.get_payload():\n",
    "                if not isinstance(text, str): \n",
    "                    if text.get_content_type() == \"text/html\":\n",
    "                        tmp = BeautifulSoup(text.get_payload(), 'html.parser')\n",
    "                        tmp = tmp.text.replace(\"\\n\", \" \")\n",
    "                        multipart_data.append(tmp)\n",
    "                    else:\n",
    "                        multipart_data.append(text.get_payload()) \n",
    "                \n",
    "            multipart_email = [''.join(str(item)) for item in multipart_data]\n",
    "            data.append(multipart_email)\n",
    "        else:\n",
    "            data.append(x.get_payload()) \n",
    "                       "
   ]
  },
  {
   "cell_type": "code",
   "execution_count": 4,
   "id": "37a2e6b1",
   "metadata": {},
   "outputs": [],
   "source": [
    "df = pd.DataFrame()"
   ]
  },
  {
   "cell_type": "code",
   "execution_count": 5,
   "id": "807f3e57",
   "metadata": {},
   "outputs": [],
   "source": [
    "df[\"mail_types\"] = mail_ty\n",
    "df[\"text_types\"] = text_ty"
   ]
  },
  {
   "cell_type": "code",
   "execution_count": 6,
   "id": "ba16dd7f",
   "metadata": {
    "scrolled": true
   },
   "outputs": [
    {
     "data": {
      "text/plain": [
       "text/plain                     7408\n",
       "text/html                      1193\n",
       "multipart/alternative           326\n",
       "multipart/signed                180\n",
       "multipart/mixed                 179\n",
       "multipart/related                56\n",
       "multipart/report                  5\n",
       "text/plain charset=us-ascii       1\n",
       "Name: mail_types, dtype: int64"
      ]
     },
     "execution_count": 6,
     "metadata": {},
     "output_type": "execute_result"
    }
   ],
   "source": [
    "# Count of mail types           \n",
    "df[\"mail_types\"].value_counts()"
   ]
  },
  {
   "cell_type": "code",
   "execution_count": 7,
   "id": "afd1b617",
   "metadata": {},
   "outputs": [
    {
     "data": {
      "text/plain": [
       "us-ascii           3275\n",
       "iso-8859-1         1958\n",
       "windows-1252        197\n",
       "iso-8859-15         104\n",
       "utf-8                22\n",
       "default              15\n",
       "iso-8859-2           13\n",
       "windows-1251         11\n",
       "gb2312               11\n",
       "default_charset      10\n",
       "iso-2022-jp           8\n",
       "ks_c_5601-1987        7\n",
       "windows-1254          6\n",
       "koi8-r                6\n",
       "iso-8859-9            4\n",
       "unknown-8bit          2\n",
       "chinesebig5           1\n",
       "windows-1256          1\n",
       "euc-kr                1\n",
       "gb2312_charset        1\n",
       "iso-8859-3            1\n",
       "Name: text_types, dtype: int64"
      ]
     },
     "execution_count": 7,
     "metadata": {},
     "output_type": "execute_result"
    }
   ],
   "source": [
    "# Count of text types\n",
    "df[\"text_types\"].value_counts()"
   ]
  },
  {
   "cell_type": "code",
   "execution_count": 8,
   "id": "5d4c716f",
   "metadata": {},
   "outputs": [],
   "source": [
    "# Create a data frame with email text and target (whether mail is spam or not, 1 for spam and 0 for not a spam)\n",
    "email_df = pd.DataFrame()\n",
    "email_df[\"data\"] = data\n",
    "#email_df[\"mail_type\"] = mail_ty\n",
    "#email_df[\"text_type\"] = text_ty\n",
    "email_df[\"target\"] = target"
   ]
  },
  {
   "cell_type": "code",
   "execution_count": 9,
   "id": "533f614d",
   "metadata": {},
   "outputs": [
    {
     "data": {
      "text/plain": [
       "0    6951\n",
       "1    2397\n",
       "Name: target, dtype: int64"
      ]
     },
     "execution_count": 9,
     "metadata": {},
     "output_type": "execute_result"
    }
   ],
   "source": [
    "email_df['target'].value_counts()"
   ]
  },
  {
   "cell_type": "code",
   "execution_count": 10,
   "id": "729f0b1a",
   "metadata": {},
   "outputs": [
    {
     "data": {
      "text/html": [
       "<div>\n",
       "<style scoped>\n",
       "    .dataframe tbody tr th:only-of-type {\n",
       "        vertical-align: middle;\n",
       "    }\n",
       "\n",
       "    .dataframe tbody tr th {\n",
       "        vertical-align: top;\n",
       "    }\n",
       "\n",
       "    .dataframe thead th {\n",
       "        text-align: right;\n",
       "    }\n",
       "</style>\n",
       "<table border=\"1\" class=\"dataframe\">\n",
       "  <thead>\n",
       "    <tr style=\"text-align: right;\">\n",
       "      <th></th>\n",
       "      <th>data</th>\n",
       "      <th>target</th>\n",
       "    </tr>\n",
       "  </thead>\n",
       "  <tbody>\n",
       "    <tr>\n",
       "      <th>0</th>\n",
       "      <td>Date:        Wed, 21 Aug 2002 10:54:46 -05...</td>\n",
       "      <td>0</td>\n",
       "    </tr>\n",
       "    <tr>\n",
       "      <th>1</th>\n",
       "      <td>Martin A posted:\\nTassos Papadopoulos, the Gre...</td>\n",
       "      <td>0</td>\n",
       "    </tr>\n",
       "    <tr>\n",
       "      <th>2</th>\n",
       "      <td>Man Threatens Explosion In Moscow \\n\\nThursday...</td>\n",
       "      <td>0</td>\n",
       "    </tr>\n",
       "    <tr>\n",
       "      <th>3</th>\n",
       "      <td>Klez: The Virus That Won't Die\\n \\nAlready the...</td>\n",
       "      <td>0</td>\n",
       "    </tr>\n",
       "    <tr>\n",
       "      <th>4</th>\n",
       "      <td>&gt;  in adding cream to spaghetti carbonara, whi...</td>\n",
       "      <td>0</td>\n",
       "    </tr>\n",
       "    <tr>\n",
       "      <th>...</th>\n",
       "      <td>...</td>\n",
       "      <td>...</td>\n",
       "    </tr>\n",
       "    <tr>\n",
       "      <th>9343</th>\n",
       "      <td>Want To Be Your Own Boss?                  ...</td>\n",
       "      <td>1</td>\n",
       "    </tr>\n",
       "    <tr>\n",
       "      <th>9344</th>\n",
       "      <td>[ \\t Preferred Non-Smoker\\n \\t\\n Just what the...</td>\n",
       "      <td>1</td>\n",
       "    </tr>\n",
       "    <tr>\n",
       "      <th>9345</th>\n",
       "      <td>Dear Subscriber,\\n\\nIf I could show you a way ...</td>\n",
       "      <td>1</td>\n",
       "    </tr>\n",
       "    <tr>\n",
       "      <th>9346</th>\n",
       "      <td>****Mid-Summer Customer Appreciation SALE!****...</td>\n",
       "      <td>1</td>\n",
       "    </tr>\n",
       "    <tr>\n",
       "      <th>9347</th>\n",
       "      <td>ATTN:SIR/MADAN      \\n\\n                      ...</td>\n",
       "      <td>1</td>\n",
       "    </tr>\n",
       "  </tbody>\n",
       "</table>\n",
       "<p>9348 rows × 2 columns</p>\n",
       "</div>"
      ],
      "text/plain": [
       "                                                   data  target\n",
       "0         Date:        Wed, 21 Aug 2002 10:54:46 -05...       0\n",
       "1     Martin A posted:\\nTassos Papadopoulos, the Gre...       0\n",
       "2     Man Threatens Explosion In Moscow \\n\\nThursday...       0\n",
       "3     Klez: The Virus That Won't Die\\n \\nAlready the...       0\n",
       "4     >  in adding cream to spaghetti carbonara, whi...       0\n",
       "...                                                 ...     ...\n",
       "9343     Want To Be Your Own Boss?                  ...       1\n",
       "9344  [ \\t Preferred Non-Smoker\\n \\t\\n Just what the...       1\n",
       "9345  Dear Subscriber,\\n\\nIf I could show you a way ...       1\n",
       "9346  ****Mid-Summer Customer Appreciation SALE!****...       1\n",
       "9347  ATTN:SIR/MADAN      \\n\\n                      ...       1\n",
       "\n",
       "[9348 rows x 2 columns]"
      ]
     },
     "execution_count": 10,
     "metadata": {},
     "output_type": "execute_result"
    }
   ],
   "source": [
    "email_df"
   ]
  },
  {
   "cell_type": "code",
   "execution_count": 11,
   "id": "0aeb420a",
   "metadata": {},
   "outputs": [
    {
     "data": {
      "text/plain": [
       "\"Martin A posted:\\nTassos Papadopoulos, the Greek sculptor behind the plan, judged that the\\n limestone of Mount Kerdylio, 70 miles east of Salonika and not far from the\\n Mount Athos monastic community, was ideal for the patriotic sculpture. \\n \\n As well as Alexander's granite features, 240 ft high and 170 ft wide, a\\n museum, a restored amphitheatre and car park for admiring crowds are\\nplanned\\n---------------------\\nSo is this mountain limestone or granite?\\nIf it's limestone, it'll weather pretty fast.\\n\\n------------------------ Yahoo! Groups Sponsor ---------------------~-->\\n4 DVDs Free +s&p Join Now\\nhttp://us.click.yahoo.com/pt6YBB/NXiEAA/mG3HAA/7gSolB/TM\\n---------------------------------------------------------------------~->\\n\\nTo unsubscribe from this group, send an email to:\\nforteana-unsubscribe@egroups.com\\n\\n \\n\\nYour use of Yahoo! Groups is subject to http://docs.yahoo.com/info/terms/ \\n\\n\\n\\n\""
      ]
     },
     "execution_count": 11,
     "metadata": {},
     "output_type": "execute_result"
    }
   ],
   "source": [
    "email_df.loc[1].data"
   ]
  },
  {
   "cell_type": "code",
   "execution_count": 12,
   "id": "d07b1e36",
   "metadata": {},
   "outputs": [],
   "source": [
    "email_df[\"data_new\"] = [''.join(str(item)) for item in email_df.data]"
   ]
  },
  {
   "cell_type": "code",
   "execution_count": 13,
   "id": "780a8d01",
   "metadata": {},
   "outputs": [
    {
     "name": "stdout",
     "output_type": "stream",
     "text": [
      "    Date:        Wed, 21 Aug 2002 10:54:46 -0500\n",
      "    From:        Chris Garrigues <cwg-dated-1030377287.06fa6d@DeepEddy.Com>\n",
      "    Message-ID:  <1029945287.4797.TMDA@deepeddy.vircio.com>\n",
      "\n",
      "\n",
      "  | I can't reproduce this error.\n",
      "\n",
      "For me it is very repeatable... (like every time, without fail).\n",
      "\n",
      "This is the debug log of the pick happening ...\n",
      "\n",
      "18:19:03 Pick_It {exec pick +inbox -list -lbrace -lbrace -subject ftp -rbrace -rbrace} {4852-4852 -sequence mercury}\n",
      "18:19:03 exec pick +inbox -list -lbrace -lbrace -subject ftp -rbrace -rbrace 4852-4852 -sequence mercury\n",
      "18:19:04 Ftoc_PickMsgs {{1 hit}}\n",
      "18:19:04 Marking 1 hits\n",
      "18:19:04 tkerror: syntax error in expression \"int ...\n",
      "\n",
      "Note, if I run the pick command by hand ...\n",
      "\n",
      "delta$ pick +inbox -list -lbrace -lbrace -subject ftp -rbrace -rbrace  4852-4852 -sequence mercury\n",
      "1 hit\n",
      "\n",
      "That's where the \"1 hit\" comes from (obviously).  The version of nmh I'm\n",
      "using is ...\n",
      "\n",
      "delta$ pick -version\n",
      "pick -- nmh-1.0.4 [compiled on fuchsia.cs.mu.OZ.AU at Sun Mar 17 14:55:56 ICT 2002]\n",
      "\n",
      "And the relevant part of my .mh_profile ...\n",
      "\n",
      "delta$ mhparam pick\n",
      "-seq sel -list\n",
      "\n",
      "\n",
      "Since the pick command works, the sequence (actually, both of them, the\n",
      "one that's explicit on the command line, from the search popup, and the\n",
      "one that comes from .mh_profile) do get created.\n",
      "\n",
      "kre\n",
      "\n",
      "ps: this is still using the version of the code form a day ago, I haven't\n",
      "been able to reach the cvs repository today (local routing issue I think).\n",
      "\n",
      "\n",
      "\n",
      "_______________________________________________\n",
      "Exmh-workers mailing list\n",
      "Exmh-workers@redhat.com\n",
      "https://listman.redhat.com/mailman/listinfo/exmh-workers\n",
      "\n",
      "\n"
     ]
    }
   ],
   "source": [
    "print(email_df[\"data_new\"][0])"
   ]
  },
  {
   "cell_type": "code",
   "execution_count": 14,
   "id": "1142847f",
   "metadata": {},
   "outputs": [],
   "source": [
    "# get the instanc of TfidfVectorizer\n",
    "#my_stop_words = text.ENGLISH_STOP_WORDS.union([\"spamassassin\", \"email\", \"message\", \"\\n\", \"nbsp\", \"font\",\"exhm\", \"subject\", \"list\", \"url\", \"net\"])\n",
    "#tf_vectorizer = TfidfVectorizer(ngram_range=(1,2), stop_words=text.ENGLISH_STOP_WORDS)\n",
    "\n",
    "tf_vectorizer = TfidfVectorizer()"
   ]
  },
  {
   "cell_type": "code",
   "execution_count": 15,
   "id": "aba6b65d",
   "metadata": {},
   "outputs": [],
   "source": [
    "# fit and transform email data\n",
    "new_vectors = tf_vectorizer.fit_transform(email_df.data_new)"
   ]
  },
  {
   "cell_type": "code",
   "execution_count": 16,
   "id": "4ed025ec",
   "metadata": {},
   "outputs": [
    {
     "data": {
      "text/plain": [
       "array([[0.        , 0.        , 0.        , ..., 0.        , 0.        ,\n",
       "        0.        ],\n",
       "       [0.        , 0.        , 0.        , ..., 0.        , 0.        ,\n",
       "        0.        ],\n",
       "       [0.        , 0.        , 0.        , ..., 0.        , 0.        ,\n",
       "        0.        ],\n",
       "       ...,\n",
       "       [0.        , 0.08585131, 0.        , ..., 0.        , 0.        ,\n",
       "        0.        ],\n",
       "       [0.17644665, 0.        , 0.        , ..., 0.        , 0.        ,\n",
       "        0.        ],\n",
       "       [0.        , 0.        , 0.        , ..., 0.        , 0.        ,\n",
       "        0.        ]])"
      ]
     },
     "execution_count": 16,
     "metadata": {},
     "output_type": "execute_result"
    }
   ],
   "source": [
    "new_vectors.toarray()"
   ]
  },
  {
   "cell_type": "code",
   "execution_count": 17,
   "id": "d8490025",
   "metadata": {},
   "outputs": [],
   "source": [
    "# convert the data type from float 64 to float 32\n",
    "new_vectors = new_vectors.toarray().astype('float32')"
   ]
  },
  {
   "cell_type": "code",
   "execution_count": 18,
   "id": "efae4741",
   "metadata": {},
   "outputs": [
    {
     "data": {
      "image/png": "[encoded data removed]",
      "text/plain": [
       "<Figure size 432x288 with 1 Axes>"
      ]
     },
     "metadata": {},
     "output_type": "display_data"
    }
   ],
   "source": [
    "# Pie chart\n",
    "email_df.target.value_counts().plot.pie(autopct = \"%.1f%%\")\n",
    "plt.title(\"Proportion of Target Value\")\n",
    "plt.show()"
   ]
  },
  {
   "cell_type": "markdown",
   "id": "95f17f3a",
   "metadata": {},
   "source": [
    "### Clustering"
   ]
  },
  {
   "cell_type": "markdown",
   "id": "f8e3b1cc",
   "metadata": {},
   "source": [
    "#### KMeans Clustering"
   ]
  },
  {
   "cell_type": "markdown",
   "id": "da6bc7f3",
   "metadata": {},
   "source": [
    "K-means clustering is a type of unsupervised learning, which is used when you have unlabeled data (i.e., data without defined categories or groups). The goal of this algorithm is to find groups in the data, with the number of groups represented by the variable K. The algorithm works iteratively to assign each data point to one of K groups based on the features that are provided. Data points are clustered based on feature similarity"
   ]
  },
  {
   "cell_type": "markdown",
   "id": "4eb9259f",
   "metadata": {},
   "source": [
    "KMeans Clustering with default parameters"
   ]
  },
  {
   "cell_type": "code",
   "execution_count": null,
   "id": "1f2fc7a1",
   "metadata": {},
   "outputs": [],
   "source": [
    "wcss = []\n",
    "score = []\n",
    "K = range(2,30)\n",
    "for k in K:\n",
    "    km = KMeans(n_clusters=k)\n",
    "    km = km.fit(new_vectors)\n",
    "    labels = km.predict(new_vectors) \n",
    "    wcss.append(km.inertia_)\n",
    "    sc = silhouette_score(new_vectors, labels)\n",
    "    score.append(sc)\n",
    "\n",
    "plt.rcParams['figure.figsize'] = (20, 7)\n",
    "plt.subplot(1,2,1)\n",
    "plt.plot(K, wcss, 'bx-')\n",
    "plt.xlabel('Number of centroids')\n",
    "plt.ylabel('Within-Cluster-Sum-of-Squares')\n",
    "plt.title('Elbow Method For Optimal k')\n",
    "\n",
    "plt.subplot(1,2,2)\n",
    "plt.plot(K, score, 'bx-')\n",
    "plt.xlabel('Number of centroids')\n",
    "plt.ylabel('silhouette score')\n",
    "plt.title('Silhouette score Vs k')\n",
    "plt.show()"
   ]
  },
  {
   "cell_type": "code",
   "execution_count": null,
   "id": "b56e8664",
   "metadata": {},
   "outputs": [],
   "source": [
    "import ctypes\n",
    "print(ctypes.sizeof(ctypes.c_voidp))"
   ]
  },
  {
   "cell_type": "markdown",
   "id": "1bb1c920",
   "metadata": {},
   "source": [
    "#### Visualize Clusters"
   ]
  },
  {
   "cell_type": "markdown",
   "id": "58c421b0",
   "metadata": {},
   "source": [
    "We will use a technique called t-SNE (t-distributed Stochastic Neighbor Embedding) to generate a 2 dimensional representation of our dataset, in order to have a more intuitive understanding of how the clustering looks."
   ]
  },
  {
   "cell_type": "markdown",
   "id": "ffcf2b8a",
   "metadata": {},
   "source": [
    "First let's look at an un-clustered version of this 2D projection."
   ]
  },
  {
   "cell_type": "code",
   "execution_count": null,
   "id": "44399cbe",
   "metadata": {},
   "outputs": [],
   "source": [
    "%%time\n",
    "from sklearn.manifold import TSNE\n",
    "import sklearn.cluster as cluster\n",
    "newdims = (12, 8)\n",
    "plt.subplots(1, 1, figsize=newdims)\n",
    "plt.subplot(1, 1, 1)\n",
    "plot_kwds = {'alpha' : 0.25, 's' : 40, 'linewidths':0}\n",
    "projection = TSNE().fit_transform(new_vectors)\n",
    "plt.scatter(*projection.T, **plot_kwds)\n",
    "plt.show()"
   ]
  },
  {
   "cell_type": "markdown",
   "id": "760a6917",
   "metadata": {},
   "source": [
    "Now look at clustered version of this 2D projection with various clustering techniques"
   ]
  },
  {
   "cell_type": "code",
   "execution_count": null,
   "id": "85b41180",
   "metadata": {},
   "outputs": [],
   "source": [
    "%%time\n",
    "import seaborn as sns\n",
    "\n",
    "# This function will run a given clustering algorithm and plot the clusters on the same 2D  TSNE projection as above\n",
    "def plot_clusters(data, algorithm, args, kwds):\n",
    "    labels = algorithm(*args, **kwds).fit_predict(data)\n",
    "    palette = sns.color_palette('muted', np.unique(labels).max() + 1)\n",
    "    colors = [palette[x] if x >= 0 else (.5, .5, .5) for x in labels]\n",
    "    plt.scatter(*projection.T, s=50, linewidth=0, c=colors, alpha=0.25)\n",
    "    frame = plt.gca()\n",
    "    frame.axes.get_xaxis().set_visible(False)\n",
    "    frame.axes.get_yaxis().set_visible(False)\n",
    "    plt.title('Clusters found by {}'.format(str(algorithm.__name__)), fontsize=14)"
   ]
  },
  {
   "cell_type": "code",
   "execution_count": null,
   "id": "0ae4e71b",
   "metadata": {
    "scrolled": true
   },
   "outputs": [],
   "source": [
    "# plot the clusters\n",
    "newdims = (11, 8)\n",
    "plt.subplots(1, 1, figsize=newdims)\n",
    "plt.subplot(1, 1, 1)\n",
    "plot_clusters(new_vectors, cluster.KMeans, (), {'n_clusters':20})"
   ]
  },
  {
   "cell_type": "markdown",
   "id": "fcfc5879",
   "metadata": {},
   "source": [
    "#### Word Cloud"
   ]
  },
  {
   "cell_type": "code",
   "execution_count": null,
   "id": "e8655adf",
   "metadata": {},
   "outputs": [],
   "source": [
    "# word cloud with best K\n",
    "km = KMeans(n_clusters=20, init = 'k-means++')\n",
    "km = km.fit(new_vectors)\n",
    "labels = km.predict(new_vectors)\n",
    "    \n",
    "clusters = list(labels)\n",
    "\n",
    "kmeans_result={'cluster':clusters,'reviews':email_df.data_new}\n",
    "kmeans_result=pd.DataFrame(kmeans_result)\n",
    "for k in range(0,20):\n",
    "   s=kmeans_result[kmeans_result.cluster==k]\n",
    "   text=s['reviews'].str.cat(sep=' ')\n",
    "   text=text.lower()\n",
    "   text=' '.join([word for word in text.split()])\n",
    "   wordcloud = WordCloud(max_font_size=50, max_words=100, background_color=\"white\").generate(text)\n",
    "   plt.figure()\n",
    "   plt.imshow(wordcloud, interpolation=\"bilinear\")\n",
    "   plt.axis(\"off\")\n",
    "   plt.show()"
   ]
  },
  {
   "cell_type": "markdown",
   "id": "cd21f223",
   "metadata": {},
   "source": [
    "### Naive Bayes Classification"
   ]
  },
  {
   "cell_type": "markdown",
   "id": "1fdb6e3b",
   "metadata": {},
   "source": [
    "It is a classification technique based on Bayes’ Theorem with an assumption of independence among predictors. In simple terms, a Naive Bayes classifier assumes that the presence of a particular feature in a class is unrelated to the presence of any other feature."
   ]
  },
  {
   "cell_type": "code",
   "execution_count": null,
   "id": "f0d5a8ec",
   "metadata": {},
   "outputs": [],
   "source": [
    "def displayModel_metrics(best_model, grid_model, features, target, cv):\n",
    "    metrics = cross_validate(best_model, features, y=target, cv=cv, \n",
    "                             scoring=['accuracy','precision','recall'], return_train_score=True) \n",
    "    \n",
    "    y_predict = cross_val_predict(best_model, features, target, cv=cv)\n",
    "\n",
    "    print('\\nBest Accuracy with Grid Search            : {:.3f}'.format(grid_model.best_score_))\n",
    "    print('\\nTraining data Metrics')\n",
    "    print('\\n     The average accuraccy : {:.3f}'.format(metrics['train_accuracy'].mean()))\n",
    "    print('     The average precision : {:.3f}'.format(metrics['train_precision'].mean()))\n",
    "    print('     The average recall    : {:.3f}'.format(metrics['train_recall'].mean()))\n",
    "\n",
    "    print('\\nTest data Metrics')\n",
    "    print('\\n     The average accuracy  : {:.3f}'.format(metrics['test_accuracy'].mean()))\n",
    "    print('     The average precision : {:.3f}'.format(metrics['test_precision'].mean()))\n",
    "    print('     The average  recall   : {:.3f}'.format(metrics['test_recall'].mean()))\n",
    "    \n",
    "    matrix = classification_report(target, y_predict, labels=[1,0])\n",
    "    print('\\nClassification report\\n')\n",
    "    print(matrix)\n",
    "\n",
    "    \n",
    "    \n",
    "# Reference https://github.com/jakemdrew/DataMiningNotebooks/blob/master/06.%20Classification.ipynb\n",
    "# ROC curve plot\n",
    "def roc_curve_plot(model_fit, features, target):\n",
    "\n",
    "    sns.set_palette(\"dark\")\n",
    "\n",
    "    yhat_score = model_fit.predict_proba(features)\n",
    "\n",
    "    # Compute ROC curve for a subset of interesting classes\n",
    "    fpr = dict()\n",
    "    tpr = dict()\n",
    "    roc_auc = dict()\n",
    "    for i in np.unique(target):\n",
    "        fpr[i], tpr[i], _ = mt.roc_curve(target, yhat_score[:, i], pos_label=i)\n",
    "        roc_auc[i] = mt.auc(fpr[i], tpr[i])\n",
    "\n",
    "    for i in np.unique(target):\n",
    "        plt.plot(fpr[i], tpr[i], label= ('class %d (area = %0.2f)' % (i, roc_auc[i])))\n",
    "    plt.plot([0, 1], [0, 1], color='navy', lw=2, linestyle='--')\n",
    "\n",
    "    plt.legend(loc=\"lower right\")  \n",
    "    plt.title('Receiver operating characteristic')\n",
    "    plt.xlabel('False Positive Rate')\n",
    "    plt.ylabel('True Positive Rate')\n",
    "    plt.show()"
   ]
  },
  {
   "cell_type": "code",
   "execution_count": null,
   "id": "f126e5e3",
   "metadata": {},
   "outputs": [],
   "source": [
    "#Create Cross Validation Procedure\n",
    "cv = StratifiedKFold(n_splits=10, random_state=1234, shuffle=True)"
   ]
  },
  {
   "cell_type": "code",
   "execution_count": null,
   "id": "aa0eee4e",
   "metadata": {},
   "outputs": [],
   "source": [
    "# Naive Bayes (NB) classifier \n",
    "clf = MultinomialNB().fit(new_vectors,email_df['target'])"
   ]
  },
  {
   "cell_type": "code",
   "execution_count": null,
   "id": "605fafe0",
   "metadata": {},
   "outputs": [],
   "source": [
    "# define parameters\n",
    "C_nb = [0.0001, 0.001, 0.01, 0.1, 1, 10, 100, 1000]  \n",
    "nb_prior=[True, False]\n",
    "\n",
    "nb_clf = MultinomialNB()\n",
    "# define grid search\n",
    "param_grid_nb = dict(alpha=C_nb, fit_prior=nb_prior)\n",
    "\n",
    "grid_search_nb = GridSearchCV(estimator=nb_clf, param_grid=param_grid_nb, n_jobs=-1, cv=cv, \n",
    "                              scoring='accuracy',error_score=0)"
   ]
  },
  {
   "cell_type": "code",
   "execution_count": null,
   "id": "e0f247b1",
   "metadata": {},
   "outputs": [],
   "source": [
    "%%time\n",
    "grid_result_nb = grid_search_nb.fit(new_vectors,email_df['target'])\n",
    "# summarize results\n",
    "print(\"Best: %f using %s\" % (grid_result_nb.best_score_, grid_result_nb.best_params_))\n",
    "means = grid_result_nb.cv_results_['mean_test_score']\n",
    "stds = grid_result_nb.cv_results_['std_test_score']\n",
    "params = grid_result_nb.cv_results_['params']\n",
    "for mean, stdev, param in zip(means, stds, params):\n",
    "    print(\"%f (%f) with: %r\" % (mean, stdev, param))"
   ]
  },
  {
   "cell_type": "code",
   "execution_count": null,
   "id": "f5ccb02c",
   "metadata": {},
   "outputs": [],
   "source": [
    "# The GridSearch algorithm determined the following optimal parameters\n",
    "best_Estimator_nb =grid_result_nb.best_estimator_\n",
    "best_Estimator_nb"
   ]
  },
  {
   "cell_type": "code",
   "execution_count": null,
   "id": "4a9777d3",
   "metadata": {},
   "outputs": [],
   "source": [
    "# Display model metrics\n",
    "displayModel_metrics(best_Estimator_nb, grid_result_nb, new_vectors,email_df['target'], cv)"
   ]
  },
  {
   "cell_type": "code",
   "execution_count": null,
   "id": "4b567f84",
   "metadata": {},
   "outputs": [],
   "source": [
    "# Plot ROC curve\n",
    "roc_curve_plot(grid_result_nb, new_vectors, email_df['target'])"
   ]
  },
  {
   "cell_type": "markdown",
   "id": "b8842f05",
   "metadata": {},
   "source": [
    "### Naive Bayes Classification with clusters as feature"
   ]
  },
  {
   "cell_type": "code",
   "execution_count": null,
   "id": "85d6b7dc",
   "metadata": {},
   "outputs": [],
   "source": [
    "df = pd.DataFrame(new_vectors)\n",
    "df['clusters'] = clusters"
   ]
  },
  {
   "cell_type": "code",
   "execution_count": null,
   "id": "59e49723",
   "metadata": {},
   "outputs": [],
   "source": [
    "df.head()"
   ]
  },
  {
   "cell_type": "code",
   "execution_count": null,
   "id": "f9aba5b1",
   "metadata": {},
   "outputs": [],
   "source": [
    "%%time\n",
    "grid_result_nb = grid_search_nb.fit(df,email_df['target'])\n",
    "# summarize results\n",
    "print(\"Best: %f using %s\" % (grid_result_nb.best_score_, grid_result_nb.best_params_))\n",
    "means = grid_result_nb.cv_results_['mean_test_score']\n",
    "stds = grid_result_nb.cv_results_['std_test_score']\n",
    "params = grid_result_nb.cv_results_['params']\n",
    "for mean, stdev, param in zip(means, stds, params):\n",
    "    print(\"%f (%f) with: %r\" % (mean, stdev, param))"
   ]
  },
  {
   "cell_type": "code",
   "execution_count": null,
   "id": "ada0edd1",
   "metadata": {},
   "outputs": [],
   "source": [
    "# The GridSearch algorithm determined the following optimal parameters\n",
    "best_Estimator_nb =grid_result_nb.best_estimator_\n",
    "best_Estimator_nb"
   ]
  },
  {
   "cell_type": "code",
   "execution_count": null,
   "id": "a5310c67",
   "metadata": {},
   "outputs": [],
   "source": [
    "# Display model metrics\n",
    "displayModel_metrics(best_Estimator_nb, grid_result_nb, new_vectors,email_df['target'], cv)"
   ]
  },
  {
   "cell_type": "code",
   "execution_count": null,
   "id": "50b640c3",
   "metadata": {},
   "outputs": [],
   "source": [
    "# Plot ROC curve\n",
    "roc_curve_plot(grid_result_nb, new_vectors, email_df['target'])"
   ]
  }
 ],
 "metadata": {
  "kernelspec": {
   "display_name": "Python 3 (ipykernel)",
   "language": "python",
   "name": "python3"
  },
  "language_info": {
   "codemirror_mode": {
    "name": "ipython",
    "version": 3
   },
   "file_extension": ".py",
   "mimetype": "text/x-python",
   "name": "python",
   "nbconvert_exporter": "python",
   "pygments_lexer": "ipython3",
   "version": "3.9.7"
  }
 },
 "nbformat": 4,
 "nbformat_minor": 5
}
